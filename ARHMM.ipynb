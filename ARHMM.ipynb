{
 "cells": [
  {
   "cell_type": "code",
   "execution_count": 11,
   "metadata": {},
   "outputs": [],
   "source": [
    "import sys\n",
    "import os\n",
    "import ssm\n",
    "import itertools\n",
    "import pickle \n",
    "import copy\n",
    "\n",
    "import autograd.numpy          as np\n",
    "import pandas                  as pd\n",
    "\n",
    "import matplotlib.pyplot       as plt\n",
    "import seaborn                 as sns\n",
    "from   matplotlib.ticker       import FuncFormatter\n",
    "\n",
    "\n",
    "from   sklearn.model_selection import KFold\n",
    "from   sklearn.mixture         import GaussianMixture\n",
    "\n",
    "from   joblib                  import Parallel, delayed\n",
    "\n",
    "sns.set_style(\"white\")\n",
    "#sns.set_context(\"talk\")\n",
    "\n",
    "def train_model_parallel(rep, time_series, k=10, num_features=15, obs='ar', lag=1):\n",
    "    if obs=='ar':\n",
    "        model = ssm.HMM(k, num_features, \n",
    "                        init_method='kmeans',\n",
    "                        observations=obs, observation_kwargs={'lags': lag},\n",
    "                        method='stochastic_em', \n",
    "                        transitions='standard')\n",
    "    else:\n",
    "        model = ssm.HMM(k, num_features, \n",
    "                        init_method='kmeans',\n",
    "                        observations=obs,\n",
    "                        method='stochastic_em', \n",
    "                        transitions='standard')\n",
    "        \n",
    "    ll = model.fit(time_series, num_iters=500, tolerance=1e-3)\n",
    "    \n",
    "    return model"
   ]
  },
  {
   "cell_type": "markdown",
   "metadata": {},
   "source": [
    "## Autoregressive Hidden Markov Models for modelling baby movement\n",
    "Using the [ssm](https://github.com/lindermanlab/ssm) package.  \n",
    "\n",
    "### Aims\n",
    "- Fit (AR)HMM models to pre-processed movement data  \n",
    "- Compare model fit when including autoregressive terms in observations  \n",
    "- Use cross-validation to determine number of hidden states and lag\n",
    "\n",
    "Using Hidden Markov Models (HMM), a continuous, $D$-dimension $\\times$ $t$-timestep timeseries, $X$, can be modelled as a Markov process, $Z$, with a set of $K$ hidden states, {$z_1$, $z_2$, $...$, $z_k$}, that are not directly observable. Each state is associated with a $D$-dimensional mean $\\mu_k$ and $D \\times D$ covariance matrix $S_k$ from which the multivariate observations are drawn at each time step. The hidden states are assumed to progress as a Markov process, where the next state is dependent only on the current state: $p(z_t | z_{t-1})$. Switches between states are governed by a $K \\times K$ transition matrix, $T$ containing state transition probabilities, $\\phi$, where $\\phi_{zz'}$ indicates the probability of transitioning from state $z$ at time $t$ to state $z'$ at time $t+1$. As any given state is only dependent on the previous state, HMMs do not capture autocorrelations in timeseries data.\n",
    "\n",
    "In an AutoRegressive HMM (ARHMM), the observations, $x_t$ at time $t$ are dependent on $both$ the hidden state, $z_t$, and the observations at previous timespoints, {$x_{t-1}$, $x_{t-2}$, $...$, $x_{t-n}$} with $n$ determined by the degree of lag specified. As such the observation model for a given state, $z_k$, is defined as:\n",
    "\n",
    "$$ x_t | x_{t-1:L}, z_k \\sim N(\\sum_{l=1}^LA_k^{(l)}x_{t-l}+b_k,S_k)$$   \n",
    "\n",
    ".... i think this is the right formulation for multiple lags...\n",
    "\n",
    "where $x_t$ is a set of observations at time $t$, $A_k^{(l)}$ is a matrix containing the linear dynamics for the given state (the relationship between observations at time $t$ and at a given lag, $l$), $b_k$ is a state-dependent bias (average value of each variable in each state) and $S_k$ is a state-dependent covariance function, modelling observation noise.\n",
    "\n",
    "<img src=\"graphical_model.png\" width=\"500\"/>\n",
    "\n",
    "\n"
   ]
  },
  {
   "cell_type": "markdown",
   "metadata": {},
   "source": [
    "### Parameters"
   ]
  },
  {
   "cell_type": "code",
   "execution_count": 2,
   "metadata": {},
   "outputs": [],
   "source": [
    "CV = 5 # number of cross-validation folds\n",
    "ITER = 500\n",
    "TOL = 1e-2\n",
    "\n",
    "# ARHMM\n",
    "ARHMM_OBS = ['ar']\n",
    "ARHMM_K = [1, 2, 5, 8, 10, 15] #k=1 is standard AR\n",
    "ARHMM_LAGS = [1, 2]\n",
    "ARHMM_PARAMS = list(itertools.product(ARHMM_OBS, ARHMM_K, ARHMM_LAGS))\n",
    "\n",
    "# HMM (no autoregression)\n",
    "HMM_OBS = ['gaussian']\n",
    "HMM_K = [1, 2, 5, 8, 10, 15]\n",
    "HMM_PARAMS = list(itertools.product(HMM_OBS, HMM_K))\n",
    "\n",
    "ALL_HMM_PARAMS =  ARHMM_PARAMS + HMM_PARAMS\n",
    "\n",
    "# GMM (no state progression)\n",
    "GMM_OBS = ['full']\n",
    "GMM_K = [1, 2, 5, 8, 10, 15]\n",
    "\n",
    "GMM_PARAMS = list(itertools.product(GMM_OBS, GMM_K))\n",
    "\n",
    "RAND_STATE = 1001"
   ]
  },
  {
   "cell_type": "markdown",
   "metadata": {},
   "source": [
    "### Load preprocessed data\n",
    "\n",
    "Data represents a $subject \\times feature \\times timepoint$ array. Where $features$ are the framewise velocities (first derivative) of principal movements extracted from keypoint trajectory data. Subect data are split into cross-validation folds, ensuring no subject has video in both test and train in any given fold."
   ]
  },
  {
   "cell_type": "code",
   "execution_count": 3,
   "metadata": {},
   "outputs": [
    {
     "name": "stdout",
     "output_type": "stream",
     "text": [
      "data shape:  (100, 15, 1800)\n"
     ]
    }
   ],
   "source": [
    "data = np.load('outputs/random_subset_processed_timeseries_data.npy')\n",
    "info = pd.read_csv('outputs/random_subset_info.csv')\n",
    "os.makedirs('outputs/cv-samples', exist_ok=True)\n",
    "\n",
    "print('data shape: ', np.shape(data))\n",
    "num_vids, num_features, num_timepoints = data.shape\n",
    "\n",
    "#train test \n",
    "# split on participant (not video) to ensure that same subject data are not in both train and test\n",
    "unique_participants = info.drop_duplicates(subset = 'idnum', keep = 'first')\n",
    "X = unique_participants['idnum'].values\n",
    "\n",
    "# get splits\n",
    "kf = KFold(n_splits=CV, shuffle=True, random_state=RAND_STATE).split(X)\n",
    "\n",
    "# get participant train and test ids for each fold\n",
    "kfold_idx = [(X[train_idx], X[test_idx]) for train_idx, test_idx in kf]\n",
    "\n",
    "# get index in 'info' and 'data' for entries that match the unique participant id\n",
    "kfold_idx = [(np.where(info['idnum'].isin(trainidx))[0], np.where(info['idnum'].isin(testidx))[0])  for trainidx, testidx in kfold_idx]\n",
    "\n",
    "# check there are no participants in both train and test in a given fold\n",
    "for k in np.arange(CV):\n",
    "    assert len(set(info.iloc[kfold_idx[k][0]].participant.unique()) & set(info.iloc[kfold_idx[k][1]].participant.unique())) == 0"
   ]
  },
  {
   "cell_type": "markdown",
   "metadata": {},
   "source": [
    "### Run cross-validation\n",
    "HMMs for each parameter set are run in a k-fold cross-valisation with per-observation average log likelihood in both train and test data and AIC as a measure of model fit. The score reflect the likelihood that a given $D$-dimensional observation could have been generated by a given model. We compare ARHMM at different lags and with different states with standard HMM (no autocorrelation) over a number of states and Gaussian Mixture Models (stationary model where observations are simply drawn from separate distributions and we do not model state progression). \n",
    "\n",
    "Models are trained for a maximum of 200 Expectation-Maximisation iterations, stopping early if change in log-likelihood is less than 0.01\n"
   ]
  },
  {
   "cell_type": "code",
   "execution_count": 4,
   "metadata": {
    "scrolled": true
   },
   "outputs": [
    {
     "name": "stdout",
     "output_type": "stream",
     "text": [
      "FOLD 1----------------------------------------------\n",
      "fitting ar model with k=1 and lags=1\n"
     ]
    },
    {
     "data": {
      "application/vnd.jupyter.widget-view+json": {
       "model_id": "1ee996df7a414b5896bef7713c07dbbf",
       "version_major": 2,
       "version_minor": 0
      },
      "text/plain": [
       "  0%|          | 0/500 [00:00<?, ?it/s]"
      ]
     },
     "metadata": {},
     "output_type": "display_data"
    },
    {
     "name": "stdout",
     "output_type": "stream",
     "text": [
      "training LL: -19.85  training AIC: 5571175.59  training BIC: 5575776.33  testing LL: -19.89  testing AIC 1575082.19  testing BIC: 1579091.86\n",
      "sample mean rle: 179.90\n",
      "\n",
      "-----------------------------------------------\n",
      "fitting ar model with k=1 and lags=2\n"
     ]
    },
    {
     "data": {
      "application/vnd.jupyter.widget-view+json": {
       "model_id": "5e246ee48a504682929751a42410aa02",
       "version_major": 2,
       "version_minor": 0
      },
      "text/plain": [
       "  0%|          | 0/500 [00:00<?, ?it/s]"
      ]
     },
     "metadata": {},
     "output_type": "display_data"
    },
    {
     "name": "stdout",
     "output_type": "stream",
     "text": [
      "training LL: -19.34  training AIC: 5427919.99  training BIC: 5434737.37  testing LL: -19.27  testing AIC 1526954.59  testing BIC: 1532896.12\n",
      "sample mean rle: 179.90\n",
      "\n",
      "-----------------------------------------------\n",
      "fitting ar model with k=2 and lags=1\n"
     ]
    },
    {
     "data": {
      "application/vnd.jupyter.widget-view+json": {
       "model_id": "7811e5014ec24284a552f73ac0b9440e",
       "version_major": 2,
       "version_minor": 0
      },
      "text/plain": [
       "  0%|          | 0/500 [00:00<?, ?it/s]"
      ]
     },
     "metadata": {},
     "output_type": "display_data"
    },
    {
     "name": "stdout",
     "output_type": "stream",
     "text": [
      "training LL: -16.96  training AIC: 4762094.94  training BIC: 4771316.12  testing LL: -17.09  testing AIC 1354863.20  testing BIC: 1362899.72\n",
      "sample mean rle: 0.47\n",
      "\n",
      "-----------------------------------------------\n",
      "fitting ar model with k=2 and lags=2\n"
     ]
    },
    {
     "data": {
      "application/vnd.jupyter.widget-view+json": {
       "model_id": "c5d90d7fdd604114b31bf772fab901b4",
       "version_major": 2,
       "version_minor": 0
      },
      "text/plain": [
       "  0%|          | 0/500 [00:00<?, ?it/s]"
      ]
     },
     "metadata": {},
     "output_type": "display_data"
    },
    {
     "name": "stdout",
     "output_type": "stream",
     "text": [
      "training LL: -16.52  training AIC: 4639911.23  training BIC: 4653565.68  testing LL: -16.57  testing AIC 1314363.48  testing BIC: 1326263.72\n",
      "sample mean rle: 0.46\n",
      "\n",
      "-----------------------------------------------\n",
      "fitting ar model with k=5 and lags=1\n"
     ]
    },
    {
     "data": {
      "application/vnd.jupyter.widget-view+json": {
       "model_id": "f78670d8aeb84a9cb31b9419ce7a2080",
       "version_major": 2,
       "version_minor": 0
      },
      "text/plain": [
       "  0%|          | 0/500 [00:00<?, ?it/s]"
      ]
     },
     "metadata": {},
     "output_type": "display_data"
    },
    {
     "name": "stdout",
     "output_type": "stream",
     "text": [
      "training LL: -15.61  training AIC: 4384695.16  training BIC: 4407895.90  testing LL: -15.75  testing AIC 1251199.10  testing BIC: 1271419.20\n",
      "sample mean rle: 0.27\n",
      "\n",
      "-----------------------------------------------\n",
      "fitting ar model with k=5 and lags=2\n"
     ]
    },
    {
     "data": {
      "application/vnd.jupyter.widget-view+json": {
       "model_id": "0e66c19f09a847459bd92ae27bf86341",
       "version_major": 2,
       "version_minor": 0
      },
      "text/plain": [
       "  0%|          | 0/500 [00:00<?, ?it/s]"
      ]
     },
     "metadata": {},
     "output_type": "display_data"
    },
    {
     "name": "stdout",
     "output_type": "stream",
     "text": [
      "training LL: -15.19  training AIC: 4269566.20  training BIC: 4303850.10  testing LL: -15.25  testing AIC 1214333.88  testing BIC: 1244213.26\n",
      "sample mean rle: 0.28\n",
      "\n",
      "-----------------------------------------------\n",
      "fitting ar model with k=8 and lags=1\n"
     ]
    },
    {
     "data": {
      "application/vnd.jupyter.widget-view+json": {
       "model_id": "2facd876b2324776ab6ecca6b5bd77ba",
       "version_major": 2,
       "version_minor": 0
      },
      "text/plain": [
       "  0%|          | 0/500 [00:00<?, ?it/s]"
      ]
     },
     "metadata": {},
     "output_type": "display_data"
    },
    {
     "name": "stdout",
     "output_type": "stream",
     "text": [
      "training LL: -15.23  training AIC: 4281801.31  training BIC: 4319158.94  testing LL: -15.39  testing AIC 1225991.88  testing BIC: 1258550.10\n",
      "sample mean rle: 0.22\n",
      "\n",
      "-----------------------------------------------\n",
      "fitting ar model with k=8 and lags=2\n"
     ]
    },
    {
     "data": {
      "application/vnd.jupyter.widget-view+json": {
       "model_id": "1c4bc6e2cbb34e4ba903dab8ab3fa7ab",
       "version_major": 2,
       "version_minor": 0
      },
      "text/plain": [
       "  0%|          | 0/500 [00:00<?, ?it/s]"
      ]
     },
     "metadata": {},
     "output_type": "display_data"
    },
    {
     "name": "stdout",
     "output_type": "stream",
     "text": [
      "training LL: -14.78  training AIC: 4160318.56  training BIC: 4215409.24  testing LL: -14.89  testing AIC 1189654.78  testing BIC: 1237667.86\n",
      "sample mean rle: 0.22\n",
      "\n",
      "-----------------------------------------------\n",
      "fitting ar model with k=10 and lags=1\n"
     ]
    },
    {
     "data": {
      "application/vnd.jupyter.widget-view+json": {
       "model_id": "8ecd753ba6b340e09b8720a89084f5e6",
       "version_major": 2,
       "version_minor": 0
      },
      "text/plain": [
       "  0%|          | 0/500 [00:00<?, ?it/s]"
      ]
     },
     "metadata": {},
     "output_type": "display_data"
    },
    {
     "name": "stdout",
     "output_type": "stream",
     "text": [
      "training LL: -15.08  training AIC: 4241805.82  training BIC: 4288699.89  testing LL: -15.25  testing AIC 1216532.19  testing BIC: 1257401.69\n",
      "sample mean rle: 0.23\n",
      "\n",
      "-----------------------------------------------\n",
      "fitting ar model with k=10 and lags=2\n"
     ]
    },
    {
     "data": {
      "application/vnd.jupyter.widget-view+json": {
       "model_id": "328e36e1f114403fadaac593ab481154",
       "version_major": 2,
       "version_minor": 0
      },
      "text/plain": [
       "  0%|          | 0/500 [00:00<?, ?it/s]"
      ]
     },
     "metadata": {},
     "output_type": "display_data"
    },
    {
     "name": "stdout",
     "output_type": "stream",
     "text": [
      "training LL: -14.64  training AIC: 4122990.70  training BIC: 4192051.08  testing LL: -14.76  testing AIC 1182279.87  testing BIC: 1242467.93\n",
      "sample mean rle: 0.21\n",
      "\n",
      "-----------------------------------------------\n",
      "fitting ar model with k=15 and lags=1\n"
     ]
    },
    {
     "data": {
      "application/vnd.jupyter.widget-view+json": {
       "model_id": "c2b2155e5d924c1095329b1cc40d3449",
       "version_major": 2,
       "version_minor": 0
      },
      "text/plain": [
       "  0%|          | 0/500 [00:00<?, ?it/s]"
      ]
     },
     "metadata": {},
     "output_type": "display_data"
    },
    {
     "name": "stdout",
     "output_type": "stream",
     "text": [
      "training LL: -14.81  training AIC: 4170849.98  training BIC: 4241929.96  testing LL: -15.03  testing AIC 1204276.93  testing BIC: 1266225.12\n",
      "sample mean rle: 0.19\n",
      "\n",
      "-----------------------------------------------\n",
      "fitting ar model with k=15 and lags=2\n"
     ]
    },
    {
     "data": {
      "application/vnd.jupyter.widget-view+json": {
       "model_id": "adad441e29c94ba2889fb752c631607d",
       "version_major": 2,
       "version_minor": 0
      },
      "text/plain": [
       "  0%|          | 0/500 [00:00<?, ?it/s]"
      ]
     },
     "metadata": {},
     "output_type": "display_data"
    },
    {
     "name": "stdout",
     "output_type": "stream",
     "text": [
      "training LL: -14.35  training AIC: 4048880.97  training BIC: 4153210.42  testing LL: -14.55  testing AIC 1172888.84  testing BIC: 1263814.88\n",
      "sample mean rle: 0.20\n",
      "\n",
      "-----------------------------------------------\n",
      "fitting gaussian model with k=1\n"
     ]
    },
    {
     "data": {
      "application/vnd.jupyter.widget-view+json": {
       "model_id": "50ff09b76c1b4eb98e40cc891770cd98",
       "version_major": 2,
       "version_minor": 0
      },
      "text/plain": [
       "  0%|          | 0/500 [00:00<?, ?it/s]"
      ]
     },
     "metadata": {},
     "output_type": "display_data"
    },
    {
     "name": "stdout",
     "output_type": "stream",
     "text": [
      "training LL: -20.66  training AIC: 5799517.43  training BIC: 5801901.54  testing LL: -20.79  testing AIC 1646032.84  testing BIC: 1648110.66\n",
      "sample mean rle: 179.90\n",
      "\n",
      "-----------------------------------------------\n",
      "fitting gaussian model with k=2\n"
     ]
    },
    {
     "data": {
      "application/vnd.jupyter.widget-view+json": {
       "model_id": "4e82c4d856194c42869ceaf852a7f41f",
       "version_major": 2,
       "version_minor": 0
      },
      "text/plain": [
       "  0%|          | 0/500 [00:00<?, ?it/s]"
      ]
     },
     "metadata": {},
     "output_type": "display_data"
    },
    {
     "name": "stdout",
     "output_type": "stream",
     "text": [
      "training LL: -17.80  training AIC: 4997747.10  training BIC: 5002535.02  testing LL: -18.06  testing AIC 1430572.08  testing BIC: 1434744.89\n",
      "sample mean rle: 0.49\n",
      "\n",
      "-----------------------------------------------\n",
      "fitting gaussian model with k=5\n"
     ]
    },
    {
     "data": {
      "application/vnd.jupyter.widget-view+json": {
       "model_id": "395b5727b77f4b67ba670c7a7154936a",
       "version_major": 2,
       "version_minor": 0
      },
      "text/plain": [
       "  0%|          | 0/500 [00:00<?, ?it/s]"
      ]
     },
     "metadata": {},
     "output_type": "display_data"
    },
    {
     "name": "stdout",
     "output_type": "stream",
     "text": [
      "training LL: -16.44  training AIC: 4616633.55  training BIC: 4628751.13  testing LL: -16.71  testing AIC 1325082.36  testing BIC: 1335643.17\n",
      "sample mean rle: 0.29\n",
      "\n",
      "-----------------------------------------------\n",
      "fitting gaussian model with k=8\n"
     ]
    },
    {
     "data": {
      "application/vnd.jupyter.widget-view+json": {
       "model_id": "7ce7584ecf2e4e31a9f6a28209d2c7ed",
       "version_major": 2,
       "version_minor": 0
      },
      "text/plain": [
       "  0%|          | 0/500 [00:00<?, ?it/s]"
      ]
     },
     "metadata": {},
     "output_type": "display_data"
    },
    {
     "name": "stdout",
     "output_type": "stream",
     "text": [
      "training LL: -16.08  training AIC: 4517229.44  training BIC: 4536854.02  testing LL: -16.35  testing AIC 1298025.58  testing BIC: 1315128.95\n",
      "sample mean rle: 0.25\n",
      "\n",
      "-----------------------------------------------\n",
      "fitting gaussian model with k=10\n"
     ]
    },
    {
     "data": {
      "application/vnd.jupyter.widget-view+json": {
       "model_id": "4feddaa2649b496197d561399e63dac2",
       "version_major": 2,
       "version_minor": 0
      },
      "text/plain": [
       "  0%|          | 0/500 [00:00<?, ?it/s]"
      ]
     },
     "metadata": {},
     "output_type": "display_data"
    },
    {
     "name": "stdout",
     "output_type": "stream",
     "text": [
      "training LL: -15.92  training AIC: 4472544.31  training BIC: 4497272.07  testing LL: -16.21  testing AIC 1287873.58  testing BIC: 1309424.52\n",
      "sample mean rle: 0.26\n",
      "\n",
      "-----------------------------------------------\n",
      "fitting gaussian model with k=15\n"
     ]
    },
    {
     "data": {
      "application/vnd.jupyter.widget-view+json": {
       "model_id": "a2e7c17465484265b0a767f59f7067fe",
       "version_major": 2,
       "version_minor": 0
      },
      "text/plain": [
       "  0%|          | 0/500 [00:00<?, ?it/s]"
      ]
     },
     "metadata": {},
     "output_type": "display_data"
    },
    {
     "name": "stdout",
     "output_type": "stream",
     "text": [
      "training LL: -15.67  training AIC: 4405142.31  training BIC: 4442972.82  testing LL: -15.98  testing AIC 1272898.86  testing BIC: 1305869.21\n",
      "sample mean rle: 0.24\n",
      "\n",
      "-----------------------------------------------\n",
      "fitting gaussian mixture model with k=1\n",
      "training LL: -20.66  training AIC: 5799303.43  training BIC: 5800633.41  testing LL: -20.79  testing AIC 1645818.82  testing BIC: 1646977.93\n",
      "\n",
      "-----------------------------------------------\n",
      "fitting gaussian mixture model with k=2\n",
      "training LL: -17.98  training AIC: 5046124.86  training BIC: 5048794.67  testing LL: -18.24  testing AIC 1444175.88  testing BIC: 1446502.70\n",
      "\n",
      "-----------------------------------------------\n",
      "fitting gaussian mixture model with k=5\n",
      "training LL: -16.90  training AIC: 4743817.43  training BIC: 4750506.73  testing LL: -17.18  testing AIC 1361242.36  testing BIC: 1367072.27\n",
      "\n",
      "-----------------------------------------------\n",
      "fitting gaussian mixture model with k=8\n",
      "training LL: -16.59  training AIC: 4657946.65  training BIC: 4668655.44  testing LL: -16.88  testing AIC 1338294.53  testing BIC: 1347627.54\n",
      "\n",
      "-----------------------------------------------\n",
      "fitting gaussian mixture model with k=10\n",
      "training LL: -16.51  training AIC: 4634867.90  training BIC: 4648256.35  testing LL: -16.80  testing AIC 1332826.05  testing BIC: 1344494.46\n",
      "\n",
      "-----------------------------------------------\n",
      "fitting gaussian mixture model with k=15\n",
      "training LL: -16.35  training AIC: 4591336.86  training BIC: 4611424.47  testing LL: -16.68  testing AIC 1324138.79  testing BIC: 1341645.70\n",
      "\n",
      "-----------------------------------------------\n",
      "FOLD 2----------------------------------------------\n",
      "fitting ar model with k=1 and lags=1\n"
     ]
    },
    {
     "data": {
      "application/vnd.jupyter.widget-view+json": {
       "model_id": "96dcb5287daf488c9f8049e9637cc738",
       "version_major": 2,
       "version_minor": 0
      },
      "text/plain": [
       "  0%|          | 0/500 [00:00<?, ?it/s]"
      ]
     },
     "metadata": {},
     "output_type": "display_data"
    },
    {
     "name": "stdout",
     "output_type": "stream",
     "text": [
      "training LL: -19.78  training AIC: 5693892.25  training BIC: 5698504.82  testing LL: -20.17  testing AIC 1452228.43  testing BIC: 1456193.59\n",
      "sample mean rle: 179.90\n",
      "\n",
      "-----------------------------------------------\n",
      "fitting ar model with k=1 and lags=2\n"
     ]
    },
    {
     "data": {
      "application/vnd.jupyter.widget-view+json": {
       "model_id": "2c88975170a94b0dae90b888fb32ba7e",
       "version_major": 2,
       "version_minor": 0
      },
      "text/plain": [
       "  0%|          | 0/500 [00:00<?, ?it/s]"
      ]
     },
     "metadata": {},
     "output_type": "display_data"
    },
    {
     "name": "stdout",
     "output_type": "stream",
     "text": [
      "training LL: -19.22  training AIC: 5532830.28  training BIC: 5539665.17  testing LL: -19.75  testing AIC 1422514.99  testing BIC: 1428390.56\n",
      "sample mean rle: 179.90\n",
      "\n",
      "-----------------------------------------------\n",
      "fitting ar model with k=2 and lags=1\n"
     ]
    },
    {
     "data": {
      "application/vnd.jupyter.widget-view+json": {
       "model_id": "d4f9ccee33e04031b404fbc4128a45a6",
       "version_major": 2,
       "version_minor": 0
      },
      "text/plain": [
       "  0%|          | 0/500 [00:00<?, ?it/s]"
      ]
     },
     "metadata": {},
     "output_type": "display_data"
    },
    {
     "name": "stdout",
     "output_type": "stream",
     "text": [
      "training LL: -16.84  training AIC: 4849816.13  training BIC: 4859061.02  testing LL: -17.59  testing AIC 1267292.95  testing BIC: 1275240.26\n",
      "sample mean rle: 0.46\n",
      "\n",
      "-----------------------------------------------\n",
      "fitting ar model with k=2 and lags=2\n"
     ]
    },
    {
     "data": {
      "application/vnd.jupyter.widget-view+json": {
       "model_id": "913d2402c5344889a7f06e25d48d1064",
       "version_major": 2,
       "version_minor": 0
      },
      "text/plain": [
       "  0%|          | 0/500 [00:00<?, ?it/s]"
      ]
     },
     "metadata": {},
     "output_type": "display_data"
    },
    {
     "name": "stdout",
     "output_type": "stream",
     "text": [
      "training LL: -16.36  training AIC: 4713081.53  training BIC: 4726771.07  testing LL: -17.22  testing AIC 1241575.23  testing BIC: 1253343.37\n",
      "sample mean rle: 0.46\n",
      "\n",
      "-----------------------------------------------\n",
      "fitting ar model with k=5 and lags=1\n"
     ]
    },
    {
     "data": {
      "application/vnd.jupyter.widget-view+json": {
       "model_id": "e3f88c982ef04538a93e09943b4f07ae",
       "version_major": 2,
       "version_minor": 0
      },
      "text/plain": [
       "  0%|          | 0/500 [00:00<?, ?it/s]"
      ]
     },
     "metadata": {},
     "output_type": "display_data"
    },
    {
     "name": "stdout",
     "output_type": "stream",
     "text": [
      "training LL: -15.46  training AIC: 4454906.52  training BIC: 4478166.88  testing LL: -16.34  testing AIC 1180700.77  testing BIC: 1200696.41\n",
      "sample mean rle: 0.27\n",
      "\n",
      "-----------------------------------------------\n",
      "fitting ar model with k=5 and lags=2\n"
     ]
    },
    {
     "data": {
      "application/vnd.jupyter.widget-view+json": {
       "model_id": "617e1ef1d7e74327aa0643edf37f2483",
       "version_major": 2,
       "version_minor": 0
      },
      "text/plain": [
       "  0%|          | 0/500 [00:00<?, ?it/s]"
      ]
     },
     "metadata": {},
     "output_type": "display_data"
    },
    {
     "name": "stdout",
     "output_type": "stream",
     "text": [
      "training LL: -15.01  training AIC: 4326226.01  training BIC: 4360598.02  testing LL: -15.99  testing AIC 1157576.77  testing BIC: 1187124.47\n",
      "sample mean rle: 0.27\n",
      "\n",
      "-----------------------------------------------\n",
      "fitting ar model with k=8 and lags=1\n"
     ]
    },
    {
     "data": {
      "application/vnd.jupyter.widget-view+json": {
       "model_id": "fe6a0332b3e4486da9706824526f2129",
       "version_major": 2,
       "version_minor": 0
      },
      "text/plain": [
       "  0%|          | 0/500 [00:00<?, ?it/s]"
      ]
     },
     "metadata": {},
     "output_type": "display_data"
    },
    {
     "name": "stdout",
     "output_type": "stream",
     "text": [
      "training LL: -15.08  training AIC: 4348586.72  training BIC: 4386040.35  testing LL: -16.03  testing AIC 1161271.95  testing BIC: 1193468.76\n",
      "sample mean rle: 0.22\n",
      "\n",
      "-----------------------------------------------\n",
      "fitting ar model with k=8 and lags=2\n"
     ]
    },
    {
     "data": {
      "application/vnd.jupyter.widget-view+json": {
       "model_id": "ed78ec577cb54787813d3b23e5d43cf7",
       "version_major": 2,
       "version_minor": 0
      },
      "text/plain": [
       "  0%|          | 0/500 [00:00<?, ?it/s]"
      ]
     },
     "metadata": {},
     "output_type": "display_data"
    },
    {
     "name": "stdout",
     "output_type": "stream",
     "text": [
      "training LL: -14.61  training AIC: 4216080.98  training BIC: 4271313.23  testing LL: -15.63  testing AIC 1135573.09  testing BIC: 1183053.18\n",
      "sample mean rle: 0.21\n",
      "\n",
      "-----------------------------------------------\n",
      "fitting ar model with k=10 and lags=1\n"
     ]
    },
    {
     "data": {
      "application/vnd.jupyter.widget-view+json": {
       "model_id": "4fd90ce602f54d38aed06fa65fefb85a",
       "version_major": 2,
       "version_minor": 0
      },
      "text/plain": [
       "  0%|          | 0/500 [00:00<?, ?it/s]"
      ]
     },
     "metadata": {},
     "output_type": "display_data"
    },
    {
     "name": "stdout",
     "output_type": "stream",
     "text": [
      "training LL: -14.91  training AIC: 4302141.06  training BIC: 4349155.64  testing LL: -15.87  testing AIC 1151733.64  testing BIC: 1192149.46\n",
      "sample mean rle: 0.21\n",
      "\n",
      "-----------------------------------------------\n",
      "fitting ar model with k=10 and lags=2\n"
     ]
    },
    {
     "data": {
      "application/vnd.jupyter.widget-view+json": {
       "model_id": "5cd3bcc3f30b4e8ead288b0818fb14b9",
       "version_major": 2,
       "version_minor": 0
      },
      "text/plain": [
       "  0%|          | 0/500 [00:00<?, ?it/s]"
      ]
     },
     "metadata": {},
     "output_type": "display_data"
    },
    {
     "name": "stdout",
     "output_type": "stream",
     "text": [
      "training LL: -14.45  training AIC: 4174350.91  training BIC: 4243588.77  testing LL: -15.51  testing AIC 1130134.38  testing BIC: 1189654.31\n",
      "sample mean rle: 0.19\n",
      "\n",
      "-----------------------------------------------\n",
      "fitting ar model with k=15 and lags=1\n"
     ]
    },
    {
     "data": {
      "application/vnd.jupyter.widget-view+json": {
       "model_id": "cb65d549e56f45058f34b7837cb8eb0f",
       "version_major": 2,
       "version_minor": 0
      },
      "text/plain": [
       "  0%|          | 0/500 [00:00<?, ?it/s]"
      ]
     },
     "metadata": {},
     "output_type": "display_data"
    },
    {
     "name": "stdout",
     "output_type": "stream",
     "text": [
      "training LL: -14.65  training AIC: 4231471.17  training BIC: 4302733.82  testing LL: -15.63  testing AIC 1139377.54  testing BIC: 1200638.07\n",
      "sample mean rle: 0.18\n",
      "\n",
      "-----------------------------------------------\n",
      "fitting ar model with k=15 and lags=2\n"
     ]
    },
    {
     "data": {
      "application/vnd.jupyter.widget-view+json": {
       "model_id": "ca4079bfd3294b6cb0497e2d98524c14",
       "version_major": 2,
       "version_minor": 0
      },
      "text/plain": [
       "  0%|          | 0/500 [00:00<?, ?it/s]"
      ]
     },
     "metadata": {},
     "output_type": "display_data"
    },
    {
     "name": "stdout",
     "output_type": "stream",
     "text": [
      "training LL: -14.19  training AIC: 4104541.55  training BIC: 4209139.12  testing LL: -15.29  testing AIC 1121104.85  testing BIC: 1211021.56\n",
      "sample mean rle: 0.18\n",
      "\n",
      "-----------------------------------------------\n",
      "fitting gaussian model with k=1\n"
     ]
    },
    {
     "data": {
      "application/vnd.jupyter.widget-view+json": {
       "model_id": "72178079c11a413f90fe4d15ed41a534",
       "version_major": 2,
       "version_minor": 0
      },
      "text/plain": [
       "  0%|          | 0/500 [00:00<?, ?it/s]"
      ]
     },
     "metadata": {},
     "output_type": "display_data"
    },
    {
     "name": "stdout",
     "output_type": "stream",
     "text": [
      "training LL: -20.67  training AIC: 5950196.72  training BIC: 5952586.96  testing LL: -20.77  testing AIC 1495008.83  testing BIC: 1497063.58\n",
      "sample mean rle: 179.90\n",
      "\n",
      "-----------------------------------------------\n",
      "fitting gaussian model with k=2\n"
     ]
    },
    {
     "data": {
      "application/vnd.jupyter.widget-view+json": {
       "model_id": "9579ba4cb80e4fdea579add339b599e6",
       "version_major": 2,
       "version_minor": 0
      },
      "text/plain": [
       "  0%|          | 0/500 [00:00<?, ?it/s]"
      ]
     },
     "metadata": {},
     "output_type": "display_data"
    },
    {
     "name": "stdout",
     "output_type": "stream",
     "text": [
      "training LL: -17.77  training AIC: 5114575.15  training BIC: 5119375.38  testing LL: -18.24  testing AIC 1313816.85  testing BIC: 1317943.34\n",
      "sample mean rle: 0.44\n",
      "\n",
      "-----------------------------------------------\n",
      "fitting gaussian model with k=5\n"
     ]
    },
    {
     "data": {
      "application/vnd.jupyter.widget-view+json": {
       "model_id": "1e224bfedfce4d61b1ddde82c1950058",
       "version_major": 2,
       "version_minor": 0
      },
      "text/plain": [
       "  0%|          | 0/500 [00:00<?, ?it/s]"
      ]
     },
     "metadata": {},
     "output_type": "display_data"
    },
    {
     "name": "stdout",
     "output_type": "stream",
     "text": [
      "training LL: -16.38  training AIC: 4716500.92  training BIC: 4728649.64  testing LL: -16.99  testing AIC 1224987.74  testing BIC: 1235431.32\n",
      "sample mean rle: 0.26\n",
      "\n",
      "-----------------------------------------------\n",
      "fitting gaussian model with k=8\n"
     ]
    },
    {
     "data": {
      "application/vnd.jupyter.widget-view+json": {
       "model_id": "7cb6be90aac14f21837d675f26334be6",
       "version_major": 2,
       "version_minor": 0
      },
      "text/plain": [
       "  0%|          | 0/500 [00:00<?, ?it/s]"
      ]
     },
     "metadata": {},
     "output_type": "display_data"
    },
    {
     "name": "stdout",
     "output_type": "stream",
     "text": [
      "training LL: -16.02  training AIC: 4614446.61  training BIC: 4634121.62  testing LL: -16.68  testing AIC 1204292.37  testing BIC: 1221205.88\n",
      "sample mean rle: 0.23\n",
      "\n",
      "-----------------------------------------------\n",
      "fitting gaussian model with k=10\n"
     ]
    },
    {
     "data": {
      "application/vnd.jupyter.widget-view+json": {
       "model_id": "1bc3ff14e840441a8a546c99571363e4",
       "version_major": 2,
       "version_minor": 0
      },
      "text/plain": [
       "  0%|          | 0/500 [00:00<?, ?it/s]"
      ]
     },
     "metadata": {},
     "output_type": "display_data"
    },
    {
     "name": "stdout",
     "output_type": "stream",
     "text": [
      "training LL: -15.84  training AIC: 4564321.65  training BIC: 4589112.95  testing LL: -16.53  testing AIC 1194631.29  testing BIC: 1215942.99\n",
      "sample mean rle: 0.22\n",
      "\n",
      "-----------------------------------------------\n",
      "fitting gaussian model with k=15\n"
     ]
    },
    {
     "data": {
      "application/vnd.jupyter.widget-view+json": {
       "model_id": "10f1bf6f63f1459e967771fa481effc5",
       "version_major": 2,
       "version_minor": 0
      },
      "text/plain": [
       "  0%|          | 0/500 [00:00<?, ?it/s]"
      ]
     },
     "metadata": {},
     "output_type": "display_data"
    },
    {
     "name": "stdout",
     "output_type": "stream",
     "text": [
      "training LL: -15.60  training AIC: 4498252.68  training BIC: 4536180.41  testing LL: -16.32  testing AIC 1181798.04  testing BIC: 1214402.40\n",
      "sample mean rle: 0.21\n",
      "\n",
      "-----------------------------------------------\n",
      "fitting gaussian mixture model with k=1\n",
      "training LL: -20.67  training AIC: 5949982.72  training BIC: 5951316.12  testing LL: -20.77  testing AIC 1494794.81  testing BIC: 1495941.06\n",
      "\n",
      "-----------------------------------------------\n",
      "fitting gaussian mixture model with k=2\n",
      "training LL: -17.95  training AIC: 5165863.21  training BIC: 5168539.88  testing LL: -18.39  testing AIC 1323899.05  testing BIC: 1326200.03\n",
      "\n",
      "-----------------------------------------------\n",
      "fitting gaussian mixture model with k=5\n",
      "training LL: -16.89  training AIC: 4863522.87  training BIC: 4870229.36  testing LL: -17.43  testing AIC 1255934.19  testing BIC: 1261699.39\n",
      "\n",
      "-----------------------------------------------\n",
      "fitting gaussian mixture model with k=8\n",
      "training LL: -16.54  training AIC: 4763334.90  training BIC: 4774071.21  testing LL: -17.14  testing AIC 1235749.12  testing BIC: 1244978.53\n",
      "\n",
      "-----------------------------------------------\n",
      "fitting gaussian mixture model with k=10\n",
      "training LL: -16.43  training AIC: 4732279.67  training BIC: 4745702.53  testing LL: -17.05  testing AIC 1229527.31  testing BIC: 1241066.19\n",
      "\n",
      "-----------------------------------------------\n",
      "fitting gaussian mixture model with k=15\n",
      "training LL: -16.27  training AIC: 4688537.12  training BIC: 4708676.35  testing LL: -16.92  testing AIC 1221454.86  testing BIC: 1238767.43\n",
      "\n",
      "-----------------------------------------------\n",
      "FOLD 3----------------------------------------------\n",
      "fitting ar model with k=1 and lags=1\n"
     ]
    },
    {
     "data": {
      "application/vnd.jupyter.widget-view+json": {
       "model_id": "5a06c766f02a40d49d0f859e35834959",
       "version_major": 2,
       "version_minor": 0
      },
      "text/plain": [
       "  0%|          | 0/500 [00:00<?, ?it/s]"
      ]
     },
     "metadata": {},
     "output_type": "display_data"
    },
    {
     "name": "stdout",
     "output_type": "stream",
     "text": [
      "training LL: -19.89  training AIC: 5798866.70  training BIC: 5803485.06  testing LL: -19.68  testing AIC 1346444.19  testing BIC: 1350385.40\n",
      "sample mean rle: 179.90\n",
      "\n",
      "-----------------------------------------------\n",
      "fitting ar model with k=1 and lags=2\n"
     ]
    },
    {
     "data": {
      "application/vnd.jupyter.widget-view+json": {
       "model_id": "c27a6b0e4a814ba59a2603a1ece2290e",
       "version_major": 2,
       "version_minor": 0
      },
      "text/plain": [
       "  0%|          | 0/500 [00:00<?, ?it/s]"
      ]
     },
     "metadata": {},
     "output_type": "display_data"
    },
    {
     "name": "stdout",
     "output_type": "stream",
     "text": [
      "training LL: -19.37  training AIC: 5647025.37  training BIC: 5653868.86  testing LL: -19.10  testing AIC 1306881.26  testing BIC: 1312721.34\n",
      "sample mean rle: 179.90\n",
      "\n",
      "-----------------------------------------------\n",
      "fitting ar model with k=2 and lags=1\n"
     ]
    },
    {
     "data": {
      "application/vnd.jupyter.widget-view+json": {
       "model_id": "0b5dcfcc5f52404c9496b4fd23aa229d",
       "version_major": 2,
       "version_minor": 0
      },
      "text/plain": [
       "  0%|          | 0/500 [00:00<?, ?it/s]"
      ]
     },
     "metadata": {},
     "output_type": "display_data"
    },
    {
     "name": "stdout",
     "output_type": "stream",
     "text": [
      "training LL: -17.03  training AIC: 4964257.91  training BIC: 4973514.42  testing LL: -16.82  testing AIC 1152059.18  testing BIC: 1159958.48\n",
      "sample mean rle: 0.48\n",
      "\n",
      "-----------------------------------------------\n",
      "fitting ar model with k=2 and lags=2\n"
     ]
    },
    {
     "data": {
      "application/vnd.jupyter.widget-view+json": {
       "model_id": "8ec361b09b624d25957cd69c2cd57069",
       "version_major": 2,
       "version_minor": 0
      },
      "text/plain": [
       "  0%|          | 0/500 [00:00<?, ?it/s]"
      ]
     },
     "metadata": {},
     "output_type": "display_data"
    },
    {
     "name": "stdout",
     "output_type": "stream",
     "text": [
      "training LL: -16.58  training AIC: 4835169.44  training BIC: 4848876.20  testing LL: -16.32  testing AIC 1118363.87  testing BIC: 1130060.92\n",
      "sample mean rle: 0.47\n",
      "\n",
      "-----------------------------------------------\n",
      "fitting ar model with k=5 and lags=1\n"
     ]
    },
    {
     "data": {
      "application/vnd.jupyter.widget-view+json": {
       "model_id": "dad82d1256544f958cc5592bd946b62b",
       "version_major": 2,
       "version_minor": 0
      },
      "text/plain": [
       "  0%|          | 0/500 [00:00<?, ?it/s]"
      ]
     },
     "metadata": {},
     "output_type": "display_data"
    },
    {
     "name": "stdout",
     "output_type": "stream",
     "text": [
      "training LL: -15.69  training AIC: 4577753.86  training BIC: 4601043.48  testing LL: -15.50  testing AIC 1064455.39  testing BIC: 1084330.23\n",
      "sample mean rle: 0.27\n",
      "\n",
      "-----------------------------------------------\n",
      "fitting ar model with k=5 and lags=2\n"
     ]
    },
    {
     "data": {
      "application/vnd.jupyter.widget-view+json": {
       "model_id": "a7e1b06d646a4dda9be391dbfbc8d88a",
       "version_major": 2,
       "version_minor": 0
      },
      "text/plain": [
       "  0%|          | 0/500 [00:00<?, ?it/s]"
      ]
     },
     "metadata": {},
     "output_type": "display_data"
    },
    {
     "name": "stdout",
     "output_type": "stream",
     "text": [
      "training LL: -15.28  training AIC: 4460552.28  training BIC: 4494967.52  testing LL: -15.05  testing AIC 1035780.14  testing BIC: 1065149.34\n",
      "sample mean rle: 0.26\n",
      "\n",
      "-----------------------------------------------\n",
      "fitting ar model with k=8 and lags=1\n"
     ]
    },
    {
     "data": {
      "application/vnd.jupyter.widget-view+json": {
       "model_id": "445e0dd9ffd94414814c5b09eb3d833a",
       "version_major": 2,
       "version_minor": 0
      },
      "text/plain": [
       "  0%|          | 0/500 [00:00<?, ?it/s]"
      ]
     },
     "metadata": {},
     "output_type": "display_data"
    },
    {
     "name": "stdout",
     "output_type": "stream",
     "text": [
      "training LL: -15.30  training AIC: 4466281.60  training BIC: 4503782.34  testing LL: -15.15  testing AIC 1042978.19  testing BIC: 1074980.49\n",
      "sample mean rle: 0.23\n",
      "\n",
      "-----------------------------------------------\n",
      "fitting ar model with k=8 and lags=2\n"
     ]
    },
    {
     "data": {
      "application/vnd.jupyter.widget-view+json": {
       "model_id": "700812937b344f6a876799959aa84b51",
       "version_major": 2,
       "version_minor": 0
      },
      "text/plain": [
       "  0%|          | 0/500 [00:00<?, ?it/s]"
      ]
     },
     "metadata": {},
     "output_type": "display_data"
    },
    {
     "name": "stdout",
     "output_type": "stream",
     "text": [
      "training LL: -14.85  training AIC: 4338455.79  training BIC: 4393757.51  testing LL: -14.65  testing AIC 1012633.36  testing BIC: 1059826.63\n",
      "sample mean rle: 0.22\n",
      "\n",
      "-----------------------------------------------\n",
      "fitting ar model with k=10 and lags=1\n"
     ]
    },
    {
     "data": {
      "application/vnd.jupyter.widget-view+json": {
       "model_id": "e10554abd2524719800202b901175b37",
       "version_major": 2,
       "version_minor": 0
      },
      "text/plain": [
       "  0%|          | 0/500 [00:00<?, ?it/s]"
      ]
     },
     "metadata": {},
     "output_type": "display_data"
    },
    {
     "name": "stdout",
     "output_type": "stream",
     "text": [
      "training LL: -15.15  training AIC: 4423765.07  training BIC: 4470838.78  testing LL: -15.01  testing AIC 1035490.41  testing BIC: 1075662.07\n",
      "sample mean rle: 0.21\n",
      "\n",
      "-----------------------------------------------\n",
      "fitting ar model with k=10 and lags=2\n"
     ]
    },
    {
     "data": {
      "application/vnd.jupyter.widget-view+json": {
       "model_id": "a7fc7431c4324f0694ac1af3c2d922cb",
       "version_major": 2,
       "version_minor": 0
      },
      "text/plain": [
       "  0%|          | 0/500 [00:00<?, ?it/s]"
      ]
     },
     "metadata": {},
     "output_type": "display_data"
    },
    {
     "name": "stdout",
     "output_type": "stream",
     "text": [
      "training LL: -14.70  training AIC: 4297845.15  training BIC: 4367170.10  testing LL: -14.53  testing AIC 1007380.80  testing BIC: 1066541.18\n",
      "sample mean rle: 0.21\n",
      "\n",
      "-----------------------------------------------\n",
      "fitting ar model with k=15 and lags=1\n"
     ]
    },
    {
     "data": {
      "application/vnd.jupyter.widget-view+json": {
       "model_id": "c32ab715c8ab4fc1a4eb48a9ca9b6db9",
       "version_major": 2,
       "version_minor": 0
      },
      "text/plain": [
       "  0%|          | 0/500 [00:00<?, ?it/s]"
      ]
     },
     "metadata": {},
     "output_type": "display_data"
    },
    {
     "name": "stdout",
     "output_type": "stream",
     "text": [
      "training LL: -14.88  training AIC: 4349697.18  training BIC: 4421049.45  testing LL: -14.76  testing AIC 1023457.89  testing BIC: 1084348.35\n",
      "sample mean rle: 0.19\n",
      "\n",
      "-----------------------------------------------\n",
      "fitting ar model with k=15 and lags=2\n"
     ]
    },
    {
     "data": {
      "application/vnd.jupyter.widget-view+json": {
       "model_id": "fa721c2da2cc4bf1aac8c5707cd34c08",
       "version_major": 2,
       "version_minor": 0
      },
      "text/plain": [
       "  0%|          | 0/500 [00:00<?, ?it/s]"
      ]
     },
     "metadata": {},
     "output_type": "display_data"
    },
    {
     "name": "stdout",
     "output_type": "stream",
     "text": [
      "training LL: -14.43  training AIC: 4227257.90  training BIC: 4331987.02  testing LL: -14.29  testing AIC 997774.26  testing BIC: 1087147.77\n",
      "sample mean rle: 0.19\n",
      "\n",
      "-----------------------------------------------\n",
      "fitting gaussian model with k=1\n"
     ]
    },
    {
     "data": {
      "application/vnd.jupyter.widget-view+json": {
       "model_id": "7ab8e8abc6e24c70a68e06c05f15aa93",
       "version_major": 2,
       "version_minor": 0
      },
      "text/plain": [
       "  0%|          | 0/500 [00:00<?, ?it/s]"
      ]
     },
     "metadata": {},
     "output_type": "display_data"
    },
    {
     "name": "stdout",
     "output_type": "stream",
     "text": [
      "training LL: -20.70  training AIC: 6034163.44  training BIC: 6036556.68  testing LL: -20.63  testing AIC 1410801.76  testing BIC: 1412844.10\n",
      "sample mean rle: 179.90\n",
      "\n",
      "-----------------------------------------------\n",
      "fitting gaussian model with k=2\n"
     ]
    },
    {
     "data": {
      "application/vnd.jupyter.widget-view+json": {
       "model_id": "26aa246183014d2a89fd4b33f9a5c51f",
       "version_major": 2,
       "version_minor": 0
      },
      "text/plain": [
       "  0%|          | 0/500 [00:00<?, ?it/s]"
      ]
     },
     "metadata": {},
     "output_type": "display_data"
    },
    {
     "name": "stdout",
     "output_type": "stream",
     "text": [
      "training LL: -17.88  training AIC: 5211745.52  training BIC: 5216551.78  testing LL: -17.78  testing AIC 1216318.31  testing BIC: 1220419.87\n",
      "sample mean rle: 0.49\n",
      "\n",
      "-----------------------------------------------\n",
      "fitting gaussian model with k=5\n"
     ]
    },
    {
     "data": {
      "application/vnd.jupyter.widget-view+json": {
       "model_id": "4382dda11b36459b831e2711634d896e",
       "version_major": 2,
       "version_minor": 0
      },
      "text/plain": [
       "  0%|          | 0/500 [00:00<?, ?it/s]"
      ]
     },
     "metadata": {},
     "output_type": "display_data"
    },
    {
     "name": "stdout",
     "output_type": "stream",
     "text": [
      "training LL: -16.52  training AIC: 4817617.64  training BIC: 4829781.65  testing LL: -16.40  testing AIC 1123720.79  testing BIC: 1134101.28\n",
      "sample mean rle: 0.29\n",
      "\n",
      "-----------------------------------------------\n",
      "fitting gaussian model with k=8\n"
     ]
    },
    {
     "data": {
      "application/vnd.jupyter.widget-view+json": {
       "model_id": "3dfc498abadc4c3ba182317bee496470",
       "version_major": 2,
       "version_minor": 0
      },
      "text/plain": [
       "  0%|          | 0/500 [00:00<?, ?it/s]"
      ]
     },
     "metadata": {},
     "output_type": "display_data"
    },
    {
     "name": "stdout",
     "output_type": "stream",
     "text": [
      "training LL: -16.17  training AIC: 4717728.49  training BIC: 4737428.25  testing LL: -16.06  testing AIC 1102030.94  testing BIC: 1118842.27\n",
      "sample mean rle: 0.27\n",
      "\n",
      "-----------------------------------------------\n",
      "fitting gaussian model with k=10\n"
     ]
    },
    {
     "data": {
      "application/vnd.jupyter.widget-view+json": {
       "model_id": "37eede6104304f31a9a07df336d6883a",
       "version_major": 2,
       "version_minor": 0
      },
      "text/plain": [
       "  0%|          | 0/500 [00:00<?, ?it/s]"
      ]
     },
     "metadata": {},
     "output_type": "display_data"
    },
    {
     "name": "stdout",
     "output_type": "stream",
     "text": [
      "training LL: -16.02  training AIC: 4673765.32  training BIC: 4698587.80  testing LL: -15.91  testing AIC 1092726.80  testing BIC: 1113909.76\n",
      "sample mean rle: 0.25\n",
      "\n",
      "-----------------------------------------------\n",
      "fitting gaussian model with k=15\n"
     ]
    },
    {
     "data": {
      "application/vnd.jupyter.widget-view+json": {
       "model_id": "8241e469d4a44f8991fb27713cda56df",
       "version_major": 2,
       "version_minor": 0
      },
      "text/plain": [
       "  0%|          | 0/500 [00:00<?, ?it/s]"
      ]
     },
     "metadata": {},
     "output_type": "display_data"
    },
    {
     "name": "stdout",
     "output_type": "stream",
     "text": [
      "training LL: -15.76  training AIC: 4600955.73  training BIC: 4638931.16  testing LL: -15.67  testing AIC 1078891.71  testing BIC: 1111299.11\n",
      "sample mean rle: 0.23\n",
      "\n",
      "-----------------------------------------------\n",
      "fitting gaussian mixture model with k=1\n",
      "training LL: -20.70  training AIC: 6033949.44  training BIC: 6035284.51  testing LL: -20.63  testing AIC 1410587.78  testing BIC: 1411727.10\n",
      "\n",
      "-----------------------------------------------\n",
      "fitting gaussian mixture model with k=2\n",
      "training LL: -18.05  training AIC: 5261254.95  training BIC: 5263934.98  testing LL: -17.97  testing AIC 1229142.46  testing BIC: 1231429.54\n",
      "\n",
      "-----------------------------------------------\n",
      "fitting gaussian mixture model with k=5\n",
      "training LL: -16.98  training AIC: 4950389.64  training BIC: 4957104.56  testing LL: -16.88  testing AIC 1155570.26  testing BIC: 1161300.63\n",
      "\n",
      "-----------------------------------------------\n",
      "fitting gaussian mixture model with k=8\n",
      "training LL: -16.70  training AIC: 4867957.84  training BIC: 4878707.65  testing LL: -16.60  testing AIC 1136735.49  testing BIC: 1145909.15\n",
      "\n",
      "-----------------------------------------------\n",
      "fitting gaussian mixture model with k=10\n",
      "training LL: -16.59  training AIC: 4837673.16  training BIC: 4851112.90  testing LL: -16.49  testing AIC 1130276.10  testing BIC: 1141745.27\n",
      "\n",
      "-----------------------------------------------\n",
      "fitting gaussian mixture model with k=15\n",
      "training LL: -16.42  training AIC: 4788221.35  training BIC: 4808385.91  testing LL: -16.34  testing AIC 1120778.82  testing BIC: 1137986.81\n",
      "\n",
      "-----------------------------------------------\n",
      "FOLD 4----------------------------------------------\n",
      "fitting ar model with k=1 and lags=1\n"
     ]
    },
    {
     "data": {
      "application/vnd.jupyter.widget-view+json": {
       "model_id": "c2d315400c204219b550f2aa6d55acdc",
       "version_major": 2,
       "version_minor": 0
      },
      "text/plain": [
       "  0%|          | 0/500 [00:00<?, ?it/s]"
      ]
     },
     "metadata": {},
     "output_type": "display_data"
    },
    {
     "name": "stdout",
     "output_type": "stream",
     "text": [
      "training LL: -19.84  training AIC: 5711677.20  training BIC: 5716289.77  testing LL: -19.91  testing AIC 1433937.73  testing BIC: 1437902.89\n",
      "sample mean rle: 179.90\n",
      "\n",
      "-----------------------------------------------\n",
      "fitting ar model with k=1 and lags=2\n"
     ]
    },
    {
     "data": {
      "application/vnd.jupyter.widget-view+json": {
       "model_id": "e4a8ebcdb9f344e2b72e359f7b83bace",
       "version_major": 2,
       "version_minor": 0
      },
      "text/plain": [
       "  0%|          | 0/500 [00:00<?, ?it/s]"
      ]
     },
     "metadata": {},
     "output_type": "display_data"
    },
    {
     "name": "stdout",
     "output_type": "stream",
     "text": [
      "training LL: -19.30  training AIC: 5556498.24  training BIC: 5563333.14  testing LL: -19.41  testing AIC 1397812.05  testing BIC: 1403687.62\n",
      "sample mean rle: 179.90\n",
      "\n",
      "-----------------------------------------------\n",
      "fitting ar model with k=2 and lags=1\n"
     ]
    },
    {
     "data": {
      "application/vnd.jupyter.widget-view+json": {
       "model_id": "ab24f1d2de6b43f0ae0700abb2e4f35f",
       "version_major": 2,
       "version_minor": 0
      },
      "text/plain": [
       "  0%|          | 0/500 [00:00<?, ?it/s]"
      ]
     },
     "metadata": {},
     "output_type": "display_data"
    },
    {
     "name": "stdout",
     "output_type": "stream",
     "text": [
      "training LL: -17.02  training AIC: 4902106.26  training BIC: 4911351.15  testing LL: -16.85  testing AIC 1214491.53  testing BIC: 1222438.85\n",
      "sample mean rle: 0.48\n",
      "\n",
      "-----------------------------------------------\n",
      "fitting ar model with k=2 and lags=2\n"
     ]
    },
    {
     "data": {
      "application/vnd.jupyter.widget-view+json": {
       "model_id": "9eb47384c16a44658e3d313ab15a10d6",
       "version_major": 2,
       "version_minor": 0
      },
      "text/plain": [
       "  0%|          | 0/500 [00:00<?, ?it/s]"
      ]
     },
     "metadata": {},
     "output_type": "display_data"
    },
    {
     "name": "stdout",
     "output_type": "stream",
     "text": [
      "training LL: -16.56  training AIC: 4768953.71  training BIC: 4782643.25  testing LL: -16.43  testing AIC 1184871.40  testing BIC: 1196639.54\n",
      "sample mean rle: 0.48\n",
      "\n",
      "-----------------------------------------------\n",
      "fitting ar model with k=5 and lags=1\n"
     ]
    },
    {
     "data": {
      "application/vnd.jupyter.widget-view+json": {
       "model_id": "510886f4985b4b9fa1ec46334ac8414d",
       "version_major": 2,
       "version_minor": 0
      },
      "text/plain": [
       "  0%|          | 0/500 [00:00<?, ?it/s]"
      ]
     },
     "metadata": {},
     "output_type": "display_data"
    },
    {
     "name": "stdout",
     "output_type": "stream",
     "text": [
      "training LL: -15.70  training AIC: 4522967.97  training BIC: 4546228.34  testing LL: -15.40  testing AIC 1112544.79  testing BIC: 1132540.43\n",
      "sample mean rle: 0.27\n",
      "\n",
      "-----------------------------------------------\n",
      "fitting ar model with k=5 and lags=2\n"
     ]
    },
    {
     "data": {
      "application/vnd.jupyter.widget-view+json": {
       "model_id": "e6997814c3154100b7e5d8dcaba0e8f3",
       "version_major": 2,
       "version_minor": 0
      },
      "text/plain": [
       "  0%|          | 0/500 [00:00<?, ?it/s]"
      ]
     },
     "metadata": {},
     "output_type": "display_data"
    },
    {
     "name": "stdout",
     "output_type": "stream",
     "text": [
      "training LL: -15.29  training AIC: 4406872.45  training BIC: 4441244.45  testing LL: -15.05  testing AIC 1089809.69  testing BIC: 1119357.39\n",
      "sample mean rle: 0.27\n",
      "\n",
      "-----------------------------------------------\n",
      "fitting ar model with k=8 and lags=1\n"
     ]
    },
    {
     "data": {
      "application/vnd.jupyter.widget-view+json": {
       "model_id": "29377a1c15474364af63d14893b07aeb",
       "version_major": 2,
       "version_minor": 0
      },
      "text/plain": [
       "  0%|          | 0/500 [00:00<?, ?it/s]"
      ]
     },
     "metadata": {},
     "output_type": "display_data"
    },
    {
     "name": "stdout",
     "output_type": "stream",
     "text": [
      "training LL: -15.33  training AIC: 4419129.04  training BIC: 4456582.68  testing LL: -15.02  testing AIC 1088224.77  testing BIC: 1120421.57\n",
      "sample mean rle: 0.21\n",
      "\n",
      "-----------------------------------------------\n",
      "fitting ar model with k=8 and lags=2\n"
     ]
    },
    {
     "data": {
      "application/vnd.jupyter.widget-view+json": {
       "model_id": "cf303812b7e545c182a2ce72698ea023",
       "version_major": 2,
       "version_minor": 0
      },
      "text/plain": [
       "  0%|          | 0/500 [00:00<?, ?it/s]"
      ]
     },
     "metadata": {},
     "output_type": "display_data"
    },
    {
     "name": "stdout",
     "output_type": "stream",
     "text": [
      "training LL: -14.87  training AIC: 4290008.35  training BIC: 4345240.61  testing LL: -14.59  testing AIC 1061247.48  testing BIC: 1108727.58\n",
      "sample mean rle: 0.22\n",
      "\n",
      "-----------------------------------------------\n",
      "fitting ar model with k=10 and lags=1\n"
     ]
    },
    {
     "data": {
      "application/vnd.jupyter.widget-view+json": {
       "model_id": "54e60bddb57d4a6ab3bafd43a2d46515",
       "version_major": 2,
       "version_minor": 0
      },
      "text/plain": [
       "  0%|          | 0/500 [00:00<?, ?it/s]"
      ]
     },
     "metadata": {},
     "output_type": "display_data"
    },
    {
     "name": "stdout",
     "output_type": "stream",
     "text": [
      "training LL: -15.17  training AIC: 4376342.35  training BIC: 4423356.93  testing LL: -14.84  testing AIC 1077538.10  testing BIC: 1117953.92\n",
      "sample mean rle: 0.22\n",
      "\n",
      "-----------------------------------------------\n",
      "fitting ar model with k=10 and lags=2\n"
     ]
    },
    {
     "data": {
      "application/vnd.jupyter.widget-view+json": {
       "model_id": "1e61ae9a3b314b0bae7252ea9fd6b670",
       "version_major": 2,
       "version_minor": 0
      },
      "text/plain": [
       "  0%|          | 0/500 [00:00<?, ?it/s]"
      ]
     },
     "metadata": {},
     "output_type": "display_data"
    },
    {
     "name": "stdout",
     "output_type": "stream",
     "text": [
      "training LL: -14.72  training AIC: 4251542.37  training BIC: 4320780.23  testing LL: -14.43  testing AIC 1052399.16  testing BIC: 1111919.09\n",
      "sample mean rle: 0.22\n",
      "\n",
      "-----------------------------------------------\n",
      "fitting ar model with k=15 and lags=1\n"
     ]
    },
    {
     "data": {
      "application/vnd.jupyter.widget-view+json": {
       "model_id": "1df41ab3744644379c01df42632b144e",
       "version_major": 2,
       "version_minor": 0
      },
      "text/plain": [
       "  0%|          | 0/500 [00:00<?, ?it/s]"
      ]
     },
     "metadata": {},
     "output_type": "display_data"
    },
    {
     "name": "stdout",
     "output_type": "stream",
     "text": [
      "training LL: -14.92  training AIC: 4308948.28  training BIC: 4380210.93  testing LL: -14.58  testing AIC 1063927.48  testing BIC: 1125188.01\n",
      "sample mean rle: 0.19\n",
      "\n",
      "-----------------------------------------------\n",
      "fitting ar model with k=15 and lags=2\n"
     ]
    },
    {
     "data": {
      "application/vnd.jupyter.widget-view+json": {
       "model_id": "b3e46b6d43e241079cfca1d5b45e1615",
       "version_major": 2,
       "version_minor": 0
      },
      "text/plain": [
       "  0%|          | 0/500 [00:00<?, ?it/s]"
      ]
     },
     "metadata": {},
     "output_type": "display_data"
    },
    {
     "name": "stdout",
     "output_type": "stream",
     "text": [
      "training LL: -14.45  training AIC: 4181277.77  training BIC: 4285875.34  testing LL: -14.16  testing AIC 1040200.24  testing BIC: 1130116.95\n",
      "sample mean rle: 0.18\n",
      "\n",
      "-----------------------------------------------\n",
      "fitting gaussian model with k=1\n"
     ]
    },
    {
     "data": {
      "application/vnd.jupyter.widget-view+json": {
       "model_id": "139fec3fd06643e499550f8224efd792",
       "version_major": 2,
       "version_minor": 0
      },
      "text/plain": [
       "  0%|          | 0/500 [00:00<?, ?it/s]"
      ]
     },
     "metadata": {},
     "output_type": "display_data"
    },
    {
     "name": "stdout",
     "output_type": "stream",
     "text": [
      "training LL: -20.69  training AIC: 5956334.81  training BIC: 5958725.05  testing LL: -20.68  testing AIC 1488860.43  testing BIC: 1490915.18\n",
      "sample mean rle: 179.90\n",
      "\n",
      "-----------------------------------------------\n",
      "fitting gaussian model with k=2\n"
     ]
    },
    {
     "data": {
      "application/vnd.jupyter.widget-view+json": {
       "model_id": "66dfd49619c24670972962f4a3a2e3d0",
       "version_major": 2,
       "version_minor": 0
      },
      "text/plain": [
       "  0%|          | 0/500 [00:00<?, ?it/s]"
      ]
     },
     "metadata": {},
     "output_type": "display_data"
    },
    {
     "name": "stdout",
     "output_type": "stream",
     "text": [
      "training LL: -17.91  training AIC: 5156616.01  training BIC: 5161416.23  testing LL: -17.66  testing AIC 1271561.91  testing BIC: 1275688.40\n",
      "sample mean rle: 0.49\n",
      "\n",
      "-----------------------------------------------\n",
      "fitting gaussian model with k=5\n"
     ]
    },
    {
     "data": {
      "application/vnd.jupyter.widget-view+json": {
       "model_id": "482c8f074fa4403c86183902b9b63adc",
       "version_major": 2,
       "version_minor": 0
      },
      "text/plain": [
       "  0%|          | 0/500 [00:00<?, ?it/s]"
      ]
     },
     "metadata": {},
     "output_type": "display_data"
    },
    {
     "name": "stdout",
     "output_type": "stream",
     "text": [
      "training LL: -16.58  training AIC: 4773572.27  training BIC: 4785720.99  testing LL: -16.20  testing AIC 1168094.19  testing BIC: 1178537.78\n",
      "sample mean rle: 0.29\n",
      "\n",
      "-----------------------------------------------\n",
      "fitting gaussian model with k=8\n"
     ]
    },
    {
     "data": {
      "application/vnd.jupyter.widget-view+json": {
       "model_id": "198db4e395c94d54b4a2a019ab56c6cc",
       "version_major": 2,
       "version_minor": 0
      },
      "text/plain": [
       "  0%|          | 0/500 [00:00<?, ?it/s]"
      ]
     },
     "metadata": {},
     "output_type": "display_data"
    },
    {
     "name": "stdout",
     "output_type": "stream",
     "text": [
      "training LL: -16.22  training AIC: 4671468.12  training BIC: 4691143.13  testing LL: -15.84  testing AIC 1143760.56  testing BIC: 1160674.07\n",
      "sample mean rle: 0.27\n",
      "\n",
      "-----------------------------------------------\n",
      "fitting gaussian model with k=10\n"
     ]
    },
    {
     "data": {
      "application/vnd.jupyter.widget-view+json": {
       "model_id": "5c43ee5f700046cba0b2491a0747d19a",
       "version_major": 2,
       "version_minor": 0
      },
      "text/plain": [
       "  0%|          | 0/500 [00:00<?, ?it/s]"
      ]
     },
     "metadata": {},
     "output_type": "display_data"
    },
    {
     "name": "stdout",
     "output_type": "stream",
     "text": [
      "training LL: -16.09  training AIC: 4637128.31  training BIC: 4661919.61  testing LL: -15.68  testing AIC 1133625.20  testing BIC: 1154936.90\n",
      "sample mean rle: 0.27\n",
      "\n",
      "-----------------------------------------------\n",
      "fitting gaussian model with k=15\n"
     ]
    },
    {
     "data": {
      "application/vnd.jupyter.widget-view+json": {
       "model_id": "cef0c94b7b9b49bbbe68eddade448e9c",
       "version_major": 2,
       "version_minor": 0
      },
      "text/plain": [
       "  0%|          | 0/500 [00:00<?, ?it/s]"
      ]
     },
     "metadata": {},
     "output_type": "display_data"
    },
    {
     "name": "stdout",
     "output_type": "stream",
     "text": [
      "training LL: -15.83  training AIC: 4563755.89  training BIC: 4601683.62  testing LL: -15.43  testing AIC 1117739.35  testing BIC: 1150343.70\n",
      "sample mean rle: 0.24\n",
      "\n",
      "-----------------------------------------------\n",
      "fitting gaussian mixture model with k=1\n",
      "training LL: -20.69  training AIC: 5956120.81  training BIC: 5957454.21  testing LL: -20.68  testing AIC 1488646.43  testing BIC: 1489792.68\n",
      "\n",
      "-----------------------------------------------\n",
      "fitting gaussian mixture model with k=2\n",
      "training LL: -18.09  training AIC: 5206765.14  training BIC: 5209441.81  testing LL: -17.83  testing AIC 1283799.09  testing BIC: 1286100.07\n",
      "\n",
      "-----------------------------------------------\n",
      "fitting gaussian mixture model with k=5\n",
      "training LL: -16.99  training AIC: 4890688.13  training BIC: 4897394.62  testing LL: -16.61  testing AIC 1196458.68  testing BIC: 1202223.88\n",
      "\n",
      "-----------------------------------------------\n",
      "fitting gaussian mixture model with k=8\n",
      "training LL: -16.74  training AIC: 4821640.96  training BIC: 4832377.27  testing LL: -16.36  testing AIC 1179122.02  testing BIC: 1188351.43\n",
      "\n",
      "-----------------------------------------------\n",
      "fitting gaussian mixture model with k=10\n",
      "training LL: -16.64  training AIC: 4792211.68  training BIC: 4805634.54  testing LL: -16.24  testing AIC 1170997.27  testing BIC: 1182536.15\n",
      "\n",
      "-----------------------------------------------\n",
      "fitting gaussian mixture model with k=15\n",
      "training LL: -16.49  training AIC: 4749164.40  training BIC: 4769303.63  testing LL: -16.09  testing AIC 1161926.77  testing BIC: 1179239.34\n",
      "\n",
      "-----------------------------------------------\n",
      "FOLD 5----------------------------------------------\n",
      "fitting ar model with k=1 and lags=1\n"
     ]
    },
    {
     "data": {
      "application/vnd.jupyter.widget-view+json": {
       "model_id": "5a76d3289fe2427f8b7c7769059c47e6",
       "version_major": 2,
       "version_minor": 0
      },
      "text/plain": [
       "  0%|          | 0/500 [00:00<?, ?it/s]"
      ]
     },
     "metadata": {},
     "output_type": "display_data"
    },
    {
     "name": "stdout",
     "output_type": "stream",
     "text": [
      "training LL: -19.86  training AIC: 5790299.06  training BIC: 5794917.42  testing LL: -19.80  testing AIC 1354567.03  testing BIC: 1358508.24\n",
      "sample mean rle: 179.90\n",
      "\n",
      "-----------------------------------------------\n",
      "fitting ar model with k=1 and lags=2\n"
     ]
    },
    {
     "data": {
      "application/vnd.jupyter.widget-view+json": {
       "model_id": "15d29a197f304fc0962d3b741d688adf",
       "version_major": 2,
       "version_minor": 0
      },
      "text/plain": [
       "  0%|          | 0/500 [00:00<?, ?it/s]"
      ]
     },
     "metadata": {},
     "output_type": "display_data"
    },
    {
     "name": "stdout",
     "output_type": "stream",
     "text": [
      "training LL: -19.32  training AIC: 5631501.81  training BIC: 5638345.30  testing LL: -19.32  testing AIC 1321816.59  testing BIC: 1327656.68\n",
      "sample mean rle: 179.90\n",
      "\n",
      "-----------------------------------------------\n",
      "fitting ar model with k=2 and lags=1\n"
     ]
    },
    {
     "data": {
      "application/vnd.jupyter.widget-view+json": {
       "model_id": "acf5ac849ba14599a4e4bad89d4cc0dd",
       "version_major": 2,
       "version_minor": 0
      },
      "text/plain": [
       "  0%|          | 0/500 [00:00<?, ?it/s]"
      ]
     },
     "metadata": {},
     "output_type": "display_data"
    },
    {
     "name": "stdout",
     "output_type": "stream",
     "text": [
      "training LL: -17.04  training AIC: 4968838.57  training BIC: 4978095.08  testing LL: -16.75  testing AIC 1147009.66  testing BIC: 1154908.97\n",
      "sample mean rle: 0.47\n",
      "\n",
      "-----------------------------------------------\n",
      "fitting ar model with k=2 and lags=2\n"
     ]
    },
    {
     "data": {
      "application/vnd.jupyter.widget-view+json": {
       "model_id": "9b1fd50dfd4f404c9c7a6c749e491f7d",
       "version_major": 2,
       "version_minor": 0
      },
      "text/plain": [
       "  0%|          | 0/500 [00:00<?, ?it/s]"
      ]
     },
     "metadata": {},
     "output_type": "display_data"
    },
    {
     "name": "stdout",
     "output_type": "stream",
     "text": [
      "training LL: -16.57  training AIC: 4833087.81  training BIC: 4846794.57  testing LL: -16.34  testing AIC 1119867.42  testing BIC: 1131564.46\n",
      "sample mean rle: 0.47\n",
      "\n",
      "-----------------------------------------------\n",
      "fitting ar model with k=5 and lags=1\n"
     ]
    },
    {
     "data": {
      "application/vnd.jupyter.widget-view+json": {
       "model_id": "e3b6bb07183f4bb0a3c82bf9990f6694",
       "version_major": 2,
       "version_minor": 0
      },
      "text/plain": [
       "  0%|          | 0/500 [00:00<?, ?it/s]"
      ]
     },
     "metadata": {},
     "output_type": "display_data"
    },
    {
     "name": "stdout",
     "output_type": "stream",
     "text": [
      "training LL: -15.68  training AIC: 4575317.73  training BIC: 4598607.35  testing LL: -15.43  testing AIC 1059449.56  testing BIC: 1079324.40\n",
      "sample mean rle: 0.28\n",
      "\n",
      "-----------------------------------------------\n",
      "fitting ar model with k=5 and lags=2\n"
     ]
    },
    {
     "data": {
      "application/vnd.jupyter.widget-view+json": {
       "model_id": "38e5a41c3ec446c38181b2f9db97e215",
       "version_major": 2,
       "version_minor": 0
      },
      "text/plain": [
       "  0%|          | 0/500 [00:00<?, ?it/s]"
      ]
     },
     "metadata": {},
     "output_type": "display_data"
    },
    {
     "name": "stdout",
     "output_type": "stream",
     "text": [
      "training LL: -15.24  training AIC: 4447192.33  training BIC: 4481607.56  testing LL: -15.04  testing AIC 1035428.17  testing BIC: 1064797.37\n",
      "sample mean rle: 0.28\n",
      "\n",
      "-----------------------------------------------\n",
      "fitting ar model with k=8 and lags=1\n"
     ]
    },
    {
     "data": {
      "application/vnd.jupyter.widget-view+json": {
       "model_id": "3f9d91df41dc40788d75955543c0946a",
       "version_major": 2,
       "version_minor": 0
      },
      "text/plain": [
       "  0%|          | 0/500 [00:00<?, ?it/s]"
      ]
     },
     "metadata": {},
     "output_type": "display_data"
    },
    {
     "name": "stdout",
     "output_type": "stream",
     "text": [
      "training LL: -15.31  training AIC: 4470738.84  training BIC: 4508239.57  testing LL: -15.04  testing AIC 1035732.95  testing BIC: 1067735.25\n",
      "sample mean rle: 0.22\n",
      "\n",
      "-----------------------------------------------\n",
      "fitting ar model with k=8 and lags=2\n"
     ]
    },
    {
     "data": {
      "application/vnd.jupyter.widget-view+json": {
       "model_id": "2331a309611f4a269b49fa27fb71822c",
       "version_major": 2,
       "version_minor": 0
      },
      "text/plain": [
       "  0%|          | 0/500 [00:00<?, ?it/s]"
      ]
     },
     "metadata": {},
     "output_type": "display_data"
    },
    {
     "name": "stdout",
     "output_type": "stream",
     "text": [
      "training LL: -14.84  training AIC: 4334926.43  training BIC: 4390228.15  testing LL: -14.66  testing AIC 1013593.66  testing BIC: 1060786.93\n",
      "sample mean rle: 0.22\n",
      "\n",
      "-----------------------------------------------\n",
      "fitting ar model with k=10 and lags=1\n"
     ]
    },
    {
     "data": {
      "application/vnd.jupyter.widget-view+json": {
       "model_id": "3f652325b1844c458aaafa8416ccc7a5",
       "version_major": 2,
       "version_minor": 0
      },
      "text/plain": [
       "  0%|          | 0/500 [00:00<?, ?it/s]"
      ]
     },
     "metadata": {},
     "output_type": "display_data"
    },
    {
     "name": "stdout",
     "output_type": "stream",
     "text": [
      "training LL: -15.16  training AIC: 4426962.75  training BIC: 4474036.46  testing LL: -14.93  testing AIC 1030506.13  testing BIC: 1070677.79\n",
      "sample mean rle: 0.23\n",
      "\n",
      "-----------------------------------------------\n",
      "fitting ar model with k=10 and lags=2\n"
     ]
    },
    {
     "data": {
      "application/vnd.jupyter.widget-view+json": {
       "model_id": "d1553eac14bb4d6598eb5ae70b487e51",
       "version_major": 2,
       "version_minor": 0
      },
      "text/plain": [
       "  0%|          | 0/500 [00:00<?, ?it/s]"
      ]
     },
     "metadata": {},
     "output_type": "display_data"
    },
    {
     "name": "stdout",
     "output_type": "stream",
     "text": [
      "training LL: -14.70  training AIC: 4297134.92  training BIC: 4366459.86  testing LL: -14.52  testing AIC 1006713.19  testing BIC: 1065873.56\n",
      "sample mean rle: 0.22\n",
      "\n",
      "-----------------------------------------------\n",
      "fitting ar model with k=15 and lags=1\n"
     ]
    },
    {
     "data": {
      "application/vnd.jupyter.widget-view+json": {
       "model_id": "5754f1536a8943b991564baa0972737f",
       "version_major": 2,
       "version_minor": 0
      },
      "text/plain": [
       "  0%|          | 0/500 [00:00<?, ?it/s]"
      ]
     },
     "metadata": {},
     "output_type": "display_data"
    },
    {
     "name": "stdout",
     "output_type": "stream",
     "text": [
      "training LL: -14.89  training AIC: 4354811.94  training BIC: 4426164.22  testing LL: -14.68  testing AIC 1017903.80  testing BIC: 1078794.26\n",
      "sample mean rle: 0.20\n",
      "\n",
      "-----------------------------------------------\n",
      "fitting ar model with k=15 and lags=2\n"
     ]
    },
    {
     "data": {
      "application/vnd.jupyter.widget-view+json": {
       "model_id": "48a9276ad0624ddd85620587ce326ff6",
       "version_major": 2,
       "version_minor": 0
      },
      "text/plain": [
       "  0%|          | 0/500 [00:00<?, ?it/s]"
      ]
     },
     "metadata": {},
     "output_type": "display_data"
    },
    {
     "name": "stdout",
     "output_type": "stream",
     "text": [
      "training LL: -14.42  training AIC: 4222728.46  training BIC: 4327457.58  testing LL: -14.28  testing AIC 997628.38  testing BIC: 1087001.89\n",
      "sample mean rle: 0.20\n",
      "\n",
      "-----------------------------------------------\n",
      "fitting gaussian model with k=1\n"
     ]
    },
    {
     "data": {
      "application/vnd.jupyter.widget-view+json": {
       "model_id": "00bb6bd9fa3c4252a7181567f0edd96a",
       "version_major": 2,
       "version_minor": 0
      },
      "text/plain": [
       "  0%|          | 0/500 [00:00<?, ?it/s]"
      ]
     },
     "metadata": {},
     "output_type": "display_data"
    },
    {
     "name": "stdout",
     "output_type": "stream",
     "text": [
      "training LL: -20.69  training AIC: 6029822.77  training BIC: 6032216.02  testing LL: -20.69  testing AIC 1414785.88  testing BIC: 1416828.22\n",
      "sample mean rle: 179.90\n",
      "\n",
      "-----------------------------------------------\n",
      "fitting gaussian model with k=2\n"
     ]
    },
    {
     "data": {
      "application/vnd.jupyter.widget-view+json": {
       "model_id": "b52adad72231448b89ceb69aa25bc457",
       "version_major": 2,
       "version_minor": 0
      },
      "text/plain": [
       "  0%|          | 0/500 [00:00<?, ?it/s]"
      ]
     },
     "metadata": {},
     "output_type": "display_data"
    },
    {
     "name": "stdout",
     "output_type": "stream",
     "text": [
      "training LL: -17.91  training AIC: 5219229.33  training BIC: 5224035.60  testing LL: -17.66  testing AIC 1208324.90  testing BIC: 1212426.46\n",
      "sample mean rle: 0.49\n",
      "\n",
      "-----------------------------------------------\n",
      "fitting gaussian model with k=5\n"
     ]
    },
    {
     "data": {
      "application/vnd.jupyter.widget-view+json": {
       "model_id": "512bfec20665441990cc279e4f531c1f",
       "version_major": 2,
       "version_minor": 0
      },
      "text/plain": [
       "  0%|          | 0/500 [00:00<?, ?it/s]"
      ]
     },
     "metadata": {},
     "output_type": "display_data"
    },
    {
     "name": "stdout",
     "output_type": "stream",
     "text": [
      "training LL: -16.54  training AIC: 4821984.09  training BIC: 4834148.10  testing LL: -16.33  testing AIC 1118953.91  testing BIC: 1129334.41\n",
      "sample mean rle: 0.29\n",
      "\n",
      "-----------------------------------------------\n",
      "fitting gaussian model with k=8\n"
     ]
    },
    {
     "data": {
      "application/vnd.jupyter.widget-view+json": {
       "model_id": "59dae95b0c8a4eac8bcc68b957085d48",
       "version_major": 2,
       "version_minor": 0
      },
      "text/plain": [
       "  0%|          | 0/500 [00:00<?, ?it/s]"
      ]
     },
     "metadata": {},
     "output_type": "display_data"
    },
    {
     "name": "stdout",
     "output_type": "stream",
     "text": [
      "training LL: -16.18  training AIC: 4718013.21  training BIC: 4737712.96  testing LL: -15.98  testing AIC 1096386.36  testing BIC: 1113197.69\n",
      "sample mean rle: 0.26\n",
      "\n",
      "-----------------------------------------------\n",
      "fitting gaussian model with k=10\n"
     ]
    },
    {
     "data": {
      "application/vnd.jupyter.widget-view+json": {
       "model_id": "ae627e8ad2e04ae9ac0e2222b6a3715a",
       "version_major": 2,
       "version_minor": 0
      },
      "text/plain": [
       "  0%|          | 0/500 [00:00<?, ?it/s]"
      ]
     },
     "metadata": {},
     "output_type": "display_data"
    },
    {
     "name": "stdout",
     "output_type": "stream",
     "text": [
      "training LL: -16.03  training AIC: 4676342.51  training BIC: 4701164.99  testing LL: -15.84  testing AIC 1088013.08  testing BIC: 1109196.04\n",
      "sample mean rle: 0.26\n",
      "\n",
      "-----------------------------------------------\n",
      "fitting gaussian model with k=15\n"
     ]
    },
    {
     "data": {
      "application/vnd.jupyter.widget-view+json": {
       "model_id": "82423345c67f41c1813669ca5770bf74",
       "version_major": 2,
       "version_minor": 0
      },
      "text/plain": [
       "  0%|          | 0/500 [00:00<?, ?it/s]"
      ]
     },
     "metadata": {},
     "output_type": "display_data"
    },
    {
     "name": "stdout",
     "output_type": "stream",
     "text": [
      "training LL: -15.77  training AIC: 4603309.86  training BIC: 4641285.29  testing LL: -15.59  testing AIC 1073611.32  testing BIC: 1106018.71\n",
      "sample mean rle: 0.24\n",
      "\n",
      "-----------------------------------------------\n",
      "fitting gaussian mixture model with k=1\n",
      "training LL: -20.69  training AIC: 6029608.77  training BIC: 6030943.85  testing LL: -20.69  testing AIC 1414571.88  testing BIC: 1415711.21\n",
      "\n",
      "-----------------------------------------------\n",
      "fitting gaussian mixture model with k=2\n",
      "training LL: -18.08  training AIC: 5270182.52  training BIC: 5272862.56  testing LL: -17.84  testing AIC 1220128.97  testing BIC: 1222416.05\n",
      "\n",
      "-----------------------------------------------\n",
      "fitting gaussian mixture model with k=5\n",
      "training LL: -17.02  training AIC: 4960664.63  training BIC: 4967379.56  testing LL: -16.79  testing AIC 1149292.34  testing BIC: 1155022.71\n",
      "\n",
      "-----------------------------------------------\n",
      "fitting gaussian mixture model with k=8\n",
      "training LL: -16.72  training AIC: 4874011.45  training BIC: 4884761.27  testing LL: -16.51  testing AIC 1130999.80  testing BIC: 1140173.46\n",
      "\n",
      "-----------------------------------------------\n",
      "fitting gaussian mixture model with k=10\n",
      "training LL: -16.58  training AIC: 4834808.70  training BIC: 4848248.44  testing LL: -16.36  testing AIC 1121360.71  testing BIC: 1132829.89\n",
      "\n",
      "-----------------------------------------------\n",
      "fitting gaussian mixture model with k=15\n",
      "training LL: -16.46  training AIC: 4800441.02  training BIC: 4820605.58  testing LL: -16.25  testing AIC 1115171.88  testing BIC: 1132379.86\n",
      "\n",
      "-----------------------------------------------\n"
     ]
    }
   ],
   "source": [
    "# space for results\n",
    "hmm_results = np.zeros((len(ALL_HMM_PARAMS), 8, CV)) # model x train/test scores x folds\n",
    "gmm_results = np.zeros((len(GMM_PARAMS), 8, CV)) # model x train/test scores x folds\n",
    "\n",
    "# transformer\n",
    "for f, (train_idx, test_idx) in enumerate(kfold_idx):\n",
    "    print('FOLD {:}----------------------------------------------'.format(f+1))\n",
    "    train_data = np.array([data[i,:,:].T for i in train_idx])\n",
    "    test_data = np.array([data[i,:,:].T for i in test_idx])\n",
    "    \n",
    "    # standardise PC weights\n",
    "    train_data_scaled = (train_data - np.mean(train_data, axis=1)[:,np.newaxis,:]) / np.std(train_data, axis=1)[:, np.newaxis, :]\n",
    "    test_data_scaled = (test_data - np.mean(test_data, axis=1)[:,np.newaxis,:]) / np.std(test_data, axis=1)[:, np.newaxis, :]\n",
    "    \n",
    "    # take first difference\n",
    "    train_data_diff = np.diff(train_data_scaled, n=1, axis=1)\n",
    "    test_data_diff = np.diff(test_data_scaled, n=1, axis=1)\n",
    "\n",
    "    #time_series = time_series - np.mean(time_series, axis=1)[:,np.newaxis,:]\n",
    "    # global normalise\n",
    "    train_data_diff = train_data_diff / np.std(train_data_diff, axis=(1,2))[:, np.newaxis, np.newaxis]\n",
    "    train_data_diff = [train_data_diff[i] for i in np.arange(len(train_data_diff))]\n",
    "    test_data_diff = test_data_diff / np.std(test_data_diff, axis=(1,2))[:, np.newaxis, np.newaxis]\n",
    "    test_data_diff = [test_data_diff[i] for i in np.arange(len(test_data_diff))]\n",
    "\n",
    "    fig, axs = plt.subplots(5, 1, figsize=(5,8), sharex=True)\n",
    "    for n,ax in enumerate(axs):\n",
    "        sns.lineplot(np.arange(num_features)+train_data_diff[n], lw=.5, dashes=False, ax=ax, legend=False, palette='husl')\n",
    "        ax.set_ylim(-5,25)\n",
    "    axs[0].set_title('data samples')\n",
    "    sns.despine(left=True, bottom=True)\n",
    "    plt.tight_layout()\n",
    "    plt.savefig('outputs/cv-samples/data-samples-fold{:}.png'.format(f), transparent=False, dpi=300)\n",
    "    plt.close()\n",
    "\n",
    "    # parse model parameters\n",
    "    kappa = num_vids * num_timepoints\n",
    "    for n_p, p_set in enumerate(ALL_HMM_PARAMS):\n",
    "        if len(p_set)==3:\n",
    "            obs, k, lag = [*p_set]\n",
    "            model = ssm.HMM(k, num_features, \n",
    "                            init_method='kmeans',\n",
    "                            observations=obs, observation_kwargs={'lags':lag}, \n",
    "                            transitions='standard',# transition_kwargs={'kappa': kappa},\n",
    "                            method='stochastic_em')\n",
    "            \n",
    "            print('fitting {:} model with k={:} and lags={:}'.format(obs, k, lag))\n",
    "            \n",
    "        else:\n",
    "            assert(len(p_set)==2), 'check HMM params'\n",
    "            obs, k = [*p_set]\n",
    "            lag = None\n",
    "            model = ssm.HMM(k, num_features, \n",
    "                            init_method='kmeans',\n",
    "                            observations=obs, \n",
    "                            transitions='standard', #transition_kwargs={'kappa': kappa},\n",
    "                            method='stochastic_em')\n",
    "            \n",
    "            print('fitting {:} model with k={:}'.format(obs, k))\n",
    "        \n",
    "        # model fit\n",
    "        lls = model.fit(train_data_diff, num_iters=ITER, tolerance=TOL)\n",
    "\n",
    "        # record scores\n",
    "        nparams = sum([np.size(i) for i in model.params[-1]] + [np.size(i) for i in model.params[:-1]])\n",
    "        train_eff_n = len(train_data_diff) * len(train_data_diff[0])              \n",
    "        train_score = model.log_likelihood(train_data_diff)    \n",
    "                       \n",
    "        train_av_score = train_score / train_eff_n\n",
    "        train_aic = (-2 * train_score) + (2 * nparams)              \n",
    "        train_bic = (-2 * train_score) + nparams * np.log(train_eff_n)\n",
    "              \n",
    "        test_eff_n = len(test_data_diff) * len(test_data_diff[0])              \n",
    "        test_score = model.log_likelihood(test_data_diff)\n",
    "        \n",
    "        test_av_score = test_score / test_eff_n\n",
    "        test_aic = (-2 * test_score) + (2 * nparams)              \n",
    "        test_bic = (-2 * test_score) + nparams * np.log(test_eff_n)\n",
    "                \n",
    "        print('training LL: {:.2f}  training AIC: {:.2f}  training BIC: {:.2f}  testing LL: {:.2f}  testing AIC {:.2f}  testing BIC: {:.2f}'.format(train_av_score, train_aic, train_bic, test_av_score, test_aic, test_bic))\n",
    "        print('sample mean rle: {:.2f}'.format(np.mean(ssm.util.rle(model.most_likely_states(train_data_diff[0]))[1]) * .1))\n",
    "        print('')\n",
    "        print('-----------------------------------------------')\n",
    "\n",
    "        # store\n",
    "        hmm_results[n_p, 0, f] = train_score\n",
    "        hmm_results[n_p, 1, f] = train_av_score\n",
    "        hmm_results[n_p, 2, f] = train_aic\n",
    "        hmm_results[n_p, 3, f] = train_bic\n",
    "\n",
    "        hmm_results[n_p, 4, f] = test_score\n",
    "        hmm_results[n_p, 5, f] = test_av_score\n",
    "        hmm_results[n_p, 6, f] = test_aic\n",
    "        hmm_results[n_p, 7, f] = test_bic\n",
    "\n",
    "        fig, axs = plt.subplots(5, 1, figsize=(5,8), sharex=True)\n",
    "        for ax in axs:\n",
    "            sns.lineplot(np.arange(num_features)+model.sample(num_timepoints+1000)[1][1000:], lw=.5, dashes=False, ax=ax, legend=False, palette='husl')\n",
    "            ax.set_ylim(-5,25)\n",
    "        axs[0].set_title('model samples')\n",
    "        sns.despine(left=True, bottom=True)\n",
    "        plt.tight_layout()\n",
    "        if lag is not None:\n",
    "            plt.savefig('outputs/cv-samples/HMMmodel-samples-{:}-k{:}-lag{:}-fold{:}.png'.format(obs, k, lag, f), transparent=False, dpi=300)\n",
    "        else:\n",
    "            plt.savefig('outputs/cv-samples/HMMmodel-samples-{:}-k{:}-fold{:}.png'.format(obs, k, f), transparent=False, dpi=300)\n",
    "        plt.close()\n",
    "        \n",
    "        \n",
    "    for n_p, p_set in enumerate(GMM_PARAMS):\n",
    "        obs, k = [*p_set]\n",
    "        \n",
    "        concat_data = np.concatenate(train_data_diff)\n",
    "        \n",
    "        model = GaussianMixture(n_components=k, covariance_type=obs, max_iter=ITER, tol=TOL)\n",
    "        model.fit(concat_data)\n",
    "        \n",
    "        train_av_score = model.score(concat_data)\n",
    "        train_score = train_av_score * len(concat_data)\n",
    "        train_aic = model.aic(concat_data)\n",
    "        train_bic = model.bic(concat_data)\n",
    "\n",
    "        test_av_score = model.score(np.concatenate(test_data_diff))\n",
    "        test_score = test_score * len(np.concatenate(test_data_diff))\n",
    "        test_aic = model.aic(np.concatenate(test_data_diff))\n",
    "        test_bic = model.bic(np.concatenate(test_data_diff))\n",
    "        \n",
    "        print('fitting gaussian mixture model with k={:}'.format(k))\n",
    "        print('training LL: {:.2f}  training AIC: {:.2f}  training BIC: {:.2f}  testing LL: {:.2f}  testing AIC {:.2f}  testing BIC: {:.2f}'.format(train_av_score, train_aic, train_bic, test_av_score, test_aic, test_bic))\n",
    "        print('')\n",
    "        print('-----------------------------------------------')\n",
    "\n",
    "        # store\n",
    "        gmm_results[n_p, 0, f] = train_score\n",
    "        gmm_results[n_p, 1, f] = train_av_score\n",
    "        gmm_results[n_p, 2, f] = train_aic\n",
    "        gmm_results[n_p, 3, f] = train_bic\n",
    "\n",
    "        gmm_results[n_p, 4, f] = test_score\n",
    "        gmm_results[n_p, 5, f] = test_av_score\n",
    "        gmm_results[n_p, 6, f] = test_aic\n",
    "        gmm_results[n_p, 7, f] = test_bic\n",
    "\n",
    "        fig, axs = plt.subplots(5, 1, figsize=(5,8), sharex=True)\n",
    "        for ax in axs:\n",
    "            sns.lineplot(np.arange(num_features)+model.sample(num_timepoints+1000)[0][1000:], lw=.5, dashes=False, ax=ax, legend=False, palette='husl')\n",
    "            ax.set_ylim(-5,25)\n",
    "        axs[0].set_title('model samples')\n",
    "        sns.despine(left=True, bottom=True)\n",
    "        plt.tight_layout()\n",
    "        plt.savefig('outputs/cv-samples/MMmodel-samples-{:}-k{:}-fold{:}.png'.format(obs, k, f), transparent=False)\n",
    "        plt.close()\n",
    "        "
   ]
  },
  {
   "cell_type": "markdown",
   "metadata": {},
   "source": [
    "### Concatenate and save out CV results"
   ]
  },
  {
   "cell_type": "code",
   "execution_count": 7,
   "metadata": {
    "scrolled": true
   },
   "outputs": [],
   "source": [
    "# HMM\n",
    "param_df = pd.DataFrame(ALL_HMM_PARAMS)\n",
    "param_df.fillna(value=0, inplace=True)\n",
    "\n",
    "hmm_results_df = pd.DataFrame()\n",
    "for f in np.arange(CV):\n",
    "    fold_df = pd.DataFrame(pd.concat((param_df, pd.DataFrame(hmm_results[:,:,f])), axis=1))\n",
    "    fold_df.columns = ['obs_model', 'states', 'lag', 'train_LL', 'train_av_LL', 'train_aic', 'train_bic', 'test_LL', 'test_av_LL', 'test_aic', 'test_bic']\n",
    "    fold_df.insert(2, 'fold', [f+1]*len(ALL_HMM_PARAMS))\n",
    "    hmm_results_df = pd.concat((hmm_results_df, fold_df)).reset_index(drop=True)\n",
    "\n",
    "\n",
    "# GMM    \n",
    "param_df = pd.DataFrame(GMM_PARAMS)\n",
    "param_df.fillna(value=0, inplace=True)\n",
    "\n",
    "gmm_results_df = pd.DataFrame()\n",
    "for f in np.arange(CV):\n",
    "    fold_df = pd.DataFrame(pd.concat((param_df, pd.DataFrame(gmm_results[:,:,f])), axis=1))\n",
    "    fold_df.columns = ['obs_model', 'states', 'train_LL', 'train_av_LL', 'train_aic', 'train_bic', 'test_LL', 'test_av_LL', 'test_aic', 'test_bic']\n",
    "    fold_df.insert(2, 'fold', [f+1]*len(GMM_PARAMS))\n",
    "    gmm_results_df = pd.concat((gmm_results_df, fold_df)).reset_index(drop=True)\n",
    "    \n",
    "    \n",
    "all_results = pd.concat((hmm_results_df, gmm_results_df), axis=0, ignore_index=True)\n",
    "all_results.to_csv('outputs/cross-validation-results.csv', index=None)"
   ]
  },
  {
   "cell_type": "markdown",
   "metadata": {},
   "source": [
    "### Plot goodness-of-fit "
   ]
  },
  {
   "cell_type": "code",
   "execution_count": 8,
   "metadata": {},
   "outputs": [],
   "source": [
    "all_results = pd.read_csv('outputs/cross-validation-results.csv')"
   ]
  },
  {
   "cell_type": "code",
   "execution_count": 9,
   "metadata": {
    "scrolled": false
   },
   "outputs": [
    {
     "data": {
      "image/png": "[encoded data removed]",
      "text/plain": [
       "<Figure size 1000x500 with 2 Axes>"
      ]
     },
     "metadata": {},
     "output_type": "display_data"
    }
   ],
   "source": [
    "FONTSIZE = 16\n",
    "\n",
    "# set legend handle size\n",
    "plt.rcParams['legend.handlelength'] = 1\n",
    "plt.rcParams['legend.handleheight'] = 1\n",
    "\n",
    "# create a figure with two subplots\n",
    "fig, ax = plt.subplots(1, 2, figsize=(10,5), width_ratios=[2, 3])\n",
    "\n",
    "# plot the barplot on the first subplot\n",
    "sns.barplot(all_results.groupby('obs_model').median(numeric_only=True).reset_index(), \n",
    "            x='obs_model', y='test_av_LL', order=['ar','gaussian','full'], \n",
    "            palette=['#84af9c','#fac7d1', '#f590a3'],\n",
    "            ax=ax[0], linewidth=1, edgecolor='black')\n",
    "ax[0].axhline(0, lw=1, c='black')\n",
    "\n",
    "# plot the swarmplot and boxplot on the second subplot\n",
    "sns.swarmplot(data=all_results[all_results['obs_model']=='ar'], \n",
    "                x='states', y='test_aic', hue='lag', \n",
    "                dodge=True, legend=False, \n",
    "                palette=['#84af9c','#fbceae'],\n",
    "                ax=ax[1], edgecolor='black', size=5, linewidth=1) \n",
    "sns.boxplot(data=all_results[all_results['obs_model']=='ar'], \n",
    "                x='states', y='test_aic', hue='lag', \n",
    "                palette=['#84af9c','#fbceae'],\n",
    "                ax=ax[1]) \n",
    "\n",
    "# set y-axis labels for both subplots\n",
    "ax[0].set_ylabel('average LL', fontsize=FONTSIZE)\n",
    "ax[1].set_ylabel(r'AIC ($\\times 10^{-5}$)', fontsize=FONTSIZE)\n",
    "\n",
    "# format y-axis labels for both subplots\n",
    "ax[1].get_yticklabels()\n",
    "ax[1].yaxis.set_major_formatter(FuncFormatter(lambda x, pos: '{:.0f}'.format(x/10000)))\n",
    "\n",
    "# set legend title and label fonts, and format legend labels\n",
    "legend = ax[1].legend()\n",
    "legend.set_title('AR lags')\n",
    "legend.get_title().set_fontsize(FONTSIZE-2)\n",
    "legend.get_title().set_position((10, 0))\n",
    "\n",
    "for handle in legend.get_texts():\n",
    "    handle.set_fontsize(FONTSIZE-2)\n",
    "    #handle.set_text(str(int(float(handle.get_text()))))\n",
    "legend.set_frame_on(False)\n",
    "\n",
    "# format tick labels for both subplots\n",
    "for a in ax:\n",
    "    a.tick_params(axis='both', labelsize=FONTSIZE)\n",
    "\n",
    "# set x-axis labels and ticks for both subplots\n",
    "ax[0].set_xticklabels(['ARHMM', 'HMM', 'GMM'])\n",
    "ax[0].set_xlabel('')\n",
    "ax[1].set_xlabel('number of states', fontsize=FONTSIZE)\n",
    "\n",
    "# adjust subplot spacing\n",
    "plt.tight_layout()\n",
    "plt.savefig('figures/cross_validation_model_fit.png', transparent=False, dpi=350)\n"
   ]
  },
  {
   "cell_type": "markdown",
   "metadata": {},
   "source": [
    "### Refit on full dataset\n",
    "\n",
    "To account for stochasticity - 25 versions of the final model were fit. For each sample, model parameters were averaged over all 25 models for analysis"
   ]
  },
  {
   "cell_type": "code",
   "execution_count": 12,
   "metadata": {},
   "outputs": [
    {
     "name": "stdout",
     "output_type": "stream",
     "text": [
      "data shape:  (486, 15, 1800)\n"
     ]
    },
    {
     "name": "stderr",
     "output_type": "stream",
     "text": [
      "Converged to LP: -12714920.5:  72%|███████▏  | 362/500 [5:16:18<2:00:34, 52.43s/it]\n",
      "Converged to LP: -12725457.4:  72%|███████▏  | 362/500 [6:02:11<2:18:04, 60.03s/it]\n",
      "Converged to LP: -12723456.5:  69%|██████▉   | 345/500 [6:08:33<2:45:34, 64.10s/it]\n",
      "Converged to LP: -12725457.4:  77%|███████▋  | 387/500 [6:43:48<1:57:54, 62.61s/it]\n",
      "Converged to LP: -12725856.0:  90%|█████████ | 450/500 [7:11:52<47:59, 57.58s/it]\n",
      "Converged to LP: -12725056.3:  92%|█████████▏| 458/500 [7:13:07<39:43, 56.74s/it]\n",
      "Converged to LP: -12725457.4:  87%|████████▋ | 437/500 [7:53:01<1:08:11, 64.95s/it]\n",
      "LP: -12734232.3: 100%|██████████| 500/500 [8:25:56<00:00, 60.71s/it]]]\n",
      "Converged to LP: -12725457.4:  64%|██████▍   | 320/500 [5:08:09<2:53:20, 57.78s/it]\n",
      "Converged to LP: -12723456.5:  66%|██████▌   | 328/500 [5:33:15<2:54:45, 60.96s/it]\n",
      "Converged to LP: -12728022.6:  70%|███████   | 351/500 [6:01:29<2:33:27, 61.79s/it]\n",
      "LP: -12714920.5: 100%|██████████| 500/500 [8:02:46<00:00, 57.93s/it]t]\n",
      "Converged to LP: -12725457.5:  86%|████████▌ | 430/500 [7:00:50<1:08:30, 58.72s/it]\n",
      "Converged to LP: -12714920.5:  68%|██████▊   | 339/500 [5:54:05<2:48:10, 62.67s/it]\n",
      "Converged to LP: -12714920.5:  96%|█████████▌| 479/500 [7:29:08<19:41, 56.26s/it]\n",
      "Converged to LP: -12714920.5:  85%|████████▍ | 423/500 [6:48:59<1:14:27, 58.01s/it]\n",
      "Converged to LP: -12714920.5:  62%|██████▏   | 309/500 [5:02:37<3:07:03, 58.76s/it]\n",
      "Converged to LP: -12723456.5:  66%|██████▌   | 331/500 [5:00:34<2:33:28, 54.49s/it]\n",
      "Converged to LP: -12723456.4:  58%|█████▊    | 289/500 [4:25:37<3:13:56, 55.15s/it]\n",
      "Converged to LP: -12714920.5:  78%|███████▊  | 391/500 [6:00:55<1:40:36, 55.38s/it]\n",
      "Converged to LP: -12725457.4:  80%|████████  | 401/500 [6:36:20<1:37:51, 59.30s/it]\n",
      "Converged to LP: -12725056.1:  79%|███████▊  | 393/500 [5:19:34<1:27:00, 48.79s/it]\n",
      "Converged to LP: -12725457.4:  85%|████████▍ | 424/500 [6:01:44<1:04:50, 51.19s/it]\n",
      "Converged to LP: -12725457.4:  76%|███████▌  | 378/500 [4:30:46<1:27:23, 42.98s/it]\n",
      "LP: -12725457.5: 100%|██████████| 500/500 [6:34:58<00:00, 47.40s/it]\n"
     ]
    }
   ],
   "source": [
    "# chosen parameters\n",
    "K = 8\n",
    "LAG = 2\n",
    "OBS = 'ar'\n",
    "\n",
    "# load data\n",
    "all_data = np.load('outputs/all_processed_timeseries_data.npy')\n",
    "print('data shape: ', np.shape(all_data))\n",
    "\n",
    "all_data = [i.T for i in all_data]\n",
    "\n",
    "# standardise PC weights\n",
    "all_data_scaled = (all_data - np.mean(all_data, axis=1)[:,np.newaxis,:]) / np.std(all_data, axis=1)[:, np.newaxis, :]\n",
    "\n",
    "# take first difference\n",
    "all_data_diff = np.diff(all_data_scaled, n=1, axis=1)\n",
    "\n",
    "# global normalise\n",
    "all_data_diff = all_data_diff / np.std(all_data_diff, axis=(1,2))[:, np.newaxis, np.newaxis]\n",
    "all_data_diff = [all_data_diff[i] for i in np.arange(len(all_data_diff))]\n",
    "\n",
    "# Train model instances\n",
    "num_reps=25\n",
    "all_models = Parallel(n_jobs=8)(delayed(train_model_parallel)(rep, all_data_diff, obs=OBS, k=K, lag=LAG, num_features=num_features) for rep in np.arange(num_reps))"
   ]
  },
  {
   "cell_type": "markdown",
   "metadata": {},
   "source": [
    "### Save out models and data for further analysis\n",
    "\n",
    "We first select the best fit model based on log-likelihood, then permute state ordering of each model to match the best one. We then create an average model by averaging model parameters over all 25 fitted models."
   ]
  },
  {
   "cell_type": "code",
   "execution_count": 18,
   "metadata": {},
   "outputs": [],
   "source": [
    "# save out models\n",
    "with open('outputs/all-models.pkl', 'wb') as fp:\n",
    "    pickle.dump(all_models, fp)\n",
    "    \n",
    "# gather likelihood scores\n",
    "lls = [m.log_likelihood(all_data_diff) for m in all_models]\n",
    "\n",
    "# predict state sequences\n",
    "all_orig_states = []\n",
    "for m in all_models:\n",
    "    all_orig_states.append(np.concatenate([m.most_likely_states(d) for d in all_data_diff]))\n",
    "    \n",
    "# use sequences to permute all model states to match best model\n",
    "best_model = lls.index(np.max(lls))\n",
    "for n,m in enumerate(all_models):\n",
    "    m.permute(ssm.util.find_permutation(all_orig_states[best_model], all_orig_states[n]))\n",
    "\n",
    "# save out aligned models\n",
    "with open('outputs/all-models-aligned.pkl', 'wb') as fp:\n",
    "    pickle.dump(all_models, fp)\n",
    "    \n",
    "# average model parameters\n",
    "# init state distribution\n",
    "av_init_state_distn = [m.params[0][0] for m in all_models]\n",
    "av_init_state_distn = tuple((np.stack(av_init_state_distn).mean(0))[np.newaxis,])\n",
    "\n",
    "# transition params\n",
    "av_transitions = [m.params[1][0] for m in all_models]\n",
    "av_transitions = tuple((np.stack(av_transitions).mean(0))[np.newaxis,])\n",
    "\n",
    "# observation params\n",
    "av_As = [m.params[2][0] for m in all_models]\n",
    "av_As = np.stack(av_As).mean(0)\n",
    "\n",
    "av_Bs = [m.params[2][1] for m in all_models]\n",
    "av_Bs = np.stack(av_Bs).mean(0)\n",
    "\n",
    "av_Vs = [m.params[2][2] for m in all_models]\n",
    "av_Vs = np.stack(av_Vs).mean(0)\n",
    "\n",
    "av_Sigmas = [m.params[2][3] for m in all_models]\n",
    "av_Sigmas = np.stack(av_Sigmas).mean(0)\n",
    "\n",
    "# all together now\n",
    "average_params = tuple([(av_init_state_distn), av_transitions, tuple((av_As, av_Bs, av_Vs, av_Sigmas))])\n",
    "\n",
    "# set parameters\n",
    "average_model = copy.deepcopy(all_models[best_model])\n",
    "average_model.params = average_params\n",
    "\n",
    "# save out\n",
    "with open('outputs/average-model.pkl', 'wb') as fp:\n",
    "    pickle.dump(average_model, fp)\n",
    "    \n",
    "# save out data\n",
    "np.save('outputs/all_model_data.npy', all_data_diff)"
   ]
  },
  {
   "cell_type": "code",
   "execution_count": null,
   "metadata": {},
   "outputs": [],
   "source": []
  }
 ],
 "metadata": {
  "kernelspec": {
   "display_name": "Python 3 (ipykernel)",
   "language": "python",
   "name": "python3"
  },
  "language_info": {
   "codemirror_mode": {
    "name": "ipython",
    "version": 3
   },
   "file_extension": ".py",
   "mimetype": "text/x-python",
   "name": "python",
   "nbconvert_exporter": "python",
   "pygments_lexer": "ipython3",
   "version": "3.10.9"
  }
 },
 "nbformat": 4,
 "nbformat_minor": 4
}
