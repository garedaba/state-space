{
 "cells": [
  {
   "cell_type": "code",
   "execution_count": 26,
   "metadata": {},
   "outputs": [],
   "source": [
    "import sys\n",
    "import os\n",
    "import ssm\n",
    "import itertools\n",
    "import pickle \n",
    "import copy\n",
    "\n",
    "import autograd.numpy          as np\n",
    "import pandas                  as pd\n",
    "\n",
    "import matplotlib.pyplot       as plt\n",
    "import seaborn                 as sns\n",
    "from   matplotlib.ticker       import FuncFormatter\n",
    "\n",
    "\n",
    "from   sklearn.model_selection import KFold\n",
    "from   sklearn.mixture         import GaussianMixture\n",
    "\n",
    "from   joblib                  import Parallel, delayed\n",
    "\n",
    "sns.set_style(\"white\")\n",
    "#sns.set_context(\"talk\")\n",
    "\n",
    "def train_model_parallel(rep, time_series, k=10, num_features=15, obs='ar', lag=1):\n",
    "    if obs=='ar':\n",
    "        model = ssm.HMM(k, num_features, \n",
    "                        init_method='kmeans',\n",
    "                        observations=obs, observation_kwargs={'lags': lag},\n",
    "                        method='stochastic_em', \n",
    "                        transitions='standard')\n",
    "    else:\n",
    "        model = ssm.HMM(k, num_features, \n",
    "                        init_method='kmeans',\n",
    "                        observations=obs,\n",
    "                        method='stochastic_em', \n",
    "                        transitions='standard')\n",
    "        \n",
    "    ll = model.fit(time_series, num_iters=200, tolerance=1e-3)\n",
    "    \n",
    "    return model"
   ]
  },
  {
   "cell_type": "markdown",
   "metadata": {},
   "source": [
    "## Autoregressive Hidden Markov Models for modelling baby movement\n",
    "Using the [ssm](https://github.com/lindermanlab/ssm) package.  \n",
    "\n",
    "### Aims\n",
    "- Fit (AR)HMM models to pre-processed movement data  \n",
    "- Compare model fit when including autoregressive terms in observations  \n",
    "- Use cross-validation to determine number of hidden states and lag\n",
    "\n",
    "Using Hidden Markov Models (HMM), a continuous, $D$-dimension $\\times$ $t$-timestep timeseries, $X$, can be modelled as a Markov process, $Z$, with a set of $K$ hidden states, {$z_1$, $z_2$, $...$, $z_k$}, that are not directly observable. Each state is associated with a $D$-dimensional mean $\\mu_k$ and $D \\times D$ covariance matrix $S_k$ from which the multivariate observations are drawn at each time step. The hidden states are assumed to progress as a Markov process, where the next state is dependent only on the current state: $p(z_t | z_{t-1})$. Switches between states are governed by a $K \\times K$ transition matrix, $T$ containing state transition probabilities, $\\phi$, where $\\phi_{zz'}$ indicates the probability of transitioning from state $z$ at time $t$ to state $z'$ at time $t+1$. As any given state is only dependent on the previous state, HMMs do not capture autocorrelations in timeseries data.\n",
    "\n",
    "In an AutoRegressive HMM (ARHMM), the observations, $x_t$ at time $t$ are dependent on $both$ the hidden state, $z_t$, and the observations at previous timespoints, {$x_{t-1}$, $x_{t-2}$, $...$, $x_{t-n}$} with $n$ determined by the degree of lag specified. As such the observation model for a given state, $z_k$, is defined as:\n",
    "\n",
    "$$ x_t | x_{t-1:L}, z_k \\sim N(\\sum_{l=1}^LA_k^{(l)}x_{t-l}+b_k,S_k)$$   \n",
    "\n",
    ".... i think this is the right formulation for multiple lags...\n",
    "\n",
    "where $x_t$ is a set of observations at time $t$, $A_k^{(l)}$ is a matrix containing the linear dynamics for the given state (the relationship between observations at time $t$ and at a given lag, $l$), $b_k$ is a state-dependent bias (average value of each variable in each state) and $S_k$ is a state-dependent covariance function, modelling observation noise.\n",
    "\n",
    "<img src=\"graphical_model.png\" width=\"500\"/>\n",
    "\n",
    "\n"
   ]
  },
  {
   "cell_type": "markdown",
   "metadata": {},
   "source": [
    "### Parameters"
   ]
  },
  {
   "cell_type": "code",
   "execution_count": 5,
   "metadata": {},
   "outputs": [],
   "source": [
    "CV = 5 # number of cross-validation folds\n",
    "ITER = 200\n",
    "TOL = 1e-2\n",
    "\n",
    "# ARHMM\n",
    "ARHMM_OBS = ['ar']\n",
    "ARHMM_K = [1, 2, 5, 8, 10, 15] #k=1 is standard AR\n",
    "ARHMM_LAGS = [1, 2]\n",
    "ARHMM_PARAMS = list(itertools.product(ARHMM_OBS, ARHMM_K, ARHMM_LAGS))\n",
    "\n",
    "# HMM (no autoregression)\n",
    "HMM_OBS = ['gaussian']\n",
    "HMM_K = [1, 2, 5, 8, 10, 15]\n",
    "HMM_PARAMS = list(itertools.product(HMM_OBS, HMM_K))\n",
    "\n",
    "ALL_HMM_PARAMS =  ARHMM_PARAMS + HMM_PARAMS\n",
    "\n",
    "# GMM (no state progression)\n",
    "GMM_OBS = ['full']\n",
    "GMM_K = [1, 2, 5, 8, 10, 15]\n",
    "\n",
    "GMM_PARAMS = list(itertools.product(GMM_OBS, GMM_K))\n",
    "\n",
    "RAND_STATE = 1001"
   ]
  },
  {
   "cell_type": "markdown",
   "metadata": {},
   "source": [
    "### Load preprocessed data\n",
    "\n",
    "Data represents a $subject \\times feature \\times timepoint$ array. Where $features$ are the framewise velocities (first derivative) of principal movements extracted from keypoint trajectory data. Subect data are split into cross-validation folds, ensuring no subject has video in both test and train in any given fold."
   ]
  },
  {
   "cell_type": "code",
   "execution_count": 6,
   "metadata": {},
   "outputs": [
    {
     "name": "stdout",
     "output_type": "stream",
     "text": [
      "data shape:  (100, 15, 1800)\n"
     ]
    }
   ],
   "source": [
    "data = np.load('outputs/random_subset_processed_timeseries_data.npy')\n",
    "info = pd.read_csv('outputs/random_subset_info.csv')\n",
    "os.makedirs('outputs/cv-samples', exist_ok=True)\n",
    "\n",
    "print('data shape: ', np.shape(data))\n",
    "num_vids, num_features, num_timepoints = data.shape\n",
    "\n",
    "#train test \n",
    "# split on participant (not video) to ensure that same subject data are not in both train and test\n",
    "unique_participants = info.drop_duplicates(subset = 'idnum', keep = 'first')\n",
    "X = unique_participants['idnum'].values\n",
    "\n",
    "# get splits\n",
    "kf = KFold(n_splits=CV, shuffle=True, random_state=RAND_STATE).split(X)\n",
    "\n",
    "# get participant train and test ids for each fold\n",
    "kfold_idx = [(X[train_idx], X[test_idx]) for train_idx, test_idx in kf]\n",
    "\n",
    "# get index in 'info' and 'data' for entries that match the unique participant id\n",
    "kfold_idx = [(np.where(info['idnum'].isin(trainidx))[0], np.where(info['idnum'].isin(testidx))[0])  for trainidx, testidx in kfold_idx]\n",
    "\n",
    "# check there are no participants in both train and test in a given fold\n",
    "for k in np.arange(CV):\n",
    "    assert len(set(info.iloc[kfold_idx[k][0]].participant.unique()) & set(info.iloc[kfold_idx[k][1]].participant.unique())) == 0"
   ]
  },
  {
   "cell_type": "markdown",
   "metadata": {},
   "source": [
    "### Run cross-validation\n",
    "HMMs for each parameter set are run in a k-fold cross-valisation with per-observation average log likelihood in both train and test data and AIC as a measure of model fit. The score reflect the likelihood that a given $D$-dimensional observation could have been generated by a given model. We compare ARHMM at different lags and with different states with standard HMM (no autocorrelation) over a number of states and Gaussian Mixture Models (stationary model where observations are simply drawn from separate distributions and we do not model state progression). \n",
    "\n",
    "Models are trained for a maximum of 200 Expectation-Maximisation iterations, stopping early if change in log-likelihood is less than 0.01\n"
   ]
  },
  {
   "cell_type": "code",
   "execution_count": 7,
   "metadata": {
    "scrolled": true
   },
   "outputs": [
    {
     "name": "stdout",
     "output_type": "stream",
     "text": [
      "FOLD 1----------------------------------------------\n",
      "fitting ar model with k=1 and lags=1\n"
     ]
    },
    {
     "data": {
      "application/vnd.jupyter.widget-view+json": {
       "model_id": "218f3ee6c34b4257a76a183f5cb134bf",
       "version_major": 2,
       "version_minor": 0
      },
      "text/plain": [
       "  0%|          | 0/200 [00:00<?, ?it/s]"
      ]
     },
     "metadata": {},
     "output_type": "display_data"
    },
    {
     "name": "stdout",
     "output_type": "stream",
     "text": [
      "training LL: -19.85  training AIC: 5571175.59  training BIC: 5575776.33  testing LL: -19.89  testing AIC 1575082.19  testing BIC: 1579091.86\n",
      "sample mean rle: 179.90\n",
      "\n",
      "-----------------------------------------------\n",
      "fitting ar model with k=1 and lags=2\n"
     ]
    },
    {
     "data": {
      "application/vnd.jupyter.widget-view+json": {
       "model_id": "ccdcb056b1254f1295891df968ad9973",
       "version_major": 2,
       "version_minor": 0
      },
      "text/plain": [
       "  0%|          | 0/200 [00:00<?, ?it/s]"
      ]
     },
     "metadata": {},
     "output_type": "display_data"
    },
    {
     "name": "stdout",
     "output_type": "stream",
     "text": [
      "training LL: -19.34  training AIC: 5427919.99  training BIC: 5434737.37  testing LL: -19.27  testing AIC 1526954.59  testing BIC: 1532896.12\n",
      "sample mean rle: 179.90\n",
      "\n",
      "-----------------------------------------------\n",
      "fitting ar model with k=2 and lags=1\n"
     ]
    },
    {
     "data": {
      "application/vnd.jupyter.widget-view+json": {
       "model_id": "262df61dd4be48b1aebd30474590a276",
       "version_major": 2,
       "version_minor": 0
      },
      "text/plain": [
       "  0%|          | 0/200 [00:00<?, ?it/s]"
      ]
     },
     "metadata": {},
     "output_type": "display_data"
    },
    {
     "name": "stdout",
     "output_type": "stream",
     "text": [
      "training LL: -16.96  training AIC: 4762094.94  training BIC: 4771316.13  testing LL: -17.09  testing AIC 1354863.13  testing BIC: 1362899.66\n",
      "sample mean rle: 0.47\n",
      "\n",
      "-----------------------------------------------\n",
      "fitting ar model with k=2 and lags=2\n"
     ]
    },
    {
     "data": {
      "application/vnd.jupyter.widget-view+json": {
       "model_id": "7d8dd91fcd8648099a354a83dafb64cd",
       "version_major": 2,
       "version_minor": 0
      },
      "text/plain": [
       "  0%|          | 0/200 [00:00<?, ?it/s]"
      ]
     },
     "metadata": {},
     "output_type": "display_data"
    },
    {
     "name": "stdout",
     "output_type": "stream",
     "text": [
      "training LL: -16.52  training AIC: 4639911.23  training BIC: 4653565.68  testing LL: -16.57  testing AIC 1314363.48  testing BIC: 1326263.71\n",
      "sample mean rle: 0.46\n",
      "\n",
      "-----------------------------------------------\n",
      "fitting ar model with k=5 and lags=1\n"
     ]
    },
    {
     "data": {
      "application/vnd.jupyter.widget-view+json": {
       "model_id": "c742cfdaf5cd4884bd9163abb4529fab",
       "version_major": 2,
       "version_minor": 0
      },
      "text/plain": [
       "  0%|          | 0/200 [00:00<?, ?it/s]"
      ]
     },
     "metadata": {},
     "output_type": "display_data"
    },
    {
     "name": "stdout",
     "output_type": "stream",
     "text": [
      "training LL: -15.61  training AIC: 4386114.56  training BIC: 4409315.30  testing LL: -15.75  testing AIC 1251677.85  testing BIC: 1271897.94\n",
      "sample mean rle: 0.27\n",
      "\n",
      "-----------------------------------------------\n",
      "fitting ar model with k=5 and lags=2\n"
     ]
    },
    {
     "data": {
      "application/vnd.jupyter.widget-view+json": {
       "model_id": "311730bec5554fbea11cd48c1d16e1b3",
       "version_major": 2,
       "version_minor": 0
      },
      "text/plain": [
       "  0%|          | 0/200 [00:00<?, ?it/s]"
      ]
     },
     "metadata": {},
     "output_type": "display_data"
    },
    {
     "name": "stdout",
     "output_type": "stream",
     "text": [
      "training LL: -15.23  training AIC: 4280222.51  training BIC: 4314506.41  testing LL: -15.29  testing AIC 1216952.48  testing BIC: 1246831.86\n",
      "sample mean rle: 0.26\n",
      "\n",
      "-----------------------------------------------\n",
      "fitting ar model with k=8 and lags=1\n"
     ]
    },
    {
     "data": {
      "application/vnd.jupyter.widget-view+json": {
       "model_id": "323d55cb4d064001bd969dcd2bdf678c",
       "version_major": 2,
       "version_minor": 0
      },
      "text/plain": [
       "  0%|          | 0/200 [00:00<?, ?it/s]"
      ]
     },
     "metadata": {},
     "output_type": "display_data"
    },
    {
     "name": "stdout",
     "output_type": "stream",
     "text": [
      "training LL: -15.24  training AIC: 4284741.98  training BIC: 4322099.60  testing LL: -15.41  testing AIC 1227659.01  testing BIC: 1260217.23\n",
      "sample mean rle: 0.22\n",
      "\n",
      "-----------------------------------------------\n",
      "fitting ar model with k=8 and lags=2\n"
     ]
    },
    {
     "data": {
      "application/vnd.jupyter.widget-view+json": {
       "model_id": "67a42db8534e48d6a5e370aa67b4911e",
       "version_major": 2,
       "version_minor": 0
      },
      "text/plain": [
       "  0%|          | 0/200 [00:00<?, ?it/s]"
      ]
     },
     "metadata": {},
     "output_type": "display_data"
    },
    {
     "name": "stdout",
     "output_type": "stream",
     "text": [
      "training LL: -14.79  training AIC: 4162368.12  training BIC: 4217458.80  testing LL: -14.91  testing AIC 1191767.09  testing BIC: 1239780.17\n",
      "sample mean rle: 0.22\n",
      "\n",
      "-----------------------------------------------\n",
      "fitting ar model with k=10 and lags=1\n"
     ]
    },
    {
     "data": {
      "application/vnd.jupyter.widget-view+json": {
       "model_id": "eb9a2d56487243d9ac34101c00883e81",
       "version_major": 2,
       "version_minor": 0
      },
      "text/plain": [
       "  0%|          | 0/200 [00:00<?, ?it/s]"
      ]
     },
     "metadata": {},
     "output_type": "display_data"
    },
    {
     "name": "stdout",
     "output_type": "stream",
     "text": [
      "training LL: -15.09  training AIC: 4243147.90  training BIC: 4290041.97  testing LL: -15.26  testing AIC 1217691.07  testing BIC: 1258560.57\n",
      "sample mean rle: 0.20\n",
      "\n",
      "-----------------------------------------------\n",
      "fitting ar model with k=10 and lags=2\n"
     ]
    },
    {
     "data": {
      "application/vnd.jupyter.widget-view+json": {
       "model_id": "4cee4491f99a48b290f4c4521f21a3c4",
       "version_major": 2,
       "version_minor": 0
      },
      "text/plain": [
       "  0%|          | 0/200 [00:00<?, ?it/s]"
      ]
     },
     "metadata": {},
     "output_type": "display_data"
    },
    {
     "name": "stdout",
     "output_type": "stream",
     "text": [
      "training LL: -14.65  training AIC: 4124944.80  training BIC: 4194005.18  testing LL: -14.76  testing AIC 1182751.91  testing BIC: 1242939.97\n",
      "sample mean rle: 0.20\n",
      "\n",
      "-----------------------------------------------\n",
      "fitting ar model with k=15 and lags=1\n"
     ]
    },
    {
     "data": {
      "application/vnd.jupyter.widget-view+json": {
       "model_id": "890bb824a23e4b81a50629e89d4cb58a",
       "version_major": 2,
       "version_minor": 0
      },
      "text/plain": [
       "  0%|          | 0/200 [00:00<?, ?it/s]"
      ]
     },
     "metadata": {},
     "output_type": "display_data"
    },
    {
     "name": "stdout",
     "output_type": "stream",
     "text": [
      "training LL: -14.81  training AIC: 4170324.33  training BIC: 4241404.31  testing LL: -15.03  testing AIC 1204271.58  testing BIC: 1266219.78\n",
      "sample mean rle: 0.19\n",
      "\n",
      "-----------------------------------------------\n",
      "fitting ar model with k=15 and lags=2\n"
     ]
    },
    {
     "data": {
      "application/vnd.jupyter.widget-view+json": {
       "model_id": "4ce921312d90490d843237fc65e288d6",
       "version_major": 2,
       "version_minor": 0
      },
      "text/plain": [
       "  0%|          | 0/200 [00:00<?, ?it/s]"
      ]
     },
     "metadata": {},
     "output_type": "display_data"
    },
    {
     "name": "stdout",
     "output_type": "stream",
     "text": [
      "training LL: -14.36  training AIC: 4050055.86  training BIC: 4154385.31  testing LL: -14.55  testing AIC 1173114.43  testing BIC: 1264040.47\n",
      "sample mean rle: 0.19\n",
      "\n",
      "-----------------------------------------------\n",
      "fitting gaussian model with k=1\n"
     ]
    },
    {
     "data": {
      "application/vnd.jupyter.widget-view+json": {
       "model_id": "3ca6242e7c984354ad6916cd757d9f03",
       "version_major": 2,
       "version_minor": 0
      },
      "text/plain": [
       "  0%|          | 0/200 [00:00<?, ?it/s]"
      ]
     },
     "metadata": {},
     "output_type": "display_data"
    },
    {
     "name": "stdout",
     "output_type": "stream",
     "text": [
      "training LL: -20.66  training AIC: 5799517.43  training BIC: 5801901.54  testing LL: -20.79  testing AIC 1646032.84  testing BIC: 1648110.66\n",
      "sample mean rle: 179.90\n",
      "\n",
      "-----------------------------------------------\n",
      "fitting gaussian model with k=2\n"
     ]
    },
    {
     "data": {
      "application/vnd.jupyter.widget-view+json": {
       "model_id": "b60fd089aeeb49de81f8fcaaccf79940",
       "version_major": 2,
       "version_minor": 0
      },
      "text/plain": [
       "  0%|          | 0/200 [00:00<?, ?it/s]"
      ]
     },
     "metadata": {},
     "output_type": "display_data"
    },
    {
     "name": "stdout",
     "output_type": "stream",
     "text": [
      "training LL: -17.80  training AIC: 4997747.09  training BIC: 5002535.02  testing LL: -18.06  testing AIC 1430572.09  testing BIC: 1434744.90\n",
      "sample mean rle: 0.49\n",
      "\n",
      "-----------------------------------------------\n",
      "fitting gaussian model with k=5\n"
     ]
    },
    {
     "data": {
      "application/vnd.jupyter.widget-view+json": {
       "model_id": "5647573aa51c4027918b5909c78b203e",
       "version_major": 2,
       "version_minor": 0
      },
      "text/plain": [
       "  0%|          | 0/200 [00:00<?, ?it/s]"
      ]
     },
     "metadata": {},
     "output_type": "display_data"
    },
    {
     "name": "stdout",
     "output_type": "stream",
     "text": [
      "training LL: -16.44  training AIC: 4616633.55  training BIC: 4628751.14  testing LL: -16.71  testing AIC 1325078.88  testing BIC: 1335639.69\n",
      "sample mean rle: 0.29\n",
      "\n",
      "-----------------------------------------------\n",
      "fitting gaussian model with k=8\n"
     ]
    },
    {
     "data": {
      "application/vnd.jupyter.widget-view+json": {
       "model_id": "625699be03f24a3285fea46bec5f54c1",
       "version_major": 2,
       "version_minor": 0
      },
      "text/plain": [
       "  0%|          | 0/200 [00:00<?, ?it/s]"
      ]
     },
     "metadata": {},
     "output_type": "display_data"
    },
    {
     "name": "stdout",
     "output_type": "stream",
     "text": [
      "training LL: -16.10  training AIC: 4522916.15  training BIC: 4542540.72  testing LL: -16.38  testing AIC 1300936.84  testing BIC: 1318040.21\n",
      "sample mean rle: 0.26\n",
      "\n",
      "-----------------------------------------------\n",
      "fitting gaussian model with k=10\n"
     ]
    },
    {
     "data": {
      "application/vnd.jupyter.widget-view+json": {
       "model_id": "76772653616b41bdb6f42ff864662dae",
       "version_major": 2,
       "version_minor": 0
      },
      "text/plain": [
       "  0%|          | 0/200 [00:00<?, ?it/s]"
      ]
     },
     "metadata": {},
     "output_type": "display_data"
    },
    {
     "name": "stdout",
     "output_type": "stream",
     "text": [
      "training LL: -15.94  training AIC: 4478190.01  training BIC: 4502917.77  testing LL: -16.23  testing AIC 1289899.11  testing BIC: 1311450.04\n",
      "sample mean rle: 0.25\n",
      "\n",
      "-----------------------------------------------\n",
      "fitting gaussian model with k=15\n"
     ]
    },
    {
     "data": {
      "application/vnd.jupyter.widget-view+json": {
       "model_id": "592f16efeab54771a35140240479e180",
       "version_major": 2,
       "version_minor": 0
      },
      "text/plain": [
       "  0%|          | 0/200 [00:00<?, ?it/s]"
      ]
     },
     "metadata": {},
     "output_type": "display_data"
    },
    {
     "name": "stdout",
     "output_type": "stream",
     "text": [
      "training LL: -15.67  training AIC: 4405193.99  training BIC: 4443024.49  testing LL: -15.99  testing AIC 1273365.76  testing BIC: 1306336.11\n",
      "sample mean rle: 0.24\n",
      "\n",
      "-----------------------------------------------\n",
      "fitting gaussian mixture model with k=1\n",
      "training LL: -20.66  training AIC: 5799303.43  training BIC: 5800633.41  testing LL: -20.79  testing AIC 1645818.82  testing BIC: 1646977.93\n",
      "\n",
      "-----------------------------------------------\n",
      "fitting gaussian mixture model with k=2\n",
      "training LL: -17.98  training AIC: 5046106.83  training BIC: 5048776.64  testing LL: -18.24  testing AIC 1444171.07  testing BIC: 1446497.88\n",
      "\n",
      "-----------------------------------------------\n",
      "fitting gaussian mixture model with k=5\n",
      "training LL: -16.90  training AIC: 4743470.69  training BIC: 4750159.99  testing LL: -17.18  testing AIC 1361072.05  testing BIC: 1366901.97\n",
      "\n",
      "-----------------------------------------------\n",
      "fitting gaussian mixture model with k=8\n",
      "training LL: -16.62  training AIC: 4667305.52  training BIC: 4678014.31  testing LL: -16.92  testing AIC 1341128.18  testing BIC: 1350461.19\n",
      "\n",
      "-----------------------------------------------\n",
      "fitting gaussian mixture model with k=10\n",
      "training LL: -16.47  training AIC: 4624904.64  training BIC: 4638293.09  testing LL: -16.78  testing AIC 1330873.01  testing BIC: 1342541.42\n",
      "\n",
      "-----------------------------------------------\n",
      "fitting gaussian mixture model with k=15\n",
      "training LL: -16.32  training AIC: 4585479.07  training BIC: 4605566.68  testing LL: -16.66  testing AIC 1322809.97  testing BIC: 1340316.88\n",
      "\n",
      "-----------------------------------------------\n",
      "FOLD 2----------------------------------------------\n",
      "fitting ar model with k=1 and lags=1\n"
     ]
    },
    {
     "data": {
      "application/vnd.jupyter.widget-view+json": {
       "model_id": "af9724d6e0c24f049f5e7d2b53ed0090",
       "version_major": 2,
       "version_minor": 0
      },
      "text/plain": [
       "  0%|          | 0/200 [00:00<?, ?it/s]"
      ]
     },
     "metadata": {},
     "output_type": "display_data"
    },
    {
     "name": "stdout",
     "output_type": "stream",
     "text": [
      "training LL: -19.78  training AIC: 5693892.25  training BIC: 5698504.82  testing LL: -20.17  testing AIC 1452228.43  testing BIC: 1456193.59\n",
      "sample mean rle: 179.90\n",
      "\n",
      "-----------------------------------------------\n",
      "fitting ar model with k=1 and lags=2\n"
     ]
    },
    {
     "data": {
      "application/vnd.jupyter.widget-view+json": {
       "model_id": "8cc0ab68ec8f44eba69b0058cc66100f",
       "version_major": 2,
       "version_minor": 0
      },
      "text/plain": [
       "  0%|          | 0/200 [00:00<?, ?it/s]"
      ]
     },
     "metadata": {},
     "output_type": "display_data"
    },
    {
     "name": "stdout",
     "output_type": "stream",
     "text": [
      "training LL: -19.22  training AIC: 5532830.28  training BIC: 5539665.17  testing LL: -19.75  testing AIC 1422514.99  testing BIC: 1428390.56\n",
      "sample mean rle: 179.90\n",
      "\n",
      "-----------------------------------------------\n",
      "fitting ar model with k=2 and lags=1\n"
     ]
    },
    {
     "data": {
      "application/vnd.jupyter.widget-view+json": {
       "model_id": "91fbdabffc434141a4d7c827f91b1b52",
       "version_major": 2,
       "version_minor": 0
      },
      "text/plain": [
       "  0%|          | 0/200 [00:00<?, ?it/s]"
      ]
     },
     "metadata": {},
     "output_type": "display_data"
    },
    {
     "name": "stdout",
     "output_type": "stream",
     "text": [
      "training LL: -16.84  training AIC: 4849816.13  training BIC: 4859061.01  testing LL: -17.59  testing AIC 1267292.76  testing BIC: 1275240.08\n",
      "sample mean rle: 0.46\n",
      "\n",
      "-----------------------------------------------\n",
      "fitting ar model with k=2 and lags=2\n"
     ]
    },
    {
     "data": {
      "application/vnd.jupyter.widget-view+json": {
       "model_id": "b503e5b7ce3244c2ba99c5044fb2a15d",
       "version_major": 2,
       "version_minor": 0
      },
      "text/plain": [
       "  0%|          | 0/200 [00:00<?, ?it/s]"
      ]
     },
     "metadata": {},
     "output_type": "display_data"
    },
    {
     "name": "stdout",
     "output_type": "stream",
     "text": [
      "training LL: -16.36  training AIC: 4713081.54  training BIC: 4726771.07  testing LL: -17.22  testing AIC 1241574.86  testing BIC: 1253343.00\n",
      "sample mean rle: 0.46\n",
      "\n",
      "-----------------------------------------------\n",
      "fitting ar model with k=5 and lags=1\n"
     ]
    },
    {
     "data": {
      "application/vnd.jupyter.widget-view+json": {
       "model_id": "baf2c309fca442e88db69bf3d48444ed",
       "version_major": 2,
       "version_minor": 0
      },
      "text/plain": [
       "  0%|          | 0/200 [00:00<?, ?it/s]"
      ]
     },
     "metadata": {},
     "output_type": "display_data"
    },
    {
     "name": "stdout",
     "output_type": "stream",
     "text": [
      "training LL: -15.46  training AIC: 4454906.52  training BIC: 4478166.88  testing LL: -16.34  testing AIC 1180700.78  testing BIC: 1200696.42\n",
      "sample mean rle: 0.27\n",
      "\n",
      "-----------------------------------------------\n",
      "fitting ar model with k=5 and lags=2\n"
     ]
    },
    {
     "data": {
      "application/vnd.jupyter.widget-view+json": {
       "model_id": "a4706825bceb4190a59b8bde78797a2a",
       "version_major": 2,
       "version_minor": 0
      },
      "text/plain": [
       "  0%|          | 0/200 [00:00<?, ?it/s]"
      ]
     },
     "metadata": {},
     "output_type": "display_data"
    },
    {
     "name": "stdout",
     "output_type": "stream",
     "text": [
      "training LL: -15.01  training AIC: 4326226.05  training BIC: 4360598.05  testing LL: -15.99  testing AIC 1157577.02  testing BIC: 1187124.72\n",
      "sample mean rle: 0.27\n",
      "\n",
      "-----------------------------------------------\n",
      "fitting ar model with k=8 and lags=1\n"
     ]
    },
    {
     "data": {
      "application/vnd.jupyter.widget-view+json": {
       "model_id": "2ce2f0837e2c49fdaddb2f86133c23d5",
       "version_major": 2,
       "version_minor": 0
      },
      "text/plain": [
       "  0%|          | 0/200 [00:00<?, ?it/s]"
      ]
     },
     "metadata": {},
     "output_type": "display_data"
    },
    {
     "name": "stdout",
     "output_type": "stream",
     "text": [
      "training LL: -15.10  training AIC: 4352818.16  training BIC: 4390271.80  testing LL: -16.03  testing AIC 1160895.34  testing BIC: 1193092.14\n",
      "sample mean rle: 0.23\n",
      "\n",
      "-----------------------------------------------\n",
      "fitting ar model with k=8 and lags=2\n"
     ]
    },
    {
     "data": {
      "application/vnd.jupyter.widget-view+json": {
       "model_id": "0031bdbf8c044d5bb06498a3b8797e1a",
       "version_major": 2,
       "version_minor": 0
      },
      "text/plain": [
       "  0%|          | 0/200 [00:00<?, ?it/s]"
      ]
     },
     "metadata": {},
     "output_type": "display_data"
    },
    {
     "name": "stdout",
     "output_type": "stream",
     "text": [
      "training LL: -14.61  training AIC: 4216081.11  training BIC: 4271313.37  testing LL: -15.62  testing AIC 1135556.63  testing BIC: 1183036.73\n",
      "sample mean rle: 0.21\n",
      "\n",
      "-----------------------------------------------\n",
      "fitting ar model with k=10 and lags=1\n"
     ]
    },
    {
     "data": {
      "application/vnd.jupyter.widget-view+json": {
       "model_id": "275bd90f46154401b75b2ab7bbc41808",
       "version_major": 2,
       "version_minor": 0
      },
      "text/plain": [
       "  0%|          | 0/200 [00:00<?, ?it/s]"
      ]
     },
     "metadata": {},
     "output_type": "display_data"
    },
    {
     "name": "stdout",
     "output_type": "stream",
     "text": [
      "training LL: -14.94  training AIC: 4310756.77  training BIC: 4357771.35  testing LL: -15.88  testing AIC 1152370.55  testing BIC: 1192786.37\n",
      "sample mean rle: 0.20\n",
      "\n",
      "-----------------------------------------------\n",
      "fitting ar model with k=10 and lags=2\n"
     ]
    },
    {
     "data": {
      "application/vnd.jupyter.widget-view+json": {
       "model_id": "db9e44cadfe84c8780f700360e14455c",
       "version_major": 2,
       "version_minor": 0
      },
      "text/plain": [
       "  0%|          | 0/200 [00:00<?, ?it/s]"
      ]
     },
     "metadata": {},
     "output_type": "display_data"
    },
    {
     "name": "stdout",
     "output_type": "stream",
     "text": [
      "training LL: -14.45  training AIC: 4172377.60  training BIC: 4241615.46  testing LL: -15.51  testing AIC 1130124.32  testing BIC: 1189644.26\n",
      "sample mean rle: 0.20\n",
      "\n",
      "-----------------------------------------------\n",
      "fitting ar model with k=15 and lags=1\n"
     ]
    },
    {
     "data": {
      "application/vnd.jupyter.widget-view+json": {
       "model_id": "c38374921053494490151abcda0cf9c2",
       "version_major": 2,
       "version_minor": 0
      },
      "text/plain": [
       "  0%|          | 0/200 [00:00<?, ?it/s]"
      ]
     },
     "metadata": {},
     "output_type": "display_data"
    },
    {
     "name": "stdout",
     "output_type": "stream",
     "text": [
      "training LL: -14.65  training AIC: 4231073.24  training BIC: 4302335.89  testing LL: -15.63  testing AIC 1139075.40  testing BIC: 1200335.93\n",
      "sample mean rle: 0.18\n",
      "\n",
      "-----------------------------------------------\n",
      "fitting ar model with k=15 and lags=2\n"
     ]
    },
    {
     "data": {
      "application/vnd.jupyter.widget-view+json": {
       "model_id": "61f39a12b01f4373b32e869640daabfb",
       "version_major": 2,
       "version_minor": 0
      },
      "text/plain": [
       "  0%|          | 0/200 [00:00<?, ?it/s]"
      ]
     },
     "metadata": {},
     "output_type": "display_data"
    },
    {
     "name": "stdout",
     "output_type": "stream",
     "text": [
      "training LL: -14.19  training AIC: 4104340.70  training BIC: 4208938.26  testing LL: -15.28  testing AIC 1120384.30  testing BIC: 1210301.01\n",
      "sample mean rle: 0.18\n",
      "\n",
      "-----------------------------------------------\n",
      "fitting gaussian model with k=1\n"
     ]
    },
    {
     "data": {
      "application/vnd.jupyter.widget-view+json": {
       "model_id": "35bf8207722b4543af2de1e2e06a18be",
       "version_major": 2,
       "version_minor": 0
      },
      "text/plain": [
       "  0%|          | 0/200 [00:00<?, ?it/s]"
      ]
     },
     "metadata": {},
     "output_type": "display_data"
    },
    {
     "name": "stdout",
     "output_type": "stream",
     "text": [
      "training LL: -20.67  training AIC: 5950196.72  training BIC: 5952586.96  testing LL: -20.77  testing AIC 1495008.83  testing BIC: 1497063.58\n",
      "sample mean rle: 179.90\n",
      "\n",
      "-----------------------------------------------\n",
      "fitting gaussian model with k=2\n"
     ]
    },
    {
     "data": {
      "application/vnd.jupyter.widget-view+json": {
       "model_id": "2ef58445702243ff8d4b8fe34b321622",
       "version_major": 2,
       "version_minor": 0
      },
      "text/plain": [
       "  0%|          | 0/200 [00:00<?, ?it/s]"
      ]
     },
     "metadata": {},
     "output_type": "display_data"
    },
    {
     "name": "stdout",
     "output_type": "stream",
     "text": [
      "training LL: -17.77  training AIC: 5114575.15  training BIC: 5119375.38  testing LL: -18.24  testing AIC 1313816.59  testing BIC: 1317943.08\n",
      "sample mean rle: 0.44\n",
      "\n",
      "-----------------------------------------------\n",
      "fitting gaussian model with k=5\n"
     ]
    },
    {
     "data": {
      "application/vnd.jupyter.widget-view+json": {
       "model_id": "d756061eee59416fb66305e44970f46d",
       "version_major": 2,
       "version_minor": 0
      },
      "text/plain": [
       "  0%|          | 0/200 [00:00<?, ?it/s]"
      ]
     },
     "metadata": {},
     "output_type": "display_data"
    },
    {
     "name": "stdout",
     "output_type": "stream",
     "text": [
      "training LL: -16.38  training AIC: 4716500.93  training BIC: 4728649.65  testing LL: -16.99  testing AIC 1224987.84  testing BIC: 1235431.43\n",
      "sample mean rle: 0.26\n",
      "\n",
      "-----------------------------------------------\n",
      "fitting gaussian model with k=8\n"
     ]
    },
    {
     "data": {
      "application/vnd.jupyter.widget-view+json": {
       "model_id": "5debf08462cd4f759ac438a6b3bf70d2",
       "version_major": 2,
       "version_minor": 0
      },
      "text/plain": [
       "  0%|          | 0/200 [00:00<?, ?it/s]"
      ]
     },
     "metadata": {},
     "output_type": "display_data"
    },
    {
     "name": "stdout",
     "output_type": "stream",
     "text": [
      "training LL: -16.02  training AIC: 4615439.55  training BIC: 4635114.56  testing LL: -16.69  testing AIC 1204902.87  testing BIC: 1221816.38\n",
      "sample mean rle: 0.23\n",
      "\n",
      "-----------------------------------------------\n",
      "fitting gaussian model with k=10\n"
     ]
    },
    {
     "data": {
      "application/vnd.jupyter.widget-view+json": {
       "model_id": "8bec0544389c4f04bc8387da7c44aa8b",
       "version_major": 2,
       "version_minor": 0
      },
      "text/plain": [
       "  0%|          | 0/200 [00:00<?, ?it/s]"
      ]
     },
     "metadata": {},
     "output_type": "display_data"
    },
    {
     "name": "stdout",
     "output_type": "stream",
     "text": [
      "training LL: -15.86  training AIC: 4569711.29  training BIC: 4594502.59  testing LL: -16.55  testing AIC 1195724.35  testing BIC: 1217036.05\n",
      "sample mean rle: 0.23\n",
      "\n",
      "-----------------------------------------------\n",
      "fitting gaussian model with k=15\n"
     ]
    },
    {
     "data": {
      "application/vnd.jupyter.widget-view+json": {
       "model_id": "0ffaf7f8cdb64516ab4b3f8e6e814ce0",
       "version_major": 2,
       "version_minor": 0
      },
      "text/plain": [
       "  0%|          | 0/200 [00:00<?, ?it/s]"
      ]
     },
     "metadata": {},
     "output_type": "display_data"
    },
    {
     "name": "stdout",
     "output_type": "stream",
     "text": [
      "training LL: -15.60  training AIC: 4498865.81  training BIC: 4536793.54  testing LL: -16.32  testing AIC 1181759.73  testing BIC: 1214364.08\n",
      "sample mean rle: 0.21\n",
      "\n",
      "-----------------------------------------------\n",
      "fitting gaussian mixture model with k=1\n",
      "training LL: -20.67  training AIC: 5949982.72  training BIC: 5951316.12  testing LL: -20.77  testing AIC 1494794.81  testing BIC: 1495941.06\n",
      "\n",
      "-----------------------------------------------\n",
      "fitting gaussian mixture model with k=2\n",
      "training LL: -17.94  training AIC: 5165616.95  training BIC: 5168293.62  testing LL: -18.39  testing AIC 1323913.18  testing BIC: 1326214.17\n",
      "\n",
      "-----------------------------------------------\n",
      "fitting gaussian mixture model with k=5\n",
      "training LL: -16.78  training AIC: 4831247.86  training BIC: 4837954.35  testing LL: -17.36  testing AIC 1250227.57  testing BIC: 1255992.76\n",
      "\n",
      "-----------------------------------------------\n",
      "fitting gaussian mixture model with k=8\n",
      "training LL: -16.54  training AIC: 4761940.43  training BIC: 4772676.75  testing LL: -17.15  testing AIC 1235953.13  testing BIC: 1245182.54\n",
      "\n",
      "-----------------------------------------------\n",
      "fitting gaussian mixture model with k=10\n",
      "training LL: -16.45  training AIC: 4736495.01  training BIC: 4749917.87  testing LL: -17.06  testing AIC 1230139.30  testing BIC: 1241678.19\n",
      "\n",
      "-----------------------------------------------\n",
      "fitting gaussian mixture model with k=15\n",
      "training LL: -16.29  training AIC: 4691914.08  training BIC: 4712053.31  testing LL: -16.92  testing AIC 1221886.87  testing BIC: 1239199.45\n",
      "\n",
      "-----------------------------------------------\n",
      "FOLD 3----------------------------------------------\n",
      "fitting ar model with k=1 and lags=1\n"
     ]
    },
    {
     "data": {
      "application/vnd.jupyter.widget-view+json": {
       "model_id": "6bdcb573d7ec490aa38c6d5894554fca",
       "version_major": 2,
       "version_minor": 0
      },
      "text/plain": [
       "  0%|          | 0/200 [00:00<?, ?it/s]"
      ]
     },
     "metadata": {},
     "output_type": "display_data"
    },
    {
     "name": "stdout",
     "output_type": "stream",
     "text": [
      "training LL: -19.89  training AIC: 5798866.70  training BIC: 5803485.06  testing LL: -19.68  testing AIC 1346444.19  testing BIC: 1350385.40\n",
      "sample mean rle: 179.90\n",
      "\n",
      "-----------------------------------------------\n",
      "fitting ar model with k=1 and lags=2\n"
     ]
    },
    {
     "data": {
      "application/vnd.jupyter.widget-view+json": {
       "model_id": "dbae424fe173493f8594e7959a402eb0",
       "version_major": 2,
       "version_minor": 0
      },
      "text/plain": [
       "  0%|          | 0/200 [00:00<?, ?it/s]"
      ]
     },
     "metadata": {},
     "output_type": "display_data"
    },
    {
     "name": "stdout",
     "output_type": "stream",
     "text": [
      "training LL: -19.37  training AIC: 5647025.37  training BIC: 5653868.86  testing LL: -19.10  testing AIC 1306881.26  testing BIC: 1312721.34\n",
      "sample mean rle: 179.90\n",
      "\n",
      "-----------------------------------------------\n",
      "fitting ar model with k=2 and lags=1\n"
     ]
    },
    {
     "data": {
      "application/vnd.jupyter.widget-view+json": {
       "model_id": "4a622bd07efe4171988b96064a0845af",
       "version_major": 2,
       "version_minor": 0
      },
      "text/plain": [
       "  0%|          | 0/200 [00:00<?, ?it/s]"
      ]
     },
     "metadata": {},
     "output_type": "display_data"
    },
    {
     "name": "stdout",
     "output_type": "stream",
     "text": [
      "training LL: -17.03  training AIC: 4964257.92  training BIC: 4973514.43  testing LL: -16.82  testing AIC 1152058.94  testing BIC: 1159958.24\n",
      "sample mean rle: 0.48\n",
      "\n",
      "-----------------------------------------------\n",
      "fitting ar model with k=2 and lags=2\n"
     ]
    },
    {
     "data": {
      "application/vnd.jupyter.widget-view+json": {
       "model_id": "ec6b4f17871a4c0291ca8a35ea7ffb94",
       "version_major": 2,
       "version_minor": 0
      },
      "text/plain": [
       "  0%|          | 0/200 [00:00<?, ?it/s]"
      ]
     },
     "metadata": {},
     "output_type": "display_data"
    },
    {
     "name": "stdout",
     "output_type": "stream",
     "text": [
      "training LL: -16.58  training AIC: 4835169.45  training BIC: 4848876.21  testing LL: -16.32  testing AIC 1118363.32  testing BIC: 1130060.36\n",
      "sample mean rle: 0.47\n",
      "\n",
      "-----------------------------------------------\n",
      "fitting ar model with k=5 and lags=1\n"
     ]
    },
    {
     "data": {
      "application/vnd.jupyter.widget-view+json": {
       "model_id": "d009ccf971f84d929bb835a43d447921",
       "version_major": 2,
       "version_minor": 0
      },
      "text/plain": [
       "  0%|          | 0/200 [00:00<?, ?it/s]"
      ]
     },
     "metadata": {},
     "output_type": "display_data"
    },
    {
     "name": "stdout",
     "output_type": "stream",
     "text": [
      "training LL: -15.67  training AIC: 4572242.41  training BIC: 4595532.03  testing LL: -15.48  testing AIC 1062898.58  testing BIC: 1082773.43\n",
      "sample mean rle: 0.27\n",
      "\n",
      "-----------------------------------------------\n",
      "fitting ar model with k=5 and lags=2\n"
     ]
    },
    {
     "data": {
      "application/vnd.jupyter.widget-view+json": {
       "model_id": "5776de0822f54ce095ac47796ef9117a",
       "version_major": 2,
       "version_minor": 0
      },
      "text/plain": [
       "  0%|          | 0/200 [00:00<?, ?it/s]"
      ]
     },
     "metadata": {},
     "output_type": "display_data"
    },
    {
     "name": "stdout",
     "output_type": "stream",
     "text": [
      "training LL: -15.28  training AIC: 4460550.55  training BIC: 4494965.78  testing LL: -15.05  testing AIC 1035781.39  testing BIC: 1065150.59\n",
      "sample mean rle: 0.26\n",
      "\n",
      "-----------------------------------------------\n",
      "fitting ar model with k=8 and lags=1\n"
     ]
    },
    {
     "data": {
      "application/vnd.jupyter.widget-view+json": {
       "model_id": "48a6ff8395f641d9bc77c58435864847",
       "version_major": 2,
       "version_minor": 0
      },
      "text/plain": [
       "  0%|          | 0/200 [00:00<?, ?it/s]"
      ]
     },
     "metadata": {},
     "output_type": "display_data"
    },
    {
     "name": "stdout",
     "output_type": "stream",
     "text": [
      "training LL: -15.30  training AIC: 4465709.96  training BIC: 4503210.70  testing LL: -15.14  testing AIC 1042483.24  testing BIC: 1074485.54\n",
      "sample mean rle: 0.22\n",
      "\n",
      "-----------------------------------------------\n",
      "fitting ar model with k=8 and lags=2\n"
     ]
    },
    {
     "data": {
      "application/vnd.jupyter.widget-view+json": {
       "model_id": "66a7f6f4efb34c6ebefbfdba4c9461f7",
       "version_major": 2,
       "version_minor": 0
      },
      "text/plain": [
       "  0%|          | 0/200 [00:00<?, ?it/s]"
      ]
     },
     "metadata": {},
     "output_type": "display_data"
    },
    {
     "name": "stdout",
     "output_type": "stream",
     "text": [
      "training LL: -14.84  training AIC: 4336848.98  training BIC: 4392150.71  testing LL: -14.64  testing AIC 1012092.51  testing BIC: 1059285.78\n",
      "sample mean rle: 0.22\n",
      "\n",
      "-----------------------------------------------\n",
      "fitting ar model with k=10 and lags=1\n"
     ]
    },
    {
     "data": {
      "application/vnd.jupyter.widget-view+json": {
       "model_id": "6ad32e502ffe40d9b2ab759d16c41cf3",
       "version_major": 2,
       "version_minor": 0
      },
      "text/plain": [
       "  0%|          | 0/200 [00:00<?, ?it/s]"
      ]
     },
     "metadata": {},
     "output_type": "display_data"
    },
    {
     "name": "stdout",
     "output_type": "stream",
     "text": [
      "training LL: -15.15  training AIC: 4423762.89  training BIC: 4470836.61  testing LL: -15.01  testing AIC 1035479.47  testing BIC: 1075651.13\n",
      "sample mean rle: 0.21\n",
      "\n",
      "-----------------------------------------------\n",
      "fitting ar model with k=10 and lags=2\n"
     ]
    },
    {
     "data": {
      "application/vnd.jupyter.widget-view+json": {
       "model_id": "37f4f109816b40c9b300a688a393c1d1",
       "version_major": 2,
       "version_minor": 0
      },
      "text/plain": [
       "  0%|          | 0/200 [00:00<?, ?it/s]"
      ]
     },
     "metadata": {},
     "output_type": "display_data"
    },
    {
     "name": "stdout",
     "output_type": "stream",
     "text": [
      "training LL: -14.69  training AIC: 4296408.66  training BIC: 4365733.60  testing LL: -14.52  testing AIC 1006488.14  testing BIC: 1065648.51\n",
      "sample mean rle: 0.20\n",
      "\n",
      "-----------------------------------------------\n",
      "fitting ar model with k=15 and lags=1\n"
     ]
    },
    {
     "data": {
      "application/vnd.jupyter.widget-view+json": {
       "model_id": "1ae1070c69a448f88b4bc5a706c2dd10",
       "version_major": 2,
       "version_minor": 0
      },
      "text/plain": [
       "  0%|          | 0/200 [00:00<?, ?it/s]"
      ]
     },
     "metadata": {},
     "output_type": "display_data"
    },
    {
     "name": "stdout",
     "output_type": "stream",
     "text": [
      "training LL: -14.87  training AIC: 4349538.90  training BIC: 4420891.17  testing LL: -14.76  testing AIC 1023277.94  testing BIC: 1084168.40\n",
      "sample mean rle: 0.19\n",
      "\n",
      "-----------------------------------------------\n",
      "fitting ar model with k=15 and lags=2\n"
     ]
    },
    {
     "data": {
      "application/vnd.jupyter.widget-view+json": {
       "model_id": "7b99cd804952449fa262658458bf0218",
       "version_major": 2,
       "version_minor": 0
      },
      "text/plain": [
       "  0%|          | 0/200 [00:00<?, ?it/s]"
      ]
     },
     "metadata": {},
     "output_type": "display_data"
    },
    {
     "name": "stdout",
     "output_type": "stream",
     "text": [
      "training LL: -14.42  training AIC: 4222990.01  training BIC: 4327719.13  testing LL: -14.28  testing AIC 997192.99  testing BIC: 1086566.50\n",
      "sample mean rle: 0.19\n",
      "\n",
      "-----------------------------------------------\n",
      "fitting gaussian model with k=1\n"
     ]
    },
    {
     "data": {
      "application/vnd.jupyter.widget-view+json": {
       "model_id": "d9fb4fab708545348d68dac392e5caf4",
       "version_major": 2,
       "version_minor": 0
      },
      "text/plain": [
       "  0%|          | 0/200 [00:00<?, ?it/s]"
      ]
     },
     "metadata": {},
     "output_type": "display_data"
    },
    {
     "name": "stdout",
     "output_type": "stream",
     "text": [
      "training LL: -20.70  training AIC: 6034163.44  training BIC: 6036556.68  testing LL: -20.63  testing AIC 1410801.76  testing BIC: 1412844.10\n",
      "sample mean rle: 179.90\n",
      "\n",
      "-----------------------------------------------\n",
      "fitting gaussian model with k=2\n"
     ]
    },
    {
     "data": {
      "application/vnd.jupyter.widget-view+json": {
       "model_id": "375ee2d9a1c542e38334393b743d844b",
       "version_major": 2,
       "version_minor": 0
      },
      "text/plain": [
       "  0%|          | 0/200 [00:00<?, ?it/s]"
      ]
     },
     "metadata": {},
     "output_type": "display_data"
    },
    {
     "name": "stdout",
     "output_type": "stream",
     "text": [
      "training LL: -17.88  training AIC: 5211745.52  training BIC: 5216551.78  testing LL: -17.78  testing AIC 1216318.49  testing BIC: 1220420.05\n",
      "sample mean rle: 0.49\n",
      "\n",
      "-----------------------------------------------\n",
      "fitting gaussian model with k=5\n"
     ]
    },
    {
     "data": {
      "application/vnd.jupyter.widget-view+json": {
       "model_id": "e2b5b5d396ca490284f2506a3bd958a4",
       "version_major": 2,
       "version_minor": 0
      },
      "text/plain": [
       "  0%|          | 0/200 [00:00<?, ?it/s]"
      ]
     },
     "metadata": {},
     "output_type": "display_data"
    },
    {
     "name": "stdout",
     "output_type": "stream",
     "text": [
      "training LL: -16.57  training AIC: 4830164.59  training BIC: 4842328.59  testing LL: -16.45  testing AIC 1126726.36  testing BIC: 1137106.85\n",
      "sample mean rle: 0.28\n",
      "\n",
      "-----------------------------------------------\n",
      "fitting gaussian model with k=8\n"
     ]
    },
    {
     "data": {
      "application/vnd.jupyter.widget-view+json": {
       "model_id": "024566d4e2604e1dbcd0c9eda26ea8c2",
       "version_major": 2,
       "version_minor": 0
      },
      "text/plain": [
       "  0%|          | 0/200 [00:00<?, ?it/s]"
      ]
     },
     "metadata": {},
     "output_type": "display_data"
    },
    {
     "name": "stdout",
     "output_type": "stream",
     "text": [
      "training LL: -16.17  training AIC: 4716215.08  training BIC: 4735914.83  testing LL: -16.05  testing AIC 1101093.90  testing BIC: 1117905.23\n",
      "sample mean rle: 0.26\n",
      "\n",
      "-----------------------------------------------\n",
      "fitting gaussian model with k=10\n"
     ]
    },
    {
     "data": {
      "application/vnd.jupyter.widget-view+json": {
       "model_id": "6f815a497a174f858350e759ef52ea18",
       "version_major": 2,
       "version_minor": 0
      },
      "text/plain": [
       "  0%|          | 0/200 [00:00<?, ?it/s]"
      ]
     },
     "metadata": {},
     "output_type": "display_data"
    },
    {
     "name": "stdout",
     "output_type": "stream",
     "text": [
      "training LL: -16.00  training AIC: 4669226.68  training BIC: 4694049.16  testing LL: -15.89  testing AIC 1091543.53  testing BIC: 1112726.48\n",
      "sample mean rle: 0.25\n",
      "\n",
      "-----------------------------------------------\n",
      "fitting gaussian model with k=15\n"
     ]
    },
    {
     "data": {
      "application/vnd.jupyter.widget-view+json": {
       "model_id": "340175abcaf34bd7b5fc0dcfc8121062",
       "version_major": 2,
       "version_minor": 0
      },
      "text/plain": [
       "  0%|          | 0/200 [00:00<?, ?it/s]"
      ]
     },
     "metadata": {},
     "output_type": "display_data"
    },
    {
     "name": "stdout",
     "output_type": "stream",
     "text": [
      "training LL: -15.77  training AIC: 4604059.91  training BIC: 4642035.35  testing LL: -15.68  testing AIC 1079498.54  testing BIC: 1111905.94\n",
      "sample mean rle: 0.24\n",
      "\n",
      "-----------------------------------------------\n",
      "fitting gaussian mixture model with k=1\n",
      "training LL: -20.70  training AIC: 6033949.44  training BIC: 6035284.51  testing LL: -20.63  testing AIC 1410587.78  testing BIC: 1411727.10\n",
      "\n",
      "-----------------------------------------------\n",
      "fitting gaussian mixture model with k=2\n",
      "training LL: -18.05  training AIC: 5261418.81  training BIC: 5264098.84  testing LL: -17.97  testing AIC 1229198.62  testing BIC: 1231485.70\n",
      "\n",
      "-----------------------------------------------\n",
      "fitting gaussian mixture model with k=5\n",
      "training LL: -16.93  training AIC: 4934562.11  training BIC: 4941277.04  testing LL: -16.83  testing AIC 1151911.70  testing BIC: 1157642.07\n",
      "\n",
      "-----------------------------------------------\n",
      "fitting gaussian mixture model with k=8\n",
      "training LL: -16.68  training AIC: 4863450.13  training BIC: 4874199.95  testing LL: -16.57  testing AIC 1134931.32  testing BIC: 1144104.98\n",
      "\n",
      "-----------------------------------------------\n",
      "fitting gaussian mixture model with k=10\n",
      "training LL: -16.59  training AIC: 4838366.47  training BIC: 4851806.21  testing LL: -16.49  testing AIC 1130048.87  testing BIC: 1141518.05\n",
      "\n",
      "-----------------------------------------------\n",
      "fitting gaussian mixture model with k=15\n",
      "training LL: -16.42  training AIC: 4790151.96  training BIC: 4810316.52  testing LL: -16.34  testing AIC 1120830.05  testing BIC: 1138038.04\n",
      "\n",
      "-----------------------------------------------\n",
      "FOLD 4----------------------------------------------\n",
      "fitting ar model with k=1 and lags=1\n"
     ]
    },
    {
     "data": {
      "application/vnd.jupyter.widget-view+json": {
       "model_id": "feeb73f8581c4a8aae23cceab2d3b554",
       "version_major": 2,
       "version_minor": 0
      },
      "text/plain": [
       "  0%|          | 0/200 [00:00<?, ?it/s]"
      ]
     },
     "metadata": {},
     "output_type": "display_data"
    },
    {
     "name": "stdout",
     "output_type": "stream",
     "text": [
      "training LL: -19.84  training AIC: 5711677.20  training BIC: 5716289.77  testing LL: -19.91  testing AIC 1433937.73  testing BIC: 1437902.89\n",
      "sample mean rle: 179.90\n",
      "\n",
      "-----------------------------------------------\n",
      "fitting ar model with k=1 and lags=2\n"
     ]
    },
    {
     "data": {
      "application/vnd.jupyter.widget-view+json": {
       "model_id": "94d6c749cbf7442da0ae483fc314d2bb",
       "version_major": 2,
       "version_minor": 0
      },
      "text/plain": [
       "  0%|          | 0/200 [00:00<?, ?it/s]"
      ]
     },
     "metadata": {},
     "output_type": "display_data"
    },
    {
     "name": "stdout",
     "output_type": "stream",
     "text": [
      "training LL: -19.30  training AIC: 5556498.24  training BIC: 5563333.14  testing LL: -19.41  testing AIC 1397812.05  testing BIC: 1403687.62\n",
      "sample mean rle: 179.90\n",
      "\n",
      "-----------------------------------------------\n",
      "fitting ar model with k=2 and lags=1\n"
     ]
    },
    {
     "data": {
      "application/vnd.jupyter.widget-view+json": {
       "model_id": "b3c1f99602de4f15bd7c9a1d90441739",
       "version_major": 2,
       "version_minor": 0
      },
      "text/plain": [
       "  0%|          | 0/200 [00:00<?, ?it/s]"
      ]
     },
     "metadata": {},
     "output_type": "display_data"
    },
    {
     "name": "stdout",
     "output_type": "stream",
     "text": [
      "training LL: -17.02  training AIC: 4902106.26  training BIC: 4911351.15  testing LL: -16.85  testing AIC 1214491.53  testing BIC: 1222438.84\n",
      "sample mean rle: 0.48\n",
      "\n",
      "-----------------------------------------------\n",
      "fitting ar model with k=2 and lags=2\n"
     ]
    },
    {
     "data": {
      "application/vnd.jupyter.widget-view+json": {
       "model_id": "d11487b0a8bb455eb4fffc127aaf52cf",
       "version_major": 2,
       "version_minor": 0
      },
      "text/plain": [
       "  0%|          | 0/200 [00:00<?, ?it/s]"
      ]
     },
     "metadata": {},
     "output_type": "display_data"
    },
    {
     "name": "stdout",
     "output_type": "stream",
     "text": [
      "training LL: -16.56  training AIC: 4768953.70  training BIC: 4782643.24  testing LL: -16.43  testing AIC 1184871.28  testing BIC: 1196639.41\n",
      "sample mean rle: 0.48\n",
      "\n",
      "-----------------------------------------------\n",
      "fitting ar model with k=5 and lags=1\n"
     ]
    },
    {
     "data": {
      "application/vnd.jupyter.widget-view+json": {
       "model_id": "57b499dafb2c4b85b9dcde1e45884f24",
       "version_major": 2,
       "version_minor": 0
      },
      "text/plain": [
       "  0%|          | 0/200 [00:00<?, ?it/s]"
      ]
     },
     "metadata": {},
     "output_type": "display_data"
    },
    {
     "name": "stdout",
     "output_type": "stream",
     "text": [
      "training LL: -15.72  training AIC: 4529674.82  training BIC: 4552935.19  testing LL: -15.43  testing AIC 1115268.58  testing BIC: 1135264.22\n",
      "sample mean rle: 0.27\n",
      "\n",
      "-----------------------------------------------\n",
      "fitting ar model with k=5 and lags=2\n"
     ]
    },
    {
     "data": {
      "application/vnd.jupyter.widget-view+json": {
       "model_id": "db5d2a7c3d4e47899657af72869a19f5",
       "version_major": 2,
       "version_minor": 0
      },
      "text/plain": [
       "  0%|          | 0/200 [00:00<?, ?it/s]"
      ]
     },
     "metadata": {},
     "output_type": "display_data"
    },
    {
     "name": "stdout",
     "output_type": "stream",
     "text": [
      "training LL: -15.25  training AIC: 4397460.25  training BIC: 4431832.26  testing LL: -14.99  testing AIC 1085981.33  testing BIC: 1115529.03\n",
      "sample mean rle: 0.28\n",
      "\n",
      "-----------------------------------------------\n",
      "fitting ar model with k=8 and lags=1\n"
     ]
    },
    {
     "data": {
      "application/vnd.jupyter.widget-view+json": {
       "model_id": "a0d7c0878c204e5bb23d56b03cd67fd0",
       "version_major": 2,
       "version_minor": 0
      },
      "text/plain": [
       "  0%|          | 0/200 [00:00<?, ?it/s]"
      ]
     },
     "metadata": {},
     "output_type": "display_data"
    },
    {
     "name": "stdout",
     "output_type": "stream",
     "text": [
      "training LL: -15.33  training AIC: 4420513.06  training BIC: 4457966.69  testing LL: -15.01  testing AIC 1088039.69  testing BIC: 1120236.50\n",
      "sample mean rle: 0.22\n",
      "\n",
      "-----------------------------------------------\n",
      "fitting ar model with k=8 and lags=2\n"
     ]
    },
    {
     "data": {
      "application/vnd.jupyter.widget-view+json": {
       "model_id": "8332a0dad71e4edba03603159d3e9573",
       "version_major": 2,
       "version_minor": 0
      },
      "text/plain": [
       "  0%|          | 0/200 [00:00<?, ?it/s]"
      ]
     },
     "metadata": {},
     "output_type": "display_data"
    },
    {
     "name": "stdout",
     "output_type": "stream",
     "text": [
      "training LL: -14.87  training AIC: 4291233.77  training BIC: 4346466.03  testing LL: -14.59  testing AIC 1061330.50  testing BIC: 1108810.60\n",
      "sample mean rle: 0.23\n",
      "\n",
      "-----------------------------------------------\n",
      "fitting ar model with k=10 and lags=1\n"
     ]
    },
    {
     "data": {
      "application/vnd.jupyter.widget-view+json": {
       "model_id": "15168a9ac6c1462eb34c480c9420471d",
       "version_major": 2,
       "version_minor": 0
      },
      "text/plain": [
       "  0%|          | 0/200 [00:00<?, ?it/s]"
      ]
     },
     "metadata": {},
     "output_type": "display_data"
    },
    {
     "name": "stdout",
     "output_type": "stream",
     "text": [
      "training LL: -15.19  training AIC: 4383244.29  training BIC: 4430258.87  testing LL: -14.89  testing AIC 1081109.37  testing BIC: 1121525.19\n",
      "sample mean rle: 0.24\n",
      "\n",
      "-----------------------------------------------\n",
      "fitting ar model with k=10 and lags=2\n"
     ]
    },
    {
     "data": {
      "application/vnd.jupyter.widget-view+json": {
       "model_id": "2e431ff81f194ddd839836735006d757",
       "version_major": 2,
       "version_minor": 0
      },
      "text/plain": [
       "  0%|          | 0/200 [00:00<?, ?it/s]"
      ]
     },
     "metadata": {},
     "output_type": "display_data"
    },
    {
     "name": "stdout",
     "output_type": "stream",
     "text": [
      "training LL: -14.73  training AIC: 4253294.53  training BIC: 4322532.39  testing LL: -14.46  testing AIC 1054743.29  testing BIC: 1114263.22\n",
      "sample mean rle: 0.22\n",
      "\n",
      "-----------------------------------------------\n",
      "fitting ar model with k=15 and lags=1\n"
     ]
    },
    {
     "data": {
      "application/vnd.jupyter.widget-view+json": {
       "model_id": "28b05100500b4c2ab480ff8f23df7624",
       "version_major": 2,
       "version_minor": 0
      },
      "text/plain": [
       "  0%|          | 0/200 [00:00<?, ?it/s]"
      ]
     },
     "metadata": {},
     "output_type": "display_data"
    },
    {
     "name": "stdout",
     "output_type": "stream",
     "text": [
      "training LL: -14.92  training AIC: 4309590.06  training BIC: 4380852.71  testing LL: -14.60  testing AIC 1064686.64  testing BIC: 1125947.17\n",
      "sample mean rle: 0.20\n",
      "\n",
      "-----------------------------------------------\n",
      "fitting ar model with k=15 and lags=2\n"
     ]
    },
    {
     "data": {
      "application/vnd.jupyter.widget-view+json": {
       "model_id": "ae6238fabb074456bda491eb41e6ad7f",
       "version_major": 2,
       "version_minor": 0
      },
      "text/plain": [
       "  0%|          | 0/200 [00:00<?, ?it/s]"
      ]
     },
     "metadata": {},
     "output_type": "display_data"
    },
    {
     "name": "stdout",
     "output_type": "stream",
     "text": [
      "training LL: -14.46  training AIC: 4182340.76  training BIC: 4286938.33  testing LL: -14.18  testing AIC 1041732.51  testing BIC: 1131649.22\n",
      "sample mean rle: 0.18\n",
      "\n",
      "-----------------------------------------------\n",
      "fitting gaussian model with k=1\n"
     ]
    },
    {
     "data": {
      "application/vnd.jupyter.widget-view+json": {
       "model_id": "7a73861740154c23abceb856b56802f1",
       "version_major": 2,
       "version_minor": 0
      },
      "text/plain": [
       "  0%|          | 0/200 [00:00<?, ?it/s]"
      ]
     },
     "metadata": {},
     "output_type": "display_data"
    },
    {
     "name": "stdout",
     "output_type": "stream",
     "text": [
      "training LL: -20.69  training AIC: 5956334.81  training BIC: 5958725.05  testing LL: -20.68  testing AIC 1488860.43  testing BIC: 1490915.18\n",
      "sample mean rle: 179.90\n",
      "\n",
      "-----------------------------------------------\n",
      "fitting gaussian model with k=2\n"
     ]
    },
    {
     "data": {
      "application/vnd.jupyter.widget-view+json": {
       "model_id": "7f4f04af2ba84561b5ca53ba7c7e9584",
       "version_major": 2,
       "version_minor": 0
      },
      "text/plain": [
       "  0%|          | 0/200 [00:00<?, ?it/s]"
      ]
     },
     "metadata": {},
     "output_type": "display_data"
    },
    {
     "name": "stdout",
     "output_type": "stream",
     "text": [
      "training LL: -17.91  training AIC: 5156616.01  training BIC: 5161416.24  testing LL: -17.66  testing AIC 1271561.90  testing BIC: 1275688.39\n",
      "sample mean rle: 0.49\n",
      "\n",
      "-----------------------------------------------\n",
      "fitting gaussian model with k=5\n"
     ]
    },
    {
     "data": {
      "application/vnd.jupyter.widget-view+json": {
       "model_id": "710f8f3f95d746e18bfbbd58cb819790",
       "version_major": 2,
       "version_minor": 0
      },
      "text/plain": [
       "  0%|          | 0/200 [00:00<?, ?it/s]"
      ]
     },
     "metadata": {},
     "output_type": "display_data"
    },
    {
     "name": "stdout",
     "output_type": "stream",
     "text": [
      "training LL: -16.61  training AIC: 4784174.02  training BIC: 4796322.75  testing LL: -16.27  testing AIC 1172901.68  testing BIC: 1183345.27\n",
      "sample mean rle: 0.28\n",
      "\n",
      "-----------------------------------------------\n",
      "fitting gaussian model with k=8\n"
     ]
    },
    {
     "data": {
      "application/vnd.jupyter.widget-view+json": {
       "model_id": "f44b9c8c5b7146afa880ac625572f468",
       "version_major": 2,
       "version_minor": 0
      },
      "text/plain": [
       "  0%|          | 0/200 [00:00<?, ?it/s]"
      ]
     },
     "metadata": {},
     "output_type": "display_data"
    },
    {
     "name": "stdout",
     "output_type": "stream",
     "text": [
      "training LL: -16.22  training AIC: 4672012.43  training BIC: 4691687.44  testing LL: -15.85  testing AIC 1144221.34  testing BIC: 1161134.86\n",
      "sample mean rle: 0.26\n",
      "\n",
      "-----------------------------------------------\n",
      "fitting gaussian model with k=10\n"
     ]
    },
    {
     "data": {
      "application/vnd.jupyter.widget-view+json": {
       "model_id": "1009ab8c8d0a4b9696a78acfb0bc2f48",
       "version_major": 2,
       "version_minor": 0
      },
      "text/plain": [
       "  0%|          | 0/200 [00:00<?, ?it/s]"
      ]
     },
     "metadata": {},
     "output_type": "display_data"
    },
    {
     "name": "stdout",
     "output_type": "stream",
     "text": [
      "training LL: -16.08  training AIC: 4633067.23  training BIC: 4657858.54  testing LL: -15.67  testing AIC 1132822.47  testing BIC: 1154134.17\n",
      "sample mean rle: 0.25\n",
      "\n",
      "-----------------------------------------------\n",
      "fitting gaussian model with k=15\n"
     ]
    },
    {
     "data": {
      "application/vnd.jupyter.widget-view+json": {
       "model_id": "591b19d1691e4820b7b681e56c737213",
       "version_major": 2,
       "version_minor": 0
      },
      "text/plain": [
       "  0%|          | 0/200 [00:00<?, ?it/s]"
      ]
     },
     "metadata": {},
     "output_type": "display_data"
    },
    {
     "name": "stdout",
     "output_type": "stream",
     "text": [
      "training LL: -15.83  training AIC: 4564725.37  training BIC: 4602653.10  testing LL: -15.42  testing AIC 1117052.31  testing BIC: 1149656.67\n",
      "sample mean rle: 0.24\n",
      "\n",
      "-----------------------------------------------\n",
      "fitting gaussian mixture model with k=1\n",
      "training LL: -20.69  training AIC: 5956120.81  training BIC: 5957454.21  testing LL: -20.68  testing AIC 1488646.43  testing BIC: 1489792.68\n",
      "\n",
      "-----------------------------------------------\n",
      "fitting gaussian mixture model with k=2\n",
      "training LL: -18.09  training AIC: 5206439.94  training BIC: 5209116.61  testing LL: -17.83  testing AIC 1283727.55  testing BIC: 1286028.54\n",
      "\n",
      "-----------------------------------------------\n",
      "fitting gaussian mixture model with k=5\n",
      "training LL: -17.01  training AIC: 4897591.19  training BIC: 4904297.68  testing LL: -16.63  testing AIC 1198289.59  testing BIC: 1204054.78\n",
      "\n",
      "-----------------------------------------------\n",
      "fitting gaussian mixture model with k=8\n",
      "training LL: -16.78  training AIC: 4832184.03  training BIC: 4842920.34  testing LL: -16.39  testing AIC 1181785.22  testing BIC: 1191014.63\n",
      "\n",
      "-----------------------------------------------\n",
      "fitting gaussian mixture model with k=10\n",
      "training LL: -16.64  training AIC: 4792406.64  training BIC: 4805829.50  testing LL: -16.25  testing AIC 1171943.54  testing BIC: 1183482.43\n",
      "\n",
      "-----------------------------------------------\n",
      "fitting gaussian mixture model with k=15\n",
      "training LL: -16.51  training AIC: 4755463.01  training BIC: 4775602.24  testing LL: -16.10  testing AIC 1162608.95  testing BIC: 1179921.52\n",
      "\n",
      "-----------------------------------------------\n",
      "FOLD 5----------------------------------------------\n",
      "fitting ar model with k=1 and lags=1\n"
     ]
    },
    {
     "data": {
      "application/vnd.jupyter.widget-view+json": {
       "model_id": "8f0cf3d68f174596b72f734c11ad2006",
       "version_major": 2,
       "version_minor": 0
      },
      "text/plain": [
       "  0%|          | 0/200 [00:00<?, ?it/s]"
      ]
     },
     "metadata": {},
     "output_type": "display_data"
    },
    {
     "name": "stdout",
     "output_type": "stream",
     "text": [
      "training LL: -19.86  training AIC: 5790299.06  training BIC: 5794917.42  testing LL: -19.80  testing AIC 1354567.03  testing BIC: 1358508.24\n",
      "sample mean rle: 179.90\n",
      "\n",
      "-----------------------------------------------\n",
      "fitting ar model with k=1 and lags=2\n"
     ]
    },
    {
     "data": {
      "application/vnd.jupyter.widget-view+json": {
       "model_id": "0d817cef805043f4a9f884d60e7f931b",
       "version_major": 2,
       "version_minor": 0
      },
      "text/plain": [
       "  0%|          | 0/200 [00:00<?, ?it/s]"
      ]
     },
     "metadata": {},
     "output_type": "display_data"
    },
    {
     "name": "stdout",
     "output_type": "stream",
     "text": [
      "training LL: -19.32  training AIC: 5631501.81  training BIC: 5638345.30  testing LL: -19.32  testing AIC 1321816.59  testing BIC: 1327656.68\n",
      "sample mean rle: 179.90\n",
      "\n",
      "-----------------------------------------------\n",
      "fitting ar model with k=2 and lags=1\n"
     ]
    },
    {
     "data": {
      "application/vnd.jupyter.widget-view+json": {
       "model_id": "c9f0451baa094b16861e970e31083419",
       "version_major": 2,
       "version_minor": 0
      },
      "text/plain": [
       "  0%|          | 0/200 [00:00<?, ?it/s]"
      ]
     },
     "metadata": {},
     "output_type": "display_data"
    },
    {
     "name": "stdout",
     "output_type": "stream",
     "text": [
      "training LL: -17.04  training AIC: 4968838.57  training BIC: 4978095.09  testing LL: -16.75  testing AIC 1147009.55  testing BIC: 1154908.86\n",
      "sample mean rle: 0.47\n",
      "\n",
      "-----------------------------------------------\n",
      "fitting ar model with k=2 and lags=2\n"
     ]
    },
    {
     "data": {
      "application/vnd.jupyter.widget-view+json": {
       "model_id": "0c6cf97d15d14310800dd1c253d60738",
       "version_major": 2,
       "version_minor": 0
      },
      "text/plain": [
       "  0%|          | 0/200 [00:00<?, ?it/s]"
      ]
     },
     "metadata": {},
     "output_type": "display_data"
    },
    {
     "name": "stdout",
     "output_type": "stream",
     "text": [
      "training LL: -16.57  training AIC: 4833087.81  training BIC: 4846794.57  testing LL: -16.34  testing AIC 1119867.48  testing BIC: 1131564.53\n",
      "sample mean rle: 0.47\n",
      "\n",
      "-----------------------------------------------\n",
      "fitting ar model with k=5 and lags=1\n"
     ]
    },
    {
     "data": {
      "application/vnd.jupyter.widget-view+json": {
       "model_id": "79ae0992fa0741f090c78efb8fc6fcb5",
       "version_major": 2,
       "version_minor": 0
      },
      "text/plain": [
       "  0%|          | 0/200 [00:00<?, ?it/s]"
      ]
     },
     "metadata": {},
     "output_type": "display_data"
    },
    {
     "name": "stdout",
     "output_type": "stream",
     "text": [
      "training LL: -15.68  training AIC: 4575319.65  training BIC: 4598609.27  testing LL: -15.43  testing AIC 1059441.05  testing BIC: 1079315.90\n",
      "sample mean rle: 0.28\n",
      "\n",
      "-----------------------------------------------\n",
      "fitting ar model with k=5 and lags=2\n"
     ]
    },
    {
     "data": {
      "application/vnd.jupyter.widget-view+json": {
       "model_id": "f3f278efbce44d8b8d8f8a42577786a9",
       "version_major": 2,
       "version_minor": 0
      },
      "text/plain": [
       "  0%|          | 0/200 [00:00<?, ?it/s]"
      ]
     },
     "metadata": {},
     "output_type": "display_data"
    },
    {
     "name": "stdout",
     "output_type": "stream",
     "text": [
      "training LL: -15.24  training AIC: 4447194.23  training BIC: 4481609.46  testing LL: -15.04  testing AIC 1035422.73  testing BIC: 1064791.93\n",
      "sample mean rle: 0.28\n",
      "\n",
      "-----------------------------------------------\n",
      "fitting ar model with k=8 and lags=1\n"
     ]
    },
    {
     "data": {
      "application/vnd.jupyter.widget-view+json": {
       "model_id": "a0396a437e3d45f988d3ffdbe087d4b2",
       "version_major": 2,
       "version_minor": 0
      },
      "text/plain": [
       "  0%|          | 0/200 [00:00<?, ?it/s]"
      ]
     },
     "metadata": {},
     "output_type": "display_data"
    },
    {
     "name": "stdout",
     "output_type": "stream",
     "text": [
      "training LL: -15.32  training AIC: 4472766.83  training BIC: 4510267.57  testing LL: -15.08  testing AIC 1038364.63  testing BIC: 1070366.93\n",
      "sample mean rle: 0.22\n",
      "\n",
      "-----------------------------------------------\n",
      "fitting ar model with k=8 and lags=2\n"
     ]
    },
    {
     "data": {
      "application/vnd.jupyter.widget-view+json": {
       "model_id": "cff75d0493e6440fb50cfe0fd2fea25f",
       "version_major": 2,
       "version_minor": 0
      },
      "text/plain": [
       "  0%|          | 0/200 [00:00<?, ?it/s]"
      ]
     },
     "metadata": {},
     "output_type": "display_data"
    },
    {
     "name": "stdout",
     "output_type": "stream",
     "text": [
      "training LL: -14.85  training AIC: 4338664.94  training BIC: 4393966.66  testing LL: -14.65  testing AIC 1013016.19  testing BIC: 1060209.46\n",
      "sample mean rle: 0.23\n",
      "\n",
      "-----------------------------------------------\n",
      "fitting ar model with k=10 and lags=1\n"
     ]
    },
    {
     "data": {
      "application/vnd.jupyter.widget-view+json": {
       "model_id": "77200331954a47afbb1be092c65c4a3e",
       "version_major": 2,
       "version_minor": 0
      },
      "text/plain": [
       "  0%|          | 0/200 [00:00<?, ?it/s]"
      ]
     },
     "metadata": {},
     "output_type": "display_data"
    },
    {
     "name": "stdout",
     "output_type": "stream",
     "text": [
      "training LL: -15.17  training AIC: 4431469.50  training BIC: 4478543.21  testing LL: -14.93  testing AIC 1030032.76  testing BIC: 1070204.42\n",
      "sample mean rle: 0.22\n",
      "\n",
      "-----------------------------------------------\n",
      "fitting ar model with k=10 and lags=2\n"
     ]
    },
    {
     "data": {
      "application/vnd.jupyter.widget-view+json": {
       "model_id": "00dbf5847d874319828ef5fca505bfd7",
       "version_major": 2,
       "version_minor": 0
      },
      "text/plain": [
       "  0%|          | 0/200 [00:00<?, ?it/s]"
      ]
     },
     "metadata": {},
     "output_type": "display_data"
    },
    {
     "name": "stdout",
     "output_type": "stream",
     "text": [
      "training LL: -14.70  training AIC: 4296728.04  training BIC: 4366052.98  testing LL: -14.55  testing AIC 1008988.57  testing BIC: 1068148.94\n",
      "sample mean rle: 0.22\n",
      "\n",
      "-----------------------------------------------\n",
      "fitting ar model with k=15 and lags=1\n"
     ]
    },
    {
     "data": {
      "application/vnd.jupyter.widget-view+json": {
       "model_id": "302430e792244f789dd1cbc38b825aab",
       "version_major": 2,
       "version_minor": 0
      },
      "text/plain": [
       "  0%|          | 0/200 [00:00<?, ?it/s]"
      ]
     },
     "metadata": {},
     "output_type": "display_data"
    },
    {
     "name": "stdout",
     "output_type": "stream",
     "text": [
      "training LL: -14.90  training AIC: 4356200.72  training BIC: 4427553.00  testing LL: -14.67  testing AIC 1017618.11  testing BIC: 1078508.56\n",
      "sample mean rle: 0.20\n",
      "\n",
      "-----------------------------------------------\n",
      "fitting ar model with k=15 and lags=2\n"
     ]
    },
    {
     "data": {
      "application/vnd.jupyter.widget-view+json": {
       "model_id": "b29ad2681dd94a929d5b1016201afce2",
       "version_major": 2,
       "version_minor": 0
      },
      "text/plain": [
       "  0%|          | 0/200 [00:00<?, ?it/s]"
      ]
     },
     "metadata": {},
     "output_type": "display_data"
    },
    {
     "name": "stdout",
     "output_type": "stream",
     "text": [
      "training LL: -14.42  training AIC: 4224134.27  training BIC: 4328863.39  testing LL: -14.29  testing AIC 998195.77  testing BIC: 1087569.28\n",
      "sample mean rle: 0.20\n",
      "\n",
      "-----------------------------------------------\n",
      "fitting gaussian model with k=1\n"
     ]
    },
    {
     "data": {
      "application/vnd.jupyter.widget-view+json": {
       "model_id": "2a35325f0c8e48b6a000f7b4e00311d6",
       "version_major": 2,
       "version_minor": 0
      },
      "text/plain": [
       "  0%|          | 0/200 [00:00<?, ?it/s]"
      ]
     },
     "metadata": {},
     "output_type": "display_data"
    },
    {
     "name": "stdout",
     "output_type": "stream",
     "text": [
      "training LL: -20.69  training AIC: 6029822.77  training BIC: 6032216.02  testing LL: -20.69  testing AIC 1414785.88  testing BIC: 1416828.22\n",
      "sample mean rle: 179.90\n",
      "\n",
      "-----------------------------------------------\n",
      "fitting gaussian model with k=2\n"
     ]
    },
    {
     "data": {
      "application/vnd.jupyter.widget-view+json": {
       "model_id": "3535a116a22848af98009ad59dd6e641",
       "version_major": 2,
       "version_minor": 0
      },
      "text/plain": [
       "  0%|          | 0/200 [00:00<?, ?it/s]"
      ]
     },
     "metadata": {},
     "output_type": "display_data"
    },
    {
     "name": "stdout",
     "output_type": "stream",
     "text": [
      "training LL: -17.91  training AIC: 5219229.33  training BIC: 5224035.60  testing LL: -17.66  testing AIC 1208324.90  testing BIC: 1212426.46\n",
      "sample mean rle: 0.49\n",
      "\n",
      "-----------------------------------------------\n",
      "fitting gaussian model with k=5\n"
     ]
    },
    {
     "data": {
      "application/vnd.jupyter.widget-view+json": {
       "model_id": "28802efe32ad4037bcedd7ca73f7fb87",
       "version_major": 2,
       "version_minor": 0
      },
      "text/plain": [
       "  0%|          | 0/200 [00:00<?, ?it/s]"
      ]
     },
     "metadata": {},
     "output_type": "display_data"
    },
    {
     "name": "stdout",
     "output_type": "stream",
     "text": [
      "training LL: -16.54  training AIC: 4821984.09  training BIC: 4834148.10  testing LL: -16.33  testing AIC 1118958.59  testing BIC: 1129339.09\n",
      "sample mean rle: 0.29\n",
      "\n",
      "-----------------------------------------------\n",
      "fitting gaussian model with k=8\n"
     ]
    },
    {
     "data": {
      "application/vnd.jupyter.widget-view+json": {
       "model_id": "2a8acebc4e8a4af7950b516fac3f49bc",
       "version_major": 2,
       "version_minor": 0
      },
      "text/plain": [
       "  0%|          | 0/200 [00:00<?, ?it/s]"
      ]
     },
     "metadata": {},
     "output_type": "display_data"
    },
    {
     "name": "stdout",
     "output_type": "stream",
     "text": [
      "training LL: -16.18  training AIC: 4718467.67  training BIC: 4738167.43  testing LL: -15.97  testing AIC 1095400.96  testing BIC: 1112212.29\n",
      "sample mean rle: 0.26\n",
      "\n",
      "-----------------------------------------------\n",
      "fitting gaussian model with k=10\n"
     ]
    },
    {
     "data": {
      "application/vnd.jupyter.widget-view+json": {
       "model_id": "15f4bdc6ceb84b8ba7996380edb18c9a",
       "version_major": 2,
       "version_minor": 0
      },
      "text/plain": [
       "  0%|          | 0/200 [00:00<?, ?it/s]"
      ]
     },
     "metadata": {},
     "output_type": "display_data"
    },
    {
     "name": "stdout",
     "output_type": "stream",
     "text": [
      "training LL: -16.01  training AIC: 4672048.65  training BIC: 4696871.13  testing LL: -15.82  testing AIC 1086238.52  testing BIC: 1107421.48\n",
      "sample mean rle: 0.26\n",
      "\n",
      "-----------------------------------------------\n",
      "fitting gaussian model with k=15\n"
     ]
    },
    {
     "data": {
      "application/vnd.jupyter.widget-view+json": {
       "model_id": "b66facb1af64487782f925c59124cfdf",
       "version_major": 2,
       "version_minor": 0
      },
      "text/plain": [
       "  0%|          | 0/200 [00:00<?, ?it/s]"
      ]
     },
     "metadata": {},
     "output_type": "display_data"
    },
    {
     "name": "stdout",
     "output_type": "stream",
     "text": [
      "training LL: -15.78  training AIC: 4606719.35  training BIC: 4644694.78  testing LL: -15.61  testing AIC 1074698.66  testing BIC: 1107106.06\n",
      "sample mean rle: 0.23\n",
      "\n",
      "-----------------------------------------------\n",
      "fitting gaussian mixture model with k=1\n",
      "training LL: -20.69  training AIC: 6029608.77  training BIC: 6030943.85  testing LL: -20.69  testing AIC 1414571.88  testing BIC: 1415711.21\n",
      "\n",
      "-----------------------------------------------\n",
      "fitting gaussian mixture model with k=2\n",
      "training LL: -18.08  training AIC: 5269988.35  training BIC: 5272668.39  testing LL: -17.84  testing AIC 1220081.46  testing BIC: 1222368.54\n",
      "\n",
      "-----------------------------------------------\n",
      "fitting gaussian mixture model with k=5\n",
      "training LL: -17.02  training AIC: 4960570.42  training BIC: 4967285.35  testing LL: -16.79  testing AIC 1149313.23  testing BIC: 1155043.60\n",
      "\n",
      "-----------------------------------------------\n",
      "fitting gaussian mixture model with k=8\n",
      "training LL: -16.70  training AIC: 4869949.99  training BIC: 4880699.81  testing LL: -16.49  testing AIC 1129358.14  testing BIC: 1138531.80\n",
      "\n",
      "-----------------------------------------------\n",
      "fitting gaussian mixture model with k=10\n",
      "training LL: -16.63  training AIC: 4849852.34  training BIC: 4863292.08  testing LL: -16.43  testing AIC 1125783.85  testing BIC: 1137253.03\n",
      "\n",
      "-----------------------------------------------\n",
      "fitting gaussian mixture model with k=15\n",
      "training LL: -16.48  training AIC: 4806969.45  training BIC: 4827134.01  testing LL: -16.27  testing AIC 1116347.75  testing BIC: 1133555.74\n",
      "\n",
      "-----------------------------------------------\n"
     ]
    }
   ],
   "source": [
    "# space for results\n",
    "hmm_results = np.zeros((len(ALL_HMM_PARAMS), 8, CV)) # model x train/test scores x folds\n",
    "gmm_results = np.zeros((len(GMM_PARAMS), 8, CV)) # model x train/test scores x folds\n",
    "\n",
    "# transformer\n",
    "for f, (train_idx, test_idx) in enumerate(kfold_idx):\n",
    "    print('FOLD {:}----------------------------------------------'.format(f+1))\n",
    "    train_data = np.array([data[i,:,:].T for i in train_idx])\n",
    "    test_data = np.array([data[i,:,:].T for i in test_idx])\n",
    "    \n",
    "    # standardise PC weights\n",
    "    train_data_scaled = (train_data - np.mean(train_data, axis=1)[:,np.newaxis,:]) / np.std(train_data, axis=1)[:, np.newaxis, :]\n",
    "    test_data_scaled = (test_data - np.mean(test_data, axis=1)[:,np.newaxis,:]) / np.std(test_data, axis=1)[:, np.newaxis, :]\n",
    "    \n",
    "    # take first difference\n",
    "    train_data_diff = np.diff(train_data_scaled, n=1, axis=1)\n",
    "    test_data_diff = np.diff(test_data_scaled, n=1, axis=1)\n",
    "\n",
    "    #time_series = time_series - np.mean(time_series, axis=1)[:,np.newaxis,:]\n",
    "    # global normalise\n",
    "    train_data_diff = train_data_diff / np.std(train_data_diff, axis=(1,2))[:, np.newaxis, np.newaxis]\n",
    "    train_data_diff = [train_data_diff[i] for i in np.arange(len(train_data_diff))]\n",
    "    test_data_diff = test_data_diff / np.std(test_data_diff, axis=(1,2))[:, np.newaxis, np.newaxis]\n",
    "    test_data_diff = [test_data_diff[i] for i in np.arange(len(test_data_diff))]\n",
    "\n",
    "    fig, axs = plt.subplots(5, 1, figsize=(5,8), sharex=True)\n",
    "    for n,ax in enumerate(axs):\n",
    "        sns.lineplot(np.arange(num_features)+train_data_diff[n], lw=.5, dashes=False, ax=ax, legend=False, palette='husl')\n",
    "        ax.set_ylim(-5,25)\n",
    "    axs[0].set_title('data samples')\n",
    "    sns.despine(left=True, bottom=True)\n",
    "    plt.tight_layout()\n",
    "    plt.savefig('outputs/cv-samples/data-samples-fold{:}.png'.format(f), transparent=False, dpi=300)\n",
    "    plt.close()\n",
    "\n",
    "    # parse model parameters\n",
    "    kappa = num_vids * num_timepoints\n",
    "    for n_p, p_set in enumerate(ALL_HMM_PARAMS):\n",
    "        if len(p_set)==3:\n",
    "            obs, k, lag = [*p_set]\n",
    "            model = ssm.HMM(k, num_features, \n",
    "                            init_method='kmeans',\n",
    "                            observations=obs, observation_kwargs={'lags':lag}, \n",
    "                            transitions='standard',# transition_kwargs={'kappa': kappa},\n",
    "                            method='stochastic_em')\n",
    "            \n",
    "            print('fitting {:} model with k={:} and lags={:}'.format(obs, k, lag))\n",
    "            \n",
    "        else:\n",
    "            assert(len(p_set)==2), 'check HMM params'\n",
    "            obs, k = [*p_set]\n",
    "            lag = None\n",
    "            model = ssm.HMM(k, num_features, \n",
    "                            init_method='kmeans',\n",
    "                            observations=obs, \n",
    "                            transitions='standard', #transition_kwargs={'kappa': kappa},\n",
    "                            method='stochastic_em')\n",
    "            \n",
    "            print('fitting {:} model with k={:}'.format(obs, k))\n",
    "        \n",
    "        # model fit\n",
    "        lls = model.fit(train_data_diff, num_iters=ITER, tolerance=TOL)\n",
    "\n",
    "        # record scores\n",
    "        nparams = sum([np.size(i) for i in model.params[-1]] + [np.size(i) for i in model.params[:-1]])\n",
    "        train_eff_n = len(train_data_diff) * len(train_data_diff[0])              \n",
    "        train_score = model.log_likelihood(train_data_diff)    \n",
    "                       \n",
    "        train_av_score = train_score / train_eff_n\n",
    "        train_aic = (-2 * train_score) + (2 * nparams)              \n",
    "        train_bic = (-2 * train_score) + nparams * np.log(train_eff_n)\n",
    "              \n",
    "        test_eff_n = len(test_data_diff) * len(test_data_diff[0])              \n",
    "        test_score = model.log_likelihood(test_data_diff)\n",
    "        \n",
    "        test_av_score = test_score / test_eff_n\n",
    "        test_aic = (-2 * test_score) + (2 * nparams)              \n",
    "        test_bic = (-2 * test_score) + nparams * np.log(test_eff_n)\n",
    "                \n",
    "        print('training LL: {:.2f}  training AIC: {:.2f}  training BIC: {:.2f}  testing LL: {:.2f}  testing AIC {:.2f}  testing BIC: {:.2f}'.format(train_av_score, train_aic, train_bic, test_av_score, test_aic, test_bic))\n",
    "        print('sample mean rle: {:.2f}'.format(np.mean(ssm.util.rle(model.most_likely_states(train_data_diff[0]))[1]) * .1))\n",
    "        print('')\n",
    "        print('-----------------------------------------------')\n",
    "\n",
    "        # store\n",
    "        hmm_results[n_p, 0, f] = train_score\n",
    "        hmm_results[n_p, 1, f] = train_av_score\n",
    "        hmm_results[n_p, 2, f] = train_aic\n",
    "        hmm_results[n_p, 3, f] = train_bic\n",
    "\n",
    "        hmm_results[n_p, 4, f] = test_score\n",
    "        hmm_results[n_p, 5, f] = test_av_score\n",
    "        hmm_results[n_p, 6, f] = test_aic\n",
    "        hmm_results[n_p, 7, f] = test_bic\n",
    "\n",
    "        fig, axs = plt.subplots(5, 1, figsize=(5,8), sharex=True)\n",
    "        for ax in axs:\n",
    "            sns.lineplot(np.arange(num_features)+model.sample(num_timepoints+1000)[1][1000:], lw=.5, dashes=False, ax=ax, legend=False, palette='husl')\n",
    "            ax.set_ylim(-5,25)\n",
    "        axs[0].set_title('model samples')\n",
    "        sns.despine(left=True, bottom=True)\n",
    "        plt.tight_layout()\n",
    "        if lag is not None:\n",
    "            plt.savefig('outputs/cv-samples/HMMmodel-samples-{:}-k{:}-lag{:}-fold{:}.png'.format(obs, k, lag, f), transparent=False, dpi=300)\n",
    "        else:\n",
    "            plt.savefig('outputs/cv-samples/HMMmodel-samples-{:}-k{:}-fold{:}.png'.format(obs, k, f), transparent=False, dpi=300)\n",
    "        plt.close()\n",
    "        \n",
    "        \n",
    "    for n_p, p_set in enumerate(GMM_PARAMS):\n",
    "        obs, k = [*p_set]\n",
    "        \n",
    "        concat_data = np.concatenate(train_data_diff)\n",
    "        \n",
    "        model = GaussianMixture(n_components=k, covariance_type=obs, max_iter=ITER, tol=TOL)\n",
    "        model.fit(concat_data)\n",
    "        \n",
    "        train_av_score = model.score(concat_data)\n",
    "        train_score = train_av_score * len(concat_data)\n",
    "        train_aic = model.aic(concat_data)\n",
    "        train_bic = model.bic(concat_data)\n",
    "\n",
    "        test_av_score = model.score(np.concatenate(test_data_diff))\n",
    "        test_score = test_score * len(np.concatenate(test_data_diff))\n",
    "        test_aic = model.aic(np.concatenate(test_data_diff))\n",
    "        test_bic = model.bic(np.concatenate(test_data_diff))\n",
    "        \n",
    "        print('fitting gaussian mixture model with k={:}'.format(k))\n",
    "        print('training LL: {:.2f}  training AIC: {:.2f}  training BIC: {:.2f}  testing LL: {:.2f}  testing AIC {:.2f}  testing BIC: {:.2f}'.format(train_av_score, train_aic, train_bic, test_av_score, test_aic, test_bic))\n",
    "        print('')\n",
    "        print('-----------------------------------------------')\n",
    "\n",
    "        # store\n",
    "        gmm_results[n_p, 0, f] = train_score\n",
    "        gmm_results[n_p, 1, f] = train_av_score\n",
    "        gmm_results[n_p, 2, f] = train_aic\n",
    "        gmm_results[n_p, 3, f] = train_bic\n",
    "\n",
    "        gmm_results[n_p, 4, f] = test_score\n",
    "        gmm_results[n_p, 5, f] = test_av_score\n",
    "        gmm_results[n_p, 6, f] = test_aic\n",
    "        gmm_results[n_p, 7, f] = test_bic\n",
    "\n",
    "        fig, axs = plt.subplots(5, 1, figsize=(5,8), sharex=True)\n",
    "        for ax in axs:\n",
    "            sns.lineplot(np.arange(num_features)+model.sample(num_timepoints+1000)[0][1000:], lw=.5, dashes=False, ax=ax, legend=False, palette='husl')\n",
    "            ax.set_ylim(-5,25)\n",
    "        axs[0].set_title('model samples')\n",
    "        sns.despine(left=True, bottom=True)\n",
    "        plt.tight_layout()\n",
    "        plt.savefig('outputs/cv-samples/MMmodel-samples-{:}-k{:}-fold{:}.png'.format(obs, k, f), transparent=False)\n",
    "        plt.close()\n",
    "        "
   ]
  },
  {
   "cell_type": "markdown",
   "metadata": {},
   "source": [
    "### Concatenate and save out CV results"
   ]
  },
  {
   "cell_type": "code",
   "execution_count": 16,
   "metadata": {
    "scrolled": true
   },
   "outputs": [],
   "source": [
    "# HMM\n",
    "param_df = pd.DataFrame(ALL_HMM_PARAMS)\n",
    "param_df.fillna(value=0, inplace=True)\n",
    "\n",
    "hmm_results_df = pd.DataFrame()\n",
    "for f in np.arange(CV):\n",
    "    fold_df = pd.DataFrame(pd.concat((param_df, pd.DataFrame(hmm_results[:,:,f])), axis=1))\n",
    "    fold_df.columns = ['obs_model', 'states', 'lag', 'train_LL', 'train_av_LL', 'train_aic', 'train_bic', 'test_LL', 'test_av_LL', 'test_aic', 'test_bic']\n",
    "    fold_df.insert(2, 'fold', [f+1]*len(ALL_HMM_PARAMS))\n",
    "    hmm_results_df = pd.concat((hmm_results_df, fold_df)).reset_index(drop=True)\n",
    "\n",
    "\n",
    "# GMM    \n",
    "param_df = pd.DataFrame(GMM_PARAMS)\n",
    "param_df.fillna(value=0, inplace=True)\n",
    "\n",
    "gmm_results_df = pd.DataFrame()\n",
    "for f in np.arange(CV):\n",
    "    fold_df = pd.DataFrame(pd.concat((param_df, pd.DataFrame(gmm_results[:,:,f])), axis=1))\n",
    "    fold_df.columns = ['obs_model', 'states', 'train_LL', 'train_av_LL', 'train_aic', 'train_bic', 'test_LL', 'test_av_LL', 'test_aic', 'test_bic']\n",
    "    fold_df.insert(2, 'fold', [f+1]*len(GMM_PARAMS))\n",
    "    gmm_results_df = pd.concat((gmm_results_df, fold_df)).reset_index(drop=True)\n",
    "    \n",
    "    \n",
    "all_results = pd.concat((hmm_results_df, gmm_results_df), axis=0, ignore_index=True)\n",
    "all_results.to_csv('outputs/cross-validation-results.csv', index=None)"
   ]
  },
  {
   "cell_type": "markdown",
   "metadata": {},
   "source": [
    "### Plot goodness-of-fit "
   ]
  },
  {
   "cell_type": "code",
   "execution_count": 17,
   "metadata": {},
   "outputs": [],
   "source": [
    "all_results = pd.read_csv('outputs/cross-validation-results.csv')"
   ]
  },
  {
   "cell_type": "code",
   "execution_count": 23,
   "metadata": {},
   "outputs": [
    {
     "data": {
      "image/png": "[encoded data removed]",
      "text/plain": [
       "<Figure size 1000x500 with 2 Axes>"
      ]
     },
     "metadata": {},
     "output_type": "display_data"
    }
   ],
   "source": [
    "FONTSIZE = 16\n",
    "\n",
    "# set legend handle size\n",
    "plt.rcParams['legend.handlelength'] = 1\n",
    "plt.rcParams['legend.handleheight'] = 1\n",
    "\n",
    "# create a figure with two subplots\n",
    "fig, ax = plt.subplots(1, 2, figsize=(10,5), width_ratios=[2, 3])\n",
    "\n",
    "# plot the barplot on the first subplot\n",
    "sns.barplot(all_results.groupby('obs_model').median(numeric_only=True).reset_index(), \n",
    "            x='obs_model', y='test_av_LL', order=['ar','gaussian','full'], \n",
    "            palette=['#84af9c','#fac7d1', '#f590a3'],\n",
    "            ax=ax[0], linewidth=1, edgecolor='black')\n",
    "ax[0].axhline(0, lw=1, c='black')\n",
    "\n",
    "# plot the swarmplot and boxplot on the second subplot\n",
    "sns.swarmplot(data=all_results[all_results['obs_model']=='ar'], \n",
    "                x='states', y='test_aic', hue='lag', \n",
    "                dodge=True, legend=False, \n",
    "                palette=['#84af9c','#fbceae'],\n",
    "                ax=ax[1], edgecolor='black', size=5, linewidth=1) \n",
    "sns.boxplot(data=all_results[all_results['obs_model']=='ar'], \n",
    "                x='states', y='test_aic', hue='lag', \n",
    "                palette=['#84af9c','#fbceae'],\n",
    "                ax=ax[1]) \n",
    "\n",
    "# set y-axis labels for both subplots\n",
    "ax[0].set_ylabel('average LL', fontsize=FONTSIZE)\n",
    "ax[1].set_ylabel(r'AIC ($\\times 10^{-5}$)', fontsize=FONTSIZE)\n",
    "\n",
    "# format y-axis labels for both subplots\n",
    "ax[1].get_yticklabels()\n",
    "ax[1].yaxis.set_major_formatter(FuncFormatter(lambda x, pos: '{:.0f}'.format(x/10000)))\n",
    "\n",
    "# set legend title and label fonts, and format legend labels\n",
    "legend = ax[1].legend()\n",
    "legend.set_title('AR lags')\n",
    "legend.get_title().set_fontsize(FONTSIZE-2)\n",
    "legend.get_title().set_position((10, 0))\n",
    "\n",
    "for handle in legend.get_texts():\n",
    "    handle.set_fontsize(FONTSIZE-2)\n",
    "    #handle.set_text(str(int(float(handle.get_text()))))\n",
    "legend.set_frame_on(False)\n",
    "\n",
    "# format tick labels for both subplots\n",
    "for a in ax:\n",
    "    a.tick_params(axis='both', labelsize=FONTSIZE)\n",
    "\n",
    "# set x-axis labels and ticks for both subplots\n",
    "ax[0].set_xticklabels(['ARHMM', 'HMM', 'GMM'])\n",
    "ax[0].set_xlabel('')\n",
    "ax[1].set_xlabel('number of states', fontsize=FONTSIZE)\n",
    "\n",
    "# adjust subplot spacing\n",
    "plt.tight_layout()\n",
    "plt.savefig('figures/cross_validation_model_fit.png', transparent=False, dpi=350)\n"
   ]
  },
  {
   "cell_type": "markdown",
   "metadata": {},
   "source": [
    "### Refit on full dataset\n",
    "\n",
    "To account for stochasticity - 25 versions of the final model were fit. For each sample, model parameters were averaged over all 25 models for analysis"
   ]
  },
  {
   "cell_type": "code",
   "execution_count": 36,
   "metadata": {},
   "outputs": [
    {
     "name": "stdout",
     "output_type": "stream",
     "text": [
      "data shape:  (486, 15, 1800)\n"
     ]
    },
    {
     "name": "stderr",
     "output_type": "stream",
     "text": [
      "LP: -12729044.0: 100%|██████████| 200/200 [3:31:23<00:00, 63.42s/it]  \n",
      "LP: -12727340.8: 100%|██████████| 200/200 [3:32:21<00:00, 63.71s/it]\n",
      "LP: -12729036.6: 100%|██████████| 200/200 [3:32:51<00:00, 63.86s/it]\n",
      "LP: -12733152.8: 100%|██████████| 200/200 [3:33:57<00:00, 64.19s/it]\n",
      "LP: -12725477.0: 100%|██████████| 200/200 [3:35:06<00:00, 64.53s/it]\n",
      "LP: -12748278.9: 100%|██████████| 200/200 [3:35:44<00:00, 64.72s/it]\n",
      "LP: -12714926.2: 100%|██████████| 200/200 [3:39:39<00:00, 65.90s/it]\n",
      "LP: -12714937.3: 100%|██████████| 200/200 [3:41:35<00:00, 66.48s/it]\n",
      "LP: -12714921.1: 100%|██████████| 200/200 [3:14:06<00:00, 58.23s/it]  \n",
      "LP: -12723562.6: 100%|██████████| 200/200 [3:11:47<00:00, 57.54s/it]\n",
      "LP: -12728967.9: 100%|██████████| 200/200 [3:18:24<00:00, 59.52s/it]\n",
      "LP: -12714930.3: 100%|██████████| 200/200 [3:21:29<00:00, 60.45s/it]\n",
      "LP: -12728027.9: 100%|██████████| 200/200 [3:23:09<00:00, 60.95s/it]\n",
      "LP: -12723461.7: 100%|██████████| 200/200 [3:21:56<00:00, 60.58s/it]\n",
      "LP: -12733411.8: 100%|██████████| 200/200 [3:25:41<00:00, 61.71s/it]\n",
      "LP: -12729991.0: 100%|██████████| 200/200 [3:35:56<00:00, 64.78s/it]\n",
      "LP: -12734769.4: 100%|██████████| 200/200 [3:02:44<00:00, 54.82s/it]  \n",
      "LP: -12715195.8: 100%|██████████| 200/200 [2:55:52<00:00, 52.76s/it]\n",
      "LP: -12723458.3: 100%|██████████| 200/200 [2:50:32<00:00, 51.16s/it]\n",
      "LP: -12725457.8: 100%|██████████| 200/200 [3:14:31<00:00, 58.36s/it]\n",
      "LP: -12725457.7: 100%|██████████| 200/200 [3:10:18<00:00, 57.09s/it]\n",
      "LP: -12715973.1: 100%|██████████| 200/200 [3:10:46<00:00, 57.23s/it]\n",
      "LP: -12725603.1: 100%|██████████| 200/200 [3:06:12<00:00, 55.86s/it]\n",
      "LP: -12733475.2: 100%|██████████| 200/200 [3:07:58<00:00, 56.39s/it]\n",
      "LP: -12723458.3: 100%|██████████| 200/200 [1:35:38<00:00, 28.69s/it]\n"
     ]
    }
   ],
   "source": [
    "# chosen parameters\n",
    "K = 8\n",
    "LAG = 2\n",
    "OBS = 'ar'\n",
    "\n",
    "# load data\n",
    "all_data = np.load('outputs/all_processed_timeseries_data.npy')\n",
    "print('data shape: ', np.shape(all_data))\n",
    "\n",
    "all_data = [i.T for i in all_data]\n",
    "\n",
    "# standardise PC weights\n",
    "all_data_scaled = (all_data - np.mean(all_data, axis=1)[:,np.newaxis,:]) / np.std(all_data, axis=1)[:, np.newaxis, :]\n",
    "\n",
    "# take first difference\n",
    "all_data_diff = np.diff(all_data_scaled, n=1, axis=1)\n",
    "\n",
    "# global normalise\n",
    "all_data_diff = all_data_diff / np.std(all_data_diff, axis=(1,2))[:, np.newaxis, np.newaxis]\n",
    "all_data_diff = [all_data_diff[i] for i in np.arange(len(all_data_diff))]\n",
    "\n",
    "# Train model instances\n",
    "num_reps=25\n",
    "all_models = Parallel(n_jobs=8)(delayed(train_model_parallel)(rep, all_data_diff, obs=OBS, k=K, lag=LAG, num_features=num_features) for rep in np.arange(num_reps))"
   ]
  },
  {
   "cell_type": "markdown",
   "metadata": {},
   "source": [
    "### Save out models and data for further analysis\n",
    "\n",
    "We first select the best fit model based on log-likelihood, then permute state ordering of each model to match the best one. We then create an average model by averaging model parameters over all 25 fitted models."
   ]
  },
  {
   "cell_type": "code",
   "execution_count": 371,
   "metadata": {},
   "outputs": [
    {
     "ename": "TypeError",
     "evalue": "_save_dispatcher() missing 1 required positional argument: 'arr'",
     "output_type": "error",
     "traceback": [
      "\u001b[0;31m---------------------------------------------------------------------------\u001b[0m",
      "\u001b[0;31mTypeError\u001b[0m                                 Traceback (most recent call last)",
      "Cell \u001b[0;32mIn[371], line 56\u001b[0m\n\u001b[1;32m     53\u001b[0m     pickle\u001b[38;5;241m.\u001b[39mdump(average_model, fp)\n\u001b[1;32m     55\u001b[0m \u001b[38;5;66;03m# save out data\u001b[39;00m\n\u001b[0;32m---> 56\u001b[0m \u001b[43mnp\u001b[49m\u001b[38;5;241;43m.\u001b[39;49m\u001b[43msave\u001b[49m\u001b[43m(\u001b[49m\u001b[38;5;124;43m'\u001b[39;49m\u001b[38;5;124;43moutputs/all_processed_timeseries_data_differences_normalised.npy\u001b[39;49m\u001b[38;5;124;43m'\u001b[39;49m\u001b[43m)\u001b[49m\n",
      "File \u001b[0;32m~/PROJECTS/babyMoves/state-space/state-space-env/lib/python3.10/site-packages/autograd/tracer.py:48\u001b[0m, in \u001b[0;36mprimitive.<locals>.f_wrapped\u001b[0;34m(*args, **kwargs)\u001b[0m\n\u001b[1;32m     46\u001b[0m     \u001b[38;5;28;01mreturn\u001b[39;00m new_box(ans, trace, node)\n\u001b[1;32m     47\u001b[0m \u001b[38;5;28;01melse\u001b[39;00m:\n\u001b[0;32m---> 48\u001b[0m     \u001b[38;5;28;01mreturn\u001b[39;00m \u001b[43mf_raw\u001b[49m\u001b[43m(\u001b[49m\u001b[38;5;241;43m*\u001b[39;49m\u001b[43margs\u001b[49m\u001b[43m,\u001b[49m\u001b[43m \u001b[49m\u001b[38;5;241;43m*\u001b[39;49m\u001b[38;5;241;43m*\u001b[39;49m\u001b[43mkwargs\u001b[49m\u001b[43m)\u001b[49m\n",
      "File \u001b[0;32m<__array_function__ internals>:179\u001b[0m, in \u001b[0;36msave\u001b[0;34m(*args, **kwargs)\u001b[0m\n",
      "\u001b[0;31mTypeError\u001b[0m: _save_dispatcher() missing 1 required positional argument: 'arr'"
     ]
    }
   ],
   "source": [
    "# save out models\n",
    "with open('outputs/all-models.pkl', 'wb') as fp:\n",
    "    pickle.dump(all_models, fp)\n",
    "    \n",
    "# gather likelihood scores\n",
    "lls = [m.log_likelihood(all_data_diff) for m in all_models]\n",
    "\n",
    "# predict state sequences\n",
    "all_orig_states = []\n",
    "for m in all_models:\n",
    "    all_orig_states.append(np.concatenate([m.most_likely_states(d) for d in all_data_diff]))\n",
    "    \n",
    "# use sequences to permute all model states to match best model\n",
    "best_model = lls.index(np.max(lls))\n",
    "for n,m in enumerate(all_models):\n",
    "    m.permute(ssm.util.find_permutation(all_orig_states[best_model], all_orig_states[n]))\n",
    "\n",
    "# save out aligned models\n",
    "with open('outputs/all-models-aligned.pkl', 'wb') as fp:\n",
    "    pickle.dump(all_models, fp)\n",
    "    \n",
    "# average model parameters\n",
    "# init state distribution\n",
    "av_init_state_distn = [m.params[0][0] for m in all_models_aligned]\n",
    "av_init_state_distn = tuple((np.stack(av_init_state_distn).mean(0))[np.newaxis,])\n",
    "\n",
    "# transition params\n",
    "av_transitions = [m.params[1][0] for m in all_models_aligned]\n",
    "av_transitions = tuple((np.stack(av_transitions).mean(0))[np.newaxis,])\n",
    "\n",
    "# observation params\n",
    "av_As = [m.params[2][0] for m in all_models_aligned]\n",
    "av_As = np.stack(av_As).mean(0)\n",
    "\n",
    "av_Bs = [m.params[2][1] for m in all_models_aligned]\n",
    "av_Bs = np.stack(av_Bs).mean(0)\n",
    "\n",
    "av_Vs = [m.params[2][2] for m in all_models_aligned]\n",
    "av_Vs = np.stack(av_Vs).mean(0)\n",
    "\n",
    "av_Sigmas = [m.params[2][3] for m in all_models_aligned]\n",
    "av_Sigmas = np.stack(av_Sigmas).mean(0)\n",
    "\n",
    "# all together now\n",
    "average_params = tuple([(av_init_state_distn), av_transitions, tuple((av_As, av_Bs, av_Vs, av_Sigmas))])\n",
    "\n",
    "# set parameters\n",
    "average_model = copy.deepcopy(all_models_aligned[best_model])\n",
    "average_model.params = average_params\n",
    "\n",
    "# save out\n",
    "with open('outputs/average-model.pkl', 'wb') as fp:\n",
    "    pickle.dump(average_model, fp)\n",
    "    \n",
    "# save out data\n",
    "np.save('outputs/all_model_data.npy', all_data_diff)"
   ]
  }
 ],
 "metadata": {
  "kernelspec": {
   "display_name": "Python 3 (ipykernel)",
   "language": "python",
   "name": "python3"
  },
  "language_info": {
   "codemirror_mode": {
    "name": "ipython",
    "version": 3
   },
   "file_extension": ".py",
   "mimetype": "text/x-python",
   "name": "python",
   "nbconvert_exporter": "python",
   "pygments_lexer": "ipython3",
   "version": "3.10.9"
  }
 },
 "nbformat": 4,
 "nbformat_minor": 4
}
