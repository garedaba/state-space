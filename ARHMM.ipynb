{
 "cells": [
  {
   "cell_type": "code",
   "execution_count": 1,
   "metadata": {},
   "outputs": [],
   "source": [
    "import sys\n",
    "import os\n",
    "import ssm\n",
    "import itertools\n",
    "import pickle \n",
    "\n",
    "import autograd.numpy          as np\n",
    "import pandas                  as pd\n",
    "\n",
    "import matplotlib.pyplot       as plt\n",
    "import seaborn                 as sns\n",
    "from   matplotlib.ticker       import FuncFormatter\n",
    "\n",
    "\n",
    "from   sklearn.model_selection import KFold\n",
    "from   sklearn.mixture         import GaussianMixture\n",
    "\n",
    "sns.set_style(\"white\")\n",
    "#sns.set_context(\"talk\")"
   ]
  },
  {
   "cell_type": "markdown",
   "metadata": {},
   "source": [
    "## Autoregressive Hidden Markov Models for modelling baby movement\n",
    "Using the [ssm](https://github.com/lindermanlab/ssm) package.  \n",
    "\n",
    "### Aims\n",
    "- Fit (AR)HMM models to pre-processed movement data  \n",
    "- Compare model fit when including autoregressive terms in observations  \n",
    "- Use cross-validation to determine number of hidden states and lag\n",
    "\n",
    "Using Hidden Markov Models (HMM), a continuous, $D$-dimension $\\times$ $t$-timestep timeseries, $X$, can be modelled as a Markov process, $Z$, with a set of $K$ hidden states, {$z_1$, $z_2$, $...$, $z_k$}, that are not directly observable. Each state is associated with a $D$-dimensional mean $\\mu_k$ and $D \\times D$ covariance matrix $S_k$ from which the multivariate observations are drawn at each time step. The hidden states are assumed to progress as a Markov process, where the next state is dependent only on the current state: $p(z_t | z_{t-1})$. Switches between states are governed by a $K \\times K$ transition matrix, $T$ containing state transition probabilities, $\\phi$, where $\\phi_{zz'}$ indicates the probability of transitioning from state $z$ at time $t$ to state $z'$ at time $t+1$. As any given state is only dependent on the previous state, HMMs do not capture autocorrelations in timeseries data.\n",
    "\n",
    "In an AutoRegressive HMM (ARHMM), the observations, $x_t$ at time $t$ are dependent on $both$ the hidden state, $z_t$, and the observations at previous timespoints, {$x_{t-1}$, $x_{t-2}$, $...$, $x_{t-n}$} with $n$ determined by the degree of lag specified. As such the observation model for a given state, $z_k$, is defined as:\n",
    "\n",
    "$$ x_t | x_{t-1:L}, z_k \\sim N(\\sum_{l=1}^LA_k^{(l)}x_{t-l}+b_k,S_k)$$   \n",
    "\n",
    ".... i think this is the right formulation for multiple lags...\n",
    "\n",
    "where $x_t$ is a set of observations at time $t$, $A_k^{(l)}$ is a matrix containing the linear dynamics for the given state (the relationship between observations at time $t$ and at a given lag, $l$), $b_k$ is a state-dependent bias (average value of each variable in each state) and $S_k$ is a state-dependent covariance function, modelling observation noise.\n",
    "\n",
    "<img src=\"graphical_model.png\" width=\"500\"/>\n",
    "\n",
    "\n"
   ]
  },
  {
   "cell_type": "markdown",
   "metadata": {},
   "source": [
    "### Parameters"
   ]
  },
  {
   "cell_type": "code",
   "execution_count": 2,
   "metadata": {},
   "outputs": [],
   "source": [
    "CV = 5 # number of cross-validation folds\n",
    "ITER = 200\n",
    "TOL = 1e-2\n",
    "\n",
    "# ARHMM\n",
    "ARHMM_OBS = ['ar']\n",
    "ARHMM_K = [1, 2, 5, 8, 10, 15, 20, 25] #k=1 is standard AR\n",
    "ARHMM_LAGS = [1, 2]\n",
    "ARHMM_PARAMS = list(itertools.product(ARHMM_OBS, ARHMM_K, ARHMM_LAGS))\n",
    "\n",
    "# HMM (no autoregression)\n",
    "HMM_OBS = ['gaussian']\n",
    "HMM_K = [1, 2, 5, 8, 10, 15, 20, 25]\n",
    "HMM_PARAMS = list(itertools.product(HMM_OBS, HMM_K))\n",
    "\n",
    "ALL_HMM_PARAMS =  ARHMM_PARAMS + HMM_PARAMS\n",
    "\n",
    "# GMM (no state progression)\n",
    "GMM_OBS = ['full']\n",
    "GMM_K = [1, 2, 5, 8, 10, 15, 20, 25]\n",
    "\n",
    "GMM_PARAMS = list(itertools.product(GMM_OBS, GMM_K))\n",
    "\n",
    "RAND_STATE = 1001"
   ]
  },
  {
   "cell_type": "markdown",
   "metadata": {},
   "source": [
    "### Load preprocessed data\n",
    "\n",
    "Data represents a $subject \\times feature \\times timepoint$ array. Where $features$ are the framewise velocities (first derivative) of principal movements extracted from keypoint trajectory data. Subect data are split into cross-validation folds, ensuring no subject has video in both test and train in any given fold."
   ]
  },
  {
   "cell_type": "code",
   "execution_count": 3,
   "metadata": {},
   "outputs": [
    {
     "name": "stdout",
     "output_type": "stream",
     "text": [
      "data shape:  (100, 15, 1800)\n"
     ]
    }
   ],
   "source": [
    "data = np.load('outputs/random_subset_processed_timeseries_data.npy')\n",
    "info = pd.read_csv('outputs/random_subset_info.csv')\n",
    "os.makedirs('outputs/cv-samples', exist_ok=True)\n",
    "\n",
    "print('data shape: ', np.shape(data))\n",
    "num_vids, num_features, num_timepoints = data.shape\n",
    "\n",
    "#train test \n",
    "# split on participant (not video) to ensure that same subject data are not in both train and test\n",
    "unique_participants = info.drop_duplicates(subset = 'idnum', keep = 'first')\n",
    "X = unique_participants['idnum'].values\n",
    "\n",
    "# get splits\n",
    "kf = KFold(n_splits=CV, shuffle=True, random_state=RAND_STATE).split(X)\n",
    "\n",
    "# get participant train and test ids for each fold\n",
    "kfold_idx = [(X[train_idx], X[test_idx]) for train_idx, test_idx in kf]\n",
    "\n",
    "# get index in 'info' and 'data' for entries that match the unique participant id\n",
    "kfold_idx = [(np.where(info['idnum'].isin(trainidx))[0], np.where(info['idnum'].isin(testidx))[0])  for trainidx, testidx in kfold_idx]\n",
    "\n",
    "# check there are no participants in both train and test in a given fold\n",
    "for k in np.arange(CV):\n",
    "    assert len(set(info.iloc[kfold_idx[k][0]].participant.unique()) & set(info.iloc[kfold_idx[k][1]].participant.unique())) == 0"
   ]
  },
  {
   "cell_type": "markdown",
   "metadata": {},
   "source": [
    "### Run cross-validation\n",
    "HMMs for each parameter set are run in a k-fold cross-valisation with per-observation average log likelihood in both train and test data and AIC as a measure of model fit. The score reflect the likelihood that a given $D$-dimensional observation could have been generated by a given model. We compare ARHMM at different lags and with different states with standard HMM (no autocorrelation) over a number of states and Gaussian Mixture Models (stationary model where observations are simply drawn from separate distributions and we do not model state progression). \n",
    "\n",
    "Models are trained for a maximum of 200 Expectation-Maximisation iterations, stopping early if change in log-likelihood is less than 0.01\n"
   ]
  },
  {
   "cell_type": "code",
   "execution_count": null,
   "metadata": {
    "scrolled": false
   },
   "outputs": [
    {
     "name": "stdout",
     "output_type": "stream",
     "text": [
      "FOLD 1----------------------------------------------\n",
      "fitting ar model with k=1 and lags=1\n"
     ]
    },
    {
     "data": {
      "application/vnd.jupyter.widget-view+json": {
       "model_id": "1cd24164895146b39265159ba5293b63",
       "version_major": 2,
       "version_minor": 0
      },
      "text/plain": [
       "  0%|          | 0/200 [00:00<?, ?it/s]"
      ]
     },
     "metadata": {},
     "output_type": "display_data"
    },
    {
     "name": "stdout",
     "output_type": "stream",
     "text": [
      "training LL: -19.85  training AIC: 5571175.59  training BIC: 5575776.33  testing LL: -19.89  testing AIC 1575082.19  testing BIC: 1579091.86\n",
      "sample mean rle: 179.90\n",
      "\n",
      "-----------------------------------------------\n",
      "fitting ar model with k=1 and lags=2\n"
     ]
    },
    {
     "data": {
      "application/vnd.jupyter.widget-view+json": {
       "model_id": "24c04cd3c7c944beb0e4136756e58b35",
       "version_major": 2,
       "version_minor": 0
      },
      "text/plain": [
       "  0%|          | 0/200 [00:00<?, ?it/s]"
      ]
     },
     "metadata": {},
     "output_type": "display_data"
    },
    {
     "name": "stdout",
     "output_type": "stream",
     "text": [
      "training LL: -19.34  training AIC: 5427919.99  training BIC: 5434737.37  testing LL: -19.27  testing AIC 1526954.59  testing BIC: 1532896.12\n",
      "sample mean rle: 179.90\n",
      "\n",
      "-----------------------------------------------\n",
      "fitting ar model with k=2 and lags=1\n"
     ]
    },
    {
     "data": {
      "application/vnd.jupyter.widget-view+json": {
       "model_id": "ca980077f14e498081450baab5acc280",
       "version_major": 2,
       "version_minor": 0
      },
      "text/plain": [
       "  0%|          | 0/200 [00:00<?, ?it/s]"
      ]
     },
     "metadata": {},
     "output_type": "display_data"
    },
    {
     "name": "stdout",
     "output_type": "stream",
     "text": [
      "training LL: -16.96  training AIC: 4762094.94  training BIC: 4771316.12  testing LL: -17.09  testing AIC 1354863.22  testing BIC: 1362899.74\n",
      "sample mean rle: 0.47\n",
      "\n",
      "-----------------------------------------------\n",
      "fitting ar model with k=2 and lags=2\n"
     ]
    },
    {
     "data": {
      "application/vnd.jupyter.widget-view+json": {
       "model_id": "41452f2f6b5843bd921b67b0aafd7a2c",
       "version_major": 2,
       "version_minor": 0
      },
      "text/plain": [
       "  0%|          | 0/200 [00:00<?, ?it/s]"
      ]
     },
     "metadata": {},
     "output_type": "display_data"
    },
    {
     "name": "stdout",
     "output_type": "stream",
     "text": [
      "training LL: -16.52  training AIC: 4639911.25  training BIC: 4653565.70  testing LL: -16.57  testing AIC 1314363.33  testing BIC: 1326263.56\n",
      "sample mean rle: 0.46\n",
      "\n",
      "-----------------------------------------------\n",
      "fitting ar model with k=5 and lags=1\n"
     ]
    },
    {
     "data": {
      "application/vnd.jupyter.widget-view+json": {
       "model_id": "8b220818e1524ae39e97d3d9477bb023",
       "version_major": 2,
       "version_minor": 0
      },
      "text/plain": [
       "  0%|          | 0/200 [00:00<?, ?it/s]"
      ]
     },
     "metadata": {},
     "output_type": "display_data"
    },
    {
     "name": "stdout",
     "output_type": "stream",
     "text": [
      "training LL: -15.61  training AIC: 4384698.06  training BIC: 4407898.81  testing LL: -15.75  testing AIC 1251201.66  testing BIC: 1271421.76\n",
      "sample mean rle: 0.27\n",
      "\n",
      "-----------------------------------------------\n",
      "fitting ar model with k=5 and lags=2\n"
     ]
    },
    {
     "data": {
      "application/vnd.jupyter.widget-view+json": {
       "model_id": "017463fbb6384237b7b0d3ce17a2abd1",
       "version_major": 2,
       "version_minor": 0
      },
      "text/plain": [
       "  0%|          | 0/200 [00:00<?, ?it/s]"
      ]
     },
     "metadata": {},
     "output_type": "display_data"
    },
    {
     "name": "stdout",
     "output_type": "stream",
     "text": [
      "training LL: -15.19  training AIC: 4269566.46  training BIC: 4303850.36  testing LL: -15.25  testing AIC 1214333.90  testing BIC: 1244213.28\n",
      "sample mean rle: 0.28\n",
      "\n",
      "-----------------------------------------------\n",
      "fitting ar model with k=8 and lags=1\n"
     ]
    },
    {
     "data": {
      "application/vnd.jupyter.widget-view+json": {
       "model_id": "0190edf2490a4d5bae691d93893d5910",
       "version_major": 2,
       "version_minor": 0
      },
      "text/plain": [
       "  0%|          | 0/200 [00:00<?, ?it/s]"
      ]
     },
     "metadata": {},
     "output_type": "display_data"
    },
    {
     "name": "stdout",
     "output_type": "stream",
     "text": [
      "training LL: -15.24  training AIC: 4285420.35  training BIC: 4322777.97  testing LL: -15.39  testing AIC 1226074.72  testing BIC: 1258632.94\n",
      "sample mean rle: 0.22\n",
      "\n",
      "-----------------------------------------------\n",
      "fitting ar model with k=8 and lags=2\n"
     ]
    },
    {
     "data": {
      "application/vnd.jupyter.widget-view+json": {
       "model_id": "8f8b438b4e21423c8af72d25fa8c1cca",
       "version_major": 2,
       "version_minor": 0
      },
      "text/plain": [
       "  0%|          | 0/200 [00:00<?, ?it/s]"
      ]
     },
     "metadata": {},
     "output_type": "display_data"
    },
    {
     "name": "stdout",
     "output_type": "stream",
     "text": [
      "training LL: -14.80  training AIC: 4163369.98  training BIC: 4218460.66  testing LL: -14.91  testing AIC 1191633.23  testing BIC: 1239646.30\n",
      "sample mean rle: 0.23\n",
      "\n",
      "-----------------------------------------------\n",
      "fitting ar model with k=10 and lags=1\n"
     ]
    },
    {
     "data": {
      "application/vnd.jupyter.widget-view+json": {
       "model_id": "e9cd9818f8114205889a0c47ec3d5545",
       "version_major": 2,
       "version_minor": 0
      },
      "text/plain": [
       "  0%|          | 0/200 [00:00<?, ?it/s]"
      ]
     },
     "metadata": {},
     "output_type": "display_data"
    }
   ],
   "source": [
    "# space for results\n",
    "hmm_results = np.zeros((len(ALL_HMM_PARAMS), 8, CV)) # model x train/test scores x folds\n",
    "gmm_results = np.zeros((len(GMM_PARAMS), 8, CV)) # model x train/test scores x folds\n",
    "\n",
    "# transformer\n",
    "for f, (train_idx, test_idx) in enumerate(kfold_idx):\n",
    "    print('FOLD {:}----------------------------------------------'.format(f+1))\n",
    "    train_data = np.array([data[i,:,:].T for i in train_idx])\n",
    "    test_data = np.array([data[i,:,:].T for i in test_idx])\n",
    "    \n",
    "    # standardise PC weights\n",
    "    train_data_scaled = (train_data - np.mean(train_data, axis=1)[:,np.newaxis,:]) / np.std(train_data, axis=1)[:, np.newaxis, :]\n",
    "    test_data_scaled = (test_data - np.mean(test_data, axis=1)[:,np.newaxis,:]) / np.std(test_data, axis=1)[:, np.newaxis, :]\n",
    "    \n",
    "    # take first difference\n",
    "    train_data_diff = np.diff(train_data_scaled, n=1, axis=1)\n",
    "    test_data_diff = np.diff(test_data_scaled, n=1, axis=1)\n",
    "\n",
    "    #time_series = time_series - np.mean(time_series, axis=1)[:,np.newaxis,:]\n",
    "    # global normalise\n",
    "    train_data_diff = train_data_diff / np.std(train_data_diff, axis=(1,2))[:, np.newaxis, np.newaxis]\n",
    "    train_data_diff = [train_data_diff[i] for i in np.arange(len(train_data_diff))]\n",
    "    test_data_diff = test_data_diff / np.std(test_data_diff, axis=(1,2))[:, np.newaxis, np.newaxis]\n",
    "    test_data_diff = [test_data_diff[i] for i in np.arange(len(test_data_diff))]\n",
    "\n",
    "    fig, axs = plt.subplots(5, 1, figsize=(5,8), sharex=True)\n",
    "    for n,ax in enumerate(axs):\n",
    "        sns.lineplot(np.arange(num_features)+train_data_diff[n], lw=.5, dashes=False, ax=ax, legend=False, palette='husl')\n",
    "        ax.set_ylim(-5,25)\n",
    "    axs[0].set_title('data samples')\n",
    "    sns.despine(left=True, bottom=True)\n",
    "    plt.tight_layout()\n",
    "    plt.savefig('outputs/cv-samples/data-samples-fold{:}.png'.format(f), transparent=False, dpi=300)\n",
    "    plt.close()\n",
    "\n",
    "    # parse model parameters\n",
    "    kappa = num_vids * num_timepoints\n",
    "    for n_p, p_set in enumerate(ALL_HMM_PARAMS):\n",
    "        if len(p_set)==3:\n",
    "            obs, k, lag = [*p_set]\n",
    "            model = ssm.HMM(k, num_features, \n",
    "                            init_method='kmeans',\n",
    "                            observations=obs, observation_kwargs={'lags':lag}, \n",
    "                            transitions='standard',# transition_kwargs={'kappa': kappa},\n",
    "                            method='stochastic_em')\n",
    "            \n",
    "            print('fitting {:} model with k={:} and lags={:}'.format(obs, k, lag))\n",
    "            \n",
    "        else:\n",
    "            assert(len(p_set)==2), 'check HMM params'\n",
    "            obs, k = [*p_set]\n",
    "            lag = None\n",
    "            model = ssm.HMM(k, num_features, \n",
    "                            init_method='kmeans',\n",
    "                            observations=obs, \n",
    "                            transitions='standard', #transition_kwargs={'kappa': kappa},\n",
    "                            method='stochastic_em')\n",
    "            \n",
    "            print('fitting {:} model with k={:}'.format(obs, k))\n",
    "        \n",
    "        # model fit\n",
    "        lls = model.fit(train_data_diff, num_iters=ITER, tolerance=TOL)\n",
    "\n",
    "        # record scores\n",
    "        nparams = sum([np.size(i) for i in model.params[-1]] + [np.size(i) for i in model.params[:-1]])\n",
    "        train_eff_n = len(train_data_diff) * len(train_data_diff[0])              \n",
    "        train_score = model.log_likelihood(train_data_diff)    \n",
    "                       \n",
    "        train_av_score = train_score / train_eff_n\n",
    "        train_aic = (-2 * train_score) + (2 * nparams)              \n",
    "        train_bic = (-2 * train_score) + nparams * np.log(train_eff_n)\n",
    "              \n",
    "        test_eff_n = len(test_data_diff) * len(test_data_diff[0])              \n",
    "        test_score = model.log_likelihood(test_data_diff)\n",
    "        \n",
    "        test_av_score = test_score / test_eff_n\n",
    "        test_aic = (-2 * test_score) + (2 * nparams)              \n",
    "        test_bic = (-2 * test_score) + nparams * np.log(test_eff_n)\n",
    "                \n",
    "        print('training LL: {:.2f}  training AIC: {:.2f}  training BIC: {:.2f}  testing LL: {:.2f}  testing AIC {:.2f}  testing BIC: {:.2f}'.format(train_av_score, train_aic, train_bic, test_av_score, test_aic, test_bic))\n",
    "        print('sample mean rle: {:.2f}'.format(np.mean(ssm.util.rle(model.most_likely_states(train_data_diff[0]))[1]) * .1))\n",
    "        print('')\n",
    "        print('-----------------------------------------------')\n",
    "\n",
    "        # store\n",
    "        hmm_results[n_p, 0, f] = train_score\n",
    "        hmm_results[n_p, 1, f] = train_av_score\n",
    "        hmm_results[n_p, 2, f] = train_aic\n",
    "        hmm_results[n_p, 3, f] = train_bic\n",
    "\n",
    "        hmm_results[n_p, 4, f] = test_score\n",
    "        hmm_results[n_p, 5, f] = test_av_score\n",
    "        hmm_results[n_p, 6, f] = test_aic\n",
    "        hmm_results[n_p, 7, f] = test_bic\n",
    "\n",
    "        fig, axs = plt.subplots(5, 1, figsize=(5,8), sharex=True)\n",
    "        for ax in axs:\n",
    "            sns.lineplot(np.arange(num_features)+model.sample(num_timepoints+1000)[1][1000:], lw=.5, dashes=False, ax=ax, legend=False, palette='husl')\n",
    "            ax.set_ylim(-5,25)\n",
    "        axs[0].set_title('model samples')\n",
    "        sns.despine(left=True, bottom=True)\n",
    "        plt.tight_layout()\n",
    "        if lag is not None:\n",
    "            plt.savefig('outputs/cv-samples/HMMmodel-samples-{:}-k{:}-lag{:}-fold{:}.png'.format(obs, k, lag, f), transparent=False, dpi=300)\n",
    "        else:\n",
    "            plt.savefig('outputs/cv-samples/HMMmodel-samples-{:}-k{:}-fold{:}.png'.format(obs, k, f), transparent=False, dpi=300)\n",
    "        plt.close()\n",
    "        \n",
    "        \n",
    "    for n_p, p_set in enumerate(GMM_PARAMS):\n",
    "        obs, k = [*p_set]\n",
    "        \n",
    "        concat_data = np.concatenate(train_data_diff)\n",
    "        \n",
    "        model = GaussianMixture(n_components=k, covariance_type=obs, max_iter=ITER, tol=TOL)\n",
    "        model.fit(concat_data)\n",
    "        \n",
    "        train_av_score = model.score(concat_data)\n",
    "        train_score = train_av_score * len(concat_data)\n",
    "        train_aic = model.aic(concat_data)\n",
    "        train_bic = model.bic(concat_data)\n",
    "\n",
    "        test_av_score = model.score(np.concatenate(test_data_diff))\n",
    "        test_score = test_score * len(np.concatenate(test_data_diff))\n",
    "        test_aic = model.aic(np.concatenate(test_data_diff))\n",
    "        test_bic = model.bic(np.concatenate(test_data_diff))\n",
    "        \n",
    "        print('fitting gaussian mixture model with k={:}'.format(k))\n",
    "        print('training LL: {:.2f}  training AIC: {:.2f}  training BIC: {:.2f}  testing LL: {:.2f}  testing AIC {:.2f}  testing BIC: {:.2f}'.format(train_av_score, train_aic, train_bic, test_av_score, test_aic, test_bic))\n",
    "        print('')\n",
    "        print('-----------------------------------------------')\n",
    "\n",
    "        # store\n",
    "        gmm_results[n_p, 0, f] = train_score\n",
    "        gmm_results[n_p, 1, f] = train_av_score\n",
    "        gmm_results[n_p, 2, f] = train_aic\n",
    "        gmm_results[n_p, 3, f] = train_bic\n",
    "\n",
    "        gmm_results[n_p, 4, f] = test_score\n",
    "        gmm_results[n_p, 5, f] = test_av_score\n",
    "        gmm_results[n_p, 6, f] = test_aic\n",
    "        gmm_results[n_p, 7, f] = test_bic\n",
    "\n",
    "        fig, axs = plt.subplots(5, 1, figsize=(5,8), sharex=True)\n",
    "        for ax in axs:\n",
    "            sns.lineplot(np.arange(num_features)+model.sample(num_timepoints+1000)[0][1000:], lw=.5, dashes=False, ax=ax, legend=False, palette='husl')\n",
    "            ax.set_ylim(-5,25)\n",
    "        axs[0].set_title('model samples')\n",
    "        sns.despine(left=True, bottom=True)\n",
    "        plt.tight_layout()\n",
    "        plt.savefig('outputs/cv-samples/MMmodel-samples-{:}-k{:}-fold{:}.png'.format(obs, k, f), transparent=False)\n",
    "        plt.close()\n",
    "        "
   ]
  },
  {
   "cell_type": "markdown",
   "metadata": {},
   "source": [
    "### Concatenate and save out CV results"
   ]
  },
  {
   "cell_type": "code",
   "execution_count": 5,
   "metadata": {
    "scrolled": true
   },
   "outputs": [],
   "source": [
    "# HMM\n",
    "param_df = pd.DataFrame(ALL_HMM_PARAMS)\n",
    "param_df.fillna(value=0, inplace=True)\n",
    "\n",
    "hmm_results_df = pd.DataFrame()\n",
    "for f in np.arange(CV):\n",
    "    fold_df = pd.DataFrame(pd.concat((param_df, pd.DataFrame(hmm_results[:,:,f])), axis=1))\n",
    "    fold_df.columns = ['obs_model', 'states', 'lag', 'train_LL', 'train_av_LL', 'train_aic', 'train_bic', 'test_LL', 'test_av_LL', 'test_aic', 'test_bic']\n",
    "    fold_df.insert(2, 'fold', [f+1]*len(ALL_HMM_PARAMS))\n",
    "    hmm_results_df = pd.concat((hmm_results_df, fold_df)).reset_index(drop=True)\n",
    "\n",
    "\n",
    "# GMM    \n",
    "param_df = pd.DataFrame(GMM_PARAMS)\n",
    "param_df.fillna(value=0, inplace=True)\n",
    "\n",
    "gmm_results_df = pd.DataFrame()\n",
    "for f in np.arange(CV):\n",
    "    fold_df = pd.DataFrame(pd.concat((param_df, pd.DataFrame(gmm_results[:,:,f])), axis=1))\n",
    "    fold_df.columns = ['obs_model', 'states', 'train_LL', 'train_av_LL', 'train_aic', 'train_bic', 'test_LL', 'test_av_LL', 'test_aic', 'test_bic']\n",
    "    fold_df.insert(2, 'fold', [f+1]*len(GMM_PARAMS))\n",
    "    gmm_results_df = pd.concat((gmm_results_df, fold_df)).reset_index(drop=True)\n",
    "    \n",
    "    \n",
    "all_results = pd.concat((hmm_results_df, gmm_results_df), axis=0, ignore_index=True)\n",
    "all_results.to_csv('outputs/cross-validation-results.csv', index=None)"
   ]
  },
  {
   "cell_type": "markdown",
   "metadata": {},
   "source": [
    "### Plot goodness-of-fit "
   ]
  },
  {
   "cell_type": "code",
   "execution_count": 6,
   "metadata": {},
   "outputs": [],
   "source": [
    "all_results = pd.read_csv('outputs/cross-validation-results.csv')"
   ]
  },
  {
   "cell_type": "code",
   "execution_count": 7,
   "metadata": {},
   "outputs": [
    {
     "data": {
      "image/png": "[encoded data removed]",
      "text/plain": [
       "<Figure size 1000x500 with 2 Axes>"
      ]
     },
     "metadata": {},
     "output_type": "display_data"
    }
   ],
   "source": [
    "FONTSIZE = 16\n",
    "\n",
    "# set legend handle size\n",
    "plt.rcParams['legend.handlelength'] = 1\n",
    "plt.rcParams['legend.handleheight'] = 1\n",
    "\n",
    "# create a figure with two subplots\n",
    "fig, ax = plt.subplots(1, 2, figsize=(10,5), width_ratios=[2, 3])\n",
    "\n",
    "# plot the barplot on the first subplot\n",
    "sns.barplot(all_results.groupby('obs_model').median(numeric_only=True).reset_index(), \n",
    "            x='obs_model', y='test_av_LL', order=['ar','gaussian','full'], \n",
    "            palette=['#84af9c','#fac7d1', '#f590a3'],\n",
    "            ax=ax[0], linewidth=1, edgecolor='black')\n",
    "ax[0].axhline(0, lw=1, c='black')\n",
    "\n",
    "# plot the swarmplot and boxplot on the second subplot\n",
    "sns.swarmplot(data=all_results[all_results['obs_model']=='ar'], \n",
    "                x='states', y='test_aic', hue='lag', \n",
    "                dodge=True, legend=False, \n",
    "                palette=['#84af9c','#a3dfc9','#fbceae'],\n",
    "                ax=ax[1], edgecolor='black', size=5, linewidth=1) \n",
    "sns.boxplot(data=all_results[all_results['obs_model']=='ar'], \n",
    "                x='states', y='test_aic', hue='lag', \n",
    "                palette=['#84af9c','#a3dfc9','#fbceae'],\n",
    "                ax=ax[1]) \n",
    "\n",
    "# set y-axis labels for both subplots\n",
    "ax[0].set_ylabel('average LL', fontsize=FONTSIZE)\n",
    "ax[1].set_ylabel(r'AIC ($\\times 10^{-5}$)', fontsize=FONTSIZE)\n",
    "\n",
    "# format y-axis labels for both subplots\n",
    "ax[1].get_yticklabels()\n",
    "ax[1].yaxis.set_major_formatter(FuncFormatter(lambda x, pos: '{:.0f}'.format(x/10000)))\n",
    "\n",
    "# set legend title and label fonts, and format legend labels\n",
    "legend = ax[1].legend()\n",
    "legend.set_title('AR lags')\n",
    "legend.get_title().set_fontsize(FONTSIZE-2)\n",
    "legend.get_title().set_position((10, 0))\n",
    "\n",
    "for handle in legend.get_texts():\n",
    "    handle.set_fontsize(FONTSIZE-2)\n",
    "    #handle.set_text(str(int(float(handle.get_text()))))\n",
    "legend.set_frame_on(False)\n",
    "\n",
    "# format tick labels for both subplots\n",
    "for a in ax:\n",
    "    a.tick_params(axis='both', labelsize=FONTSIZE)\n",
    "\n",
    "# set x-axis labels and ticks for both subplots\n",
    "ax[0].set_xticklabels(['AR(p)', 'HMM', 'GMM'])\n",
    "ax[0].set_xlabel('')\n",
    "ax[1].set_xlabel('number of states', fontsize=FONTSIZE)\n",
    "\n",
    "# adjust subplot spacing\n",
    "plt.tight_layout()\n",
    "plt.savefig('figures/cross_validation_model_fit.png', transparent=False, dpi=350)\n"
   ]
  },
  {
   "cell_type": "markdown",
   "metadata": {},
   "source": [
    "### Refit on full dataset\n",
    "\n",
    "To account for stochasticity - 25 versions of the final model were fit. For each sample, modal state estimates and median transition matrix over all 25 models were used for analysis"
   ]
  },
  {
   "cell_type": "code",
   "execution_count": 8,
   "metadata": {},
   "outputs": [
    {
     "name": "stdout",
     "output_type": "stream",
     "text": [
      "data shape:  (486, 1800, 20)\n"
     ]
    },
    {
     "data": {
      "application/vnd.jupyter.widget-view+json": {
       "model_id": "39621dd1259a4a6ab97d568c372c8fdf",
       "version_major": 2,
       "version_minor": 0
      },
      "text/plain": [
       "  0%|          | 0/1000 [00:00<?, ?it/s]"
      ]
     },
     "metadata": {},
     "output_type": "display_data"
    }
   ],
   "source": [
    "# chosen parameters\n",
    "K = 15\n",
    "LAG = 2\n",
    "OBS = 'ar'\n",
    "REG = 100\n",
    "\n",
    "# load data\n",
    "all_data = np.load('outputs/all_processed_timeseries_data.npy')\n",
    "all_data = [i.T for i in all_data]\n",
    "print('data shape: ', np.shape(all_data))\n",
    "\n",
    "# quantile transform\n",
    "qt.fit(np.concatenate(all_data), 0)\n",
    "\n",
    "# scale to unit SD\n",
    "data_scaled = [qt.transform(i) for i in all_data]\n",
    "\n",
    "# fit model\n",
    "full_model = ssm.HMM(K, all_data[0].shape[-1], \n",
    "                     observations=OBS, \n",
    "                     observation_kwargs={'lags':LAG, 'l2_penalty_A':REG}, \n",
    "                     transitions='sticky', transition_kwargs={'kappa': 1e8},\n",
    "                     method='em')\n",
    "\n",
    "lls = full_model.fit(data_scaled, num_iters=1000, tolerance=1e-3)\n",
    "\n",
    "# save out\n",
    "pickle.dump(full_model, open('outputs/full_model.pkl', 'wb'))"
   ]
  },
  {
   "cell_type": "code",
   "execution_count": null,
   "metadata": {},
   "outputs": [],
   "source": []
  }
 ],
 "metadata": {
  "kernelspec": {
   "display_name": "Python 3 (ipykernel)",
   "language": "python",
   "name": "python3"
  },
  "language_info": {
   "codemirror_mode": {
    "name": "ipython",
    "version": 3
   },
   "file_extension": ".py",
   "mimetype": "text/x-python",
   "name": "python",
   "nbconvert_exporter": "python",
   "pygments_lexer": "ipython3",
   "version": "3.10.9"
  }
 },
 "nbformat": 4,
 "nbformat_minor": 4
}
